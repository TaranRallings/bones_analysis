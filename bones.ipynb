{
 "cells": [
  {
   "cell_type": "markdown",
   "metadata": {},
   "source": [
    "# Bone-to-Diet Analysis of East African Mammals\n",
    "#### Taran Rallings\n",
    "#### August 1, 2017"
   ]
  },
  {
   "cell_type": "markdown",
   "metadata": {},
   "source": [
    "### Preamble\n",
    "\n",
    "The following is a machine learning analysis of the East African mammal bone data taken from the post-cranial bones ID book and dietary data taken from papers. It runs a few different machine learning algorithms on the data including linear regressions, decision trees, and random forest regressions. These are meant principally as tests of the framework not as final results. \n",
    "\n",
    "The main purpose of the code here is as a foundation. The functions and pipelines found below are intended to be modular and easy to expand upon. It should be fairly simple to make additions that do things like employ large neural networks, map to dirichlet parameters, or include additional mammals. I need to get deeper into the herbivome paper but it looks like there is a way to add herbivomes too.\n"
   ]
  },
  {
   "cell_type": "markdown",
   "metadata": {},
   "source": [
    "#### Next Up\n",
    "* decide proper scaling for linear bone measurements with mass changes\n",
    "* add a dimension reduction (PCA or LDA) to the grid search\n",
    "* transform the diet categories to dirichlet parameters and map directly to those\n"
   ]
  },
  {
   "cell_type": "markdown",
   "metadata": {},
   "source": [
    "## Preparation\n",
    "### Load the Data"
   ]
  },
  {
   "cell_type": "code",
   "execution_count": 1,
   "metadata": {
    "collapsed": true
   },
   "outputs": [],
   "source": [
    "import os # libarary lets you interact directly with the operating system\n",
    "from six.moves import urllib # library lets you call some Py2 functions with Py3 names"
   ]
  },
  {
   "cell_type": "code",
   "execution_count": 2,
   "metadata": {
    "collapsed": true
   },
   "outputs": [],
   "source": [
    "# set path for loading bone-diet data\n",
    "BONES_PATH = \"datasets/\"\n",
    "FILE_NAME = \"pcdiets_V2.csv\""
   ]
  },
  {
   "cell_type": "code",
   "execution_count": 3,
   "metadata": {
    "collapsed": false
   },
   "outputs": [],
   "source": [
    "import pandas as pd # library for handling data in data frames\n",
    "pd.set_option('display.max_columns', 100)\n",
    "\n",
    "# this function loads the bone-diet data from a .csv to a dataframe\n",
    "def load_trait_data(trait_path, file_name):\n",
    "    # bones_path should be a file path to the bones data\n",
    "    # function returns a dataframe\n",
    "    csv_path = os.path.join(trait_path, file_name)\n",
    "    return pd.read_csv(csv_path)"
   ]
  },
  {
   "cell_type": "code",
   "execution_count": 4,
   "metadata": {
    "collapsed": false,
    "scrolled": true
   },
   "outputs": [
    {
     "data": {
      "text/html": [
       "<div>\n",
       "<table border=\"1\" class=\"dataframe\">\n",
       "  <thead>\n",
       "    <tr style=\"text-align: right;\">\n",
       "      <th></th>\n",
       "      <th>common_name</th>\n",
       "      <th>Order</th>\n",
       "      <th>Family</th>\n",
       "      <th>Genus</th>\n",
       "      <th>Species</th>\n",
       "      <th>astragalus</th>\n",
       "      <th>calcaneum_B</th>\n",
       "      <th>calcaneum_length_A</th>\n",
       "      <th>femur_distal_A</th>\n",
       "      <th>femur_distal_B</th>\n",
       "      <th>femur_length</th>\n",
       "      <th>femur_promixal_B</th>\n",
       "      <th>femur_proximal_A</th>\n",
       "      <th>fore_p1_iii</th>\n",
       "      <th>fore_p2_iii</th>\n",
       "      <th>fore_p3_iii</th>\n",
       "      <th>hind_p1_iii</th>\n",
       "      <th>hind_p2_iii</th>\n",
       "      <th>hind_p3_iii</th>\n",
       "      <th>humerus_distal_A</th>\n",
       "      <th>humerus_distal_B</th>\n",
       "      <th>humerus_length_C</th>\n",
       "      <th>humerus_promixal_B</th>\n",
       "      <th>humerus_proximal_A</th>\n",
       "      <th>mass_max_kg</th>\n",
       "      <th>mass_min_kg</th>\n",
       "      <th>metacarpal_A</th>\n",
       "      <th>metacarpal_B</th>\n",
       "      <th>metatarsal_C</th>\n",
       "      <th>metatarsal_D</th>\n",
       "      <th>metacarpal_overall</th>\n",
       "      <th>metatarsal_overall</th>\n",
       "      <th>patella_length</th>\n",
       "      <th>pelvis_A</th>\n",
       "      <th>pelvis_B</th>\n",
       "      <th>pelvis_C</th>\n",
       "      <th>pelvis_D</th>\n",
       "      <th>RU_length_T</th>\n",
       "      <th>RU_distal_A_T</th>\n",
       "      <th>RU_proximal_A</th>\n",
       "      <th>scapula_A</th>\n",
       "      <th>scapula_B</th>\n",
       "      <th>scapula_C</th>\n",
       "      <th>scapula_D</th>\n",
       "      <th>tibia_distal_A</th>\n",
       "      <th>tibia_distal_B</th>\n",
       "      <th>tibia_length (c)</th>\n",
       "      <th>tibia_proximal_A</th>\n",
       "      <th>tibia_proximal_B</th>\n",
       "      <th>ulna_length (c)</th>\n",
       "      <th>ulna_proximal_A</th>\n",
       "      <th>ulna_proximal_B</th>\n",
       "      <th>vertebrae_atlas_female_A ( or no sex)</th>\n",
       "      <th>vertebrae_atlas_female_B ( or no sex)</th>\n",
       "      <th>vertebrae_atlas_female_C ( or no sex)</th>\n",
       "      <th>vertebrae_axis_female_A (or no sex)</th>\n",
       "      <th>vertebrae_axis_female_B (or no sex)</th>\n",
       "      <th>vertebrae_c3_female_A</th>\n",
       "      <th>vertebrae_c3_female_B</th>\n",
       "      <th>vertebrae_c3_female_C</th>\n",
       "      <th>vertebrae_c7_female_A</th>\n",
       "      <th>vertebrae_c7_female_B</th>\n",
       "      <th>vertebrae_c7_female_C</th>\n",
       "      <th>Fruit</th>\n",
       "      <th>Root</th>\n",
       "      <th>Leaf</th>\n",
       "      <th>Woody</th>\n",
       "      <th>Herbaceous</th>\n",
       "    </tr>\n",
       "  </thead>\n",
       "  <tbody>\n",
       "    <tr>\n",
       "      <th>0</th>\n",
       "      <td>ELEPHANT</td>\n",
       "      <td>Proboscidea</td>\n",
       "      <td>Elephantidae</td>\n",
       "      <td>Loxodonta</td>\n",
       "      <td>africana</td>\n",
       "      <td>109.0</td>\n",
       "      <td>NaN</td>\n",
       "      <td>190.0</td>\n",
       "      <td>168.0</td>\n",
       "      <td>100.0</td>\n",
       "      <td>1000</td>\n",
       "      <td>126.0</td>\n",
       "      <td>270.0</td>\n",
       "      <td>80.0</td>\n",
       "      <td>40.0</td>\n",
       "      <td>NaN</td>\n",
       "      <td>70.0</td>\n",
       "      <td>32.0</td>\n",
       "      <td>NaN</td>\n",
       "      <td>117.0</td>\n",
       "      <td>90.5</td>\n",
       "      <td>835</td>\n",
       "      <td>114.0</td>\n",
       "      <td>178.0</td>\n",
       "      <td>6500</td>\n",
       "      <td>3500.0</td>\n",
       "      <td>NaN</td>\n",
       "      <td>NaN</td>\n",
       "      <td>NaN</td>\n",
       "      <td>NaN</td>\n",
       "      <td>NaN</td>\n",
       "      <td>NaN</td>\n",
       "      <td>146.0</td>\n",
       "      <td>142.0</td>\n",
       "      <td>320.0</td>\n",
       "      <td>790.0</td>\n",
       "      <td>850.0</td>\n",
       "      <td>680.0</td>\n",
       "      <td>134.0</td>\n",
       "      <td>94.5</td>\n",
       "      <td>210.0</td>\n",
       "      <td>116.0</td>\n",
       "      <td>187.0</td>\n",
       "      <td>710.0</td>\n",
       "      <td>127.0</td>\n",
       "      <td>79.0</td>\n",
       "      <td>625</td>\n",
       "      <td>157.0</td>\n",
       "      <td>54.0</td>\n",
       "      <td>765.0</td>\n",
       "      <td>85.0</td>\n",
       "      <td>176.0</td>\n",
       "      <td>293.0</td>\n",
       "      <td>193.0</td>\n",
       "      <td>165.0</td>\n",
       "      <td>132.0</td>\n",
       "      <td>220.0</td>\n",
       "      <td>46.5</td>\n",
       "      <td>206.0</td>\n",
       "      <td>141.5</td>\n",
       "      <td>44.0</td>\n",
       "      <td>300.0</td>\n",
       "      <td>145.0</td>\n",
       "      <td>1</td>\n",
       "      <td>1</td>\n",
       "      <td>1</td>\n",
       "      <td>1</td>\n",
       "      <td>1</td>\n",
       "    </tr>\n",
       "    <tr>\n",
       "      <th>1</th>\n",
       "      <td>HIPPO</td>\n",
       "      <td>Artiodactyla</td>\n",
       "      <td>Hippopotamidae</td>\n",
       "      <td>Hippopotamus</td>\n",
       "      <td>amphibius</td>\n",
       "      <td>77.0</td>\n",
       "      <td>126.0</td>\n",
       "      <td>186.0</td>\n",
       "      <td>162.0</td>\n",
       "      <td>107.0</td>\n",
       "      <td>521</td>\n",
       "      <td>82.0</td>\n",
       "      <td>186.0</td>\n",
       "      <td>59.0</td>\n",
       "      <td>35.0</td>\n",
       "      <td>24.0</td>\n",
       "      <td>60.0</td>\n",
       "      <td>37.0</td>\n",
       "      <td>30.0</td>\n",
       "      <td>111.0</td>\n",
       "      <td>60.5</td>\n",
       "      <td>492</td>\n",
       "      <td>96.0</td>\n",
       "      <td>144.0</td>\n",
       "      <td>2633</td>\n",
       "      <td>1135.0</td>\n",
       "      <td>NaN</td>\n",
       "      <td>NaN</td>\n",
       "      <td>NaN</td>\n",
       "      <td>NaN</td>\n",
       "      <td>NaN</td>\n",
       "      <td>NaN</td>\n",
       "      <td>90.0</td>\n",
       "      <td>83.0</td>\n",
       "      <td>350.0</td>\n",
       "      <td>345.0</td>\n",
       "      <td>750.0</td>\n",
       "      <td>NaN</td>\n",
       "      <td>108.0</td>\n",
       "      <td>NaN</td>\n",
       "      <td>86.5</td>\n",
       "      <td>68.5</td>\n",
       "      <td>81.0</td>\n",
       "      <td>403.0</td>\n",
       "      <td>85.0</td>\n",
       "      <td>57.5</td>\n",
       "      <td>333</td>\n",
       "      <td>135.5</td>\n",
       "      <td>56.0</td>\n",
       "      <td>NaN</td>\n",
       "      <td>NaN</td>\n",
       "      <td>NaN</td>\n",
       "      <td>285.0</td>\n",
       "      <td>153.0</td>\n",
       "      <td>140.0</td>\n",
       "      <td>125.0</td>\n",
       "      <td>150.0</td>\n",
       "      <td>55.0</td>\n",
       "      <td>187.0</td>\n",
       "      <td>137.0</td>\n",
       "      <td>51.5</td>\n",
       "      <td>128.0</td>\n",
       "      <td>217.0</td>\n",
       "      <td>0</td>\n",
       "      <td>0</td>\n",
       "      <td>1</td>\n",
       "      <td>0</td>\n",
       "      <td>1</td>\n",
       "    </tr>\n",
       "    <tr>\n",
       "      <th>2</th>\n",
       "      <td>GIRAFFE</td>\n",
       "      <td>Artiodactyla</td>\n",
       "      <td>Giraffidae</td>\n",
       "      <td>Giraffa</td>\n",
       "      <td>camelopardalis</td>\n",
       "      <td>77.0</td>\n",
       "      <td>143.0</td>\n",
       "      <td>205.0</td>\n",
       "      <td>147.0</td>\n",
       "      <td>114.0</td>\n",
       "      <td>516</td>\n",
       "      <td>53.0</td>\n",
       "      <td>185.0</td>\n",
       "      <td>132.0</td>\n",
       "      <td>56.0</td>\n",
       "      <td>113.0</td>\n",
       "      <td>117.0</td>\n",
       "      <td>53.0</td>\n",
       "      <td>97.0</td>\n",
       "      <td>122.0</td>\n",
       "      <td>54.5</td>\n",
       "      <td>490</td>\n",
       "      <td>125.0</td>\n",
       "      <td>157.0</td>\n",
       "      <td>1180</td>\n",
       "      <td>1180.0</td>\n",
       "      <td>89.5</td>\n",
       "      <td>49.5</td>\n",
       "      <td>80.0</td>\n",
       "      <td>39.5</td>\n",
       "      <td>633.0</td>\n",
       "      <td>640.0</td>\n",
       "      <td>97.0</td>\n",
       "      <td>99.0</td>\n",
       "      <td>208.0</td>\n",
       "      <td>345.0</td>\n",
       "      <td>515.0</td>\n",
       "      <td>687.0</td>\n",
       "      <td>107.0</td>\n",
       "      <td>111.0</td>\n",
       "      <td>99.0</td>\n",
       "      <td>87.5</td>\n",
       "      <td>94.0</td>\n",
       "      <td>648.0</td>\n",
       "      <td>109.0</td>\n",
       "      <td>71.5</td>\n",
       "      <td>642</td>\n",
       "      <td>161.5</td>\n",
       "      <td>71.0</td>\n",
       "      <td>325.0</td>\n",
       "      <td>48.5</td>\n",
       "      <td>65.0</td>\n",
       "      <td>118.0</td>\n",
       "      <td>92.0</td>\n",
       "      <td>155.0</td>\n",
       "      <td>254.0</td>\n",
       "      <td>125.0</td>\n",
       "      <td>246.0</td>\n",
       "      <td>62.5</td>\n",
       "      <td>75.0</td>\n",
       "      <td>235.0</td>\n",
       "      <td>100.0</td>\n",
       "      <td>183.0</td>\n",
       "      <td>0</td>\n",
       "      <td>0</td>\n",
       "      <td>1</td>\n",
       "      <td>1</td>\n",
       "      <td>0</td>\n",
       "    </tr>\n",
       "    <tr>\n",
       "      <th>3</th>\n",
       "      <td>COLOBUS</td>\n",
       "      <td>Primates</td>\n",
       "      <td>Haplorhini</td>\n",
       "      <td>Colobus</td>\n",
       "      <td>guereza</td>\n",
       "      <td>25.5</td>\n",
       "      <td>NaN</td>\n",
       "      <td>36.5</td>\n",
       "      <td>31.5</td>\n",
       "      <td>16.5</td>\n",
       "      <td>201</td>\n",
       "      <td>14.0</td>\n",
       "      <td>34.0</td>\n",
       "      <td>NaN</td>\n",
       "      <td>NaN</td>\n",
       "      <td>NaN</td>\n",
       "      <td>NaN</td>\n",
       "      <td>NaN</td>\n",
       "      <td>NaN</td>\n",
       "      <td>23.5</td>\n",
       "      <td>10.0</td>\n",
       "      <td>148</td>\n",
       "      <td>148.0</td>\n",
       "      <td>20.5</td>\n",
       "      <td>15</td>\n",
       "      <td>12.0</td>\n",
       "      <td>NaN</td>\n",
       "      <td>NaN</td>\n",
       "      <td>NaN</td>\n",
       "      <td>NaN</td>\n",
       "      <td>NaN</td>\n",
       "      <td>NaN</td>\n",
       "      <td>NaN</td>\n",
       "      <td>24.0</td>\n",
       "      <td>47.0</td>\n",
       "      <td>49.5</td>\n",
       "      <td>154.0</td>\n",
       "      <td>136.0</td>\n",
       "      <td>13.5</td>\n",
       "      <td>12.5</td>\n",
       "      <td>22.0</td>\n",
       "      <td>11.5</td>\n",
       "      <td>17.5</td>\n",
       "      <td>79.5</td>\n",
       "      <td>22.0</td>\n",
       "      <td>16.0</td>\n",
       "      <td>186</td>\n",
       "      <td>32.0</td>\n",
       "      <td>22.5</td>\n",
       "      <td>153.0</td>\n",
       "      <td>10.5</td>\n",
       "      <td>14.5</td>\n",
       "      <td>NaN</td>\n",
       "      <td>NaN</td>\n",
       "      <td>NaN</td>\n",
       "      <td>NaN</td>\n",
       "      <td>NaN</td>\n",
       "      <td>NaN</td>\n",
       "      <td>NaN</td>\n",
       "      <td>NaN</td>\n",
       "      <td>NaN</td>\n",
       "      <td>NaN</td>\n",
       "      <td>NaN</td>\n",
       "      <td>1</td>\n",
       "      <td>0</td>\n",
       "      <td>1</td>\n",
       "      <td>0</td>\n",
       "      <td>0</td>\n",
       "    </tr>\n",
       "    <tr>\n",
       "      <th>4</th>\n",
       "      <td>VERVET</td>\n",
       "      <td>Primates</td>\n",
       "      <td>Cercopithecidae</td>\n",
       "      <td>Chlorocebus</td>\n",
       "      <td>pygerythrus</td>\n",
       "      <td>16.0</td>\n",
       "      <td>NaN</td>\n",
       "      <td>26.5</td>\n",
       "      <td>19.5</td>\n",
       "      <td>9.5</td>\n",
       "      <td>143</td>\n",
       "      <td>8.5</td>\n",
       "      <td>23.5</td>\n",
       "      <td>NaN</td>\n",
       "      <td>NaN</td>\n",
       "      <td>NaN</td>\n",
       "      <td>NaN</td>\n",
       "      <td>NaN</td>\n",
       "      <td>NaN</td>\n",
       "      <td>14.5</td>\n",
       "      <td>7.5</td>\n",
       "      <td>121</td>\n",
       "      <td>13.0</td>\n",
       "      <td>13.5</td>\n",
       "      <td>8</td>\n",
       "      <td>4.5</td>\n",
       "      <td>NaN</td>\n",
       "      <td>NaN</td>\n",
       "      <td>NaN</td>\n",
       "      <td>NaN</td>\n",
       "      <td>NaN</td>\n",
       "      <td>NaN</td>\n",
       "      <td>NaN</td>\n",
       "      <td>16.5</td>\n",
       "      <td>32.0</td>\n",
       "      <td>27.0</td>\n",
       "      <td>100.5</td>\n",
       "      <td>119.0</td>\n",
       "      <td>13.5</td>\n",
       "      <td>9.5</td>\n",
       "      <td>15.5</td>\n",
       "      <td>10.5</td>\n",
       "      <td>14.5</td>\n",
       "      <td>69.5</td>\n",
       "      <td>13.0</td>\n",
       "      <td>9.5</td>\n",
       "      <td>135</td>\n",
       "      <td>19.5</td>\n",
       "      <td>13.0</td>\n",
       "      <td>133.0</td>\n",
       "      <td>8.5</td>\n",
       "      <td>12.5</td>\n",
       "      <td>NaN</td>\n",
       "      <td>NaN</td>\n",
       "      <td>NaN</td>\n",
       "      <td>NaN</td>\n",
       "      <td>NaN</td>\n",
       "      <td>NaN</td>\n",
       "      <td>NaN</td>\n",
       "      <td>NaN</td>\n",
       "      <td>NaN</td>\n",
       "      <td>NaN</td>\n",
       "      <td>NaN</td>\n",
       "      <td>1</td>\n",
       "      <td>0</td>\n",
       "      <td>0</td>\n",
       "      <td>0</td>\n",
       "      <td>0</td>\n",
       "    </tr>\n",
       "  </tbody>\n",
       "</table>\n",
       "</div>"
      ],
      "text/plain": [
       "                                        common_name         Order  \\\n",
       "0  ELEPHANT                                           Proboscidea   \n",
       "1                                             HIPPO  Artiodactyla   \n",
       "2                                           GIRAFFE  Artiodactyla   \n",
       "3                                           COLOBUS      Primates   \n",
       "4                                            VERVET      Primates   \n",
       "\n",
       "            Family         Genus         Species  astragalus  calcaneum_B  \\\n",
       "0     Elephantidae     Loxodonta        africana       109.0          NaN   \n",
       "1   Hippopotamidae  Hippopotamus       amphibius        77.0        126.0   \n",
       "2       Giraffidae       Giraffa  camelopardalis        77.0        143.0   \n",
       "3       Haplorhini       Colobus         guereza        25.5          NaN   \n",
       "4  Cercopithecidae   Chlorocebus     pygerythrus        16.0          NaN   \n",
       "\n",
       "   calcaneum_length_A  femur_distal_A  femur_distal_B  femur_length  \\\n",
       "0               190.0           168.0           100.0          1000   \n",
       "1               186.0           162.0           107.0           521   \n",
       "2               205.0           147.0           114.0           516   \n",
       "3                36.5            31.5            16.5           201   \n",
       "4                26.5            19.5             9.5           143   \n",
       "\n",
       "   femur_promixal_B  femur_proximal_A  fore_p1_iii  fore_p2_iii  fore_p3_iii  \\\n",
       "0             126.0             270.0         80.0         40.0          NaN   \n",
       "1              82.0             186.0         59.0         35.0         24.0   \n",
       "2              53.0             185.0        132.0         56.0        113.0   \n",
       "3              14.0              34.0          NaN          NaN          NaN   \n",
       "4               8.5              23.5          NaN          NaN          NaN   \n",
       "\n",
       "   hind_p1_iii  hind_p2_iii  hind_p3_iii  humerus_distal_A  humerus_distal_B  \\\n",
       "0         70.0         32.0          NaN             117.0              90.5   \n",
       "1         60.0         37.0         30.0             111.0              60.5   \n",
       "2        117.0         53.0         97.0             122.0              54.5   \n",
       "3          NaN          NaN          NaN              23.5              10.0   \n",
       "4          NaN          NaN          NaN              14.5               7.5   \n",
       "\n",
       "   humerus_length_C  humerus_promixal_B  humerus_proximal_A  mass_max_kg  \\\n",
       "0               835               114.0               178.0         6500   \n",
       "1               492                96.0               144.0         2633   \n",
       "2               490               125.0               157.0         1180   \n",
       "3               148               148.0                20.5           15   \n",
       "4               121                13.0                13.5            8   \n",
       "\n",
       "   mass_min_kg  metacarpal_A  metacarpal_B  metatarsal_C  metatarsal_D  \\\n",
       "0       3500.0           NaN           NaN           NaN           NaN   \n",
       "1       1135.0           NaN           NaN           NaN           NaN   \n",
       "2       1180.0          89.5          49.5          80.0          39.5   \n",
       "3         12.0           NaN           NaN           NaN           NaN   \n",
       "4          4.5           NaN           NaN           NaN           NaN   \n",
       "\n",
       "   metacarpal_overall  metatarsal_overall  patella_length  pelvis_A  pelvis_B  \\\n",
       "0                 NaN                 NaN           146.0     142.0     320.0   \n",
       "1                 NaN                 NaN            90.0      83.0     350.0   \n",
       "2               633.0               640.0            97.0      99.0     208.0   \n",
       "3                 NaN                 NaN             NaN      24.0      47.0   \n",
       "4                 NaN                 NaN             NaN      16.5      32.0   \n",
       "\n",
       "   pelvis_C  pelvis_D  RU_length_T  RU_distal_A_T  RU_proximal_A  scapula_A  \\\n",
       "0     790.0     850.0        680.0          134.0           94.5      210.0   \n",
       "1     345.0     750.0          NaN          108.0            NaN       86.5   \n",
       "2     345.0     515.0        687.0          107.0          111.0       99.0   \n",
       "3      49.5     154.0        136.0           13.5           12.5       22.0   \n",
       "4      27.0     100.5        119.0           13.5            9.5       15.5   \n",
       "\n",
       "   scapula_B  scapula_C  scapula_D  tibia_distal_A  tibia_distal_B  \\\n",
       "0      116.0      187.0      710.0           127.0            79.0   \n",
       "1       68.5       81.0      403.0            85.0            57.5   \n",
       "2       87.5       94.0      648.0           109.0            71.5   \n",
       "3       11.5       17.5       79.5            22.0            16.0   \n",
       "4       10.5       14.5       69.5            13.0             9.5   \n",
       "\n",
       "   tibia_length (c)  tibia_proximal_A  tibia_proximal_B  ulna_length (c)   \\\n",
       "0               625             157.0              54.0             765.0   \n",
       "1               333             135.5              56.0               NaN   \n",
       "2               642             161.5              71.0             325.0   \n",
       "3               186              32.0              22.5             153.0   \n",
       "4               135              19.5              13.0             133.0   \n",
       "\n",
       "   ulna_proximal_A  ulna_proximal_B  vertebrae_atlas_female_A ( or no sex)  \\\n",
       "0             85.0            176.0                                  293.0   \n",
       "1              NaN              NaN                                  285.0   \n",
       "2             48.5             65.0                                  118.0   \n",
       "3             10.5             14.5                                    NaN   \n",
       "4              8.5             12.5                                    NaN   \n",
       "\n",
       "   vertebrae_atlas_female_B ( or no sex)  \\\n",
       "0                                  193.0   \n",
       "1                                  153.0   \n",
       "2                                   92.0   \n",
       "3                                    NaN   \n",
       "4                                    NaN   \n",
       "\n",
       "   vertebrae_atlas_female_C ( or no sex)  \\\n",
       "0                                  165.0   \n",
       "1                                  140.0   \n",
       "2                                  155.0   \n",
       "3                                    NaN   \n",
       "4                                    NaN   \n",
       "\n",
       "   vertebrae_axis_female_A (or no sex)   vertebrae_axis_female_B (or no sex)   \\\n",
       "0                                 132.0                                 220.0   \n",
       "1                                 125.0                                 150.0   \n",
       "2                                 254.0                                 125.0   \n",
       "3                                   NaN                                   NaN   \n",
       "4                                   NaN                                   NaN   \n",
       "\n",
       "   vertebrae_c3_female_A  vertebrae_c3_female_B  vertebrae_c3_female_C  \\\n",
       "0                   46.5                  206.0                  141.5   \n",
       "1                   55.0                  187.0                  137.0   \n",
       "2                  246.0                   62.5                   75.0   \n",
       "3                    NaN                    NaN                    NaN   \n",
       "4                    NaN                    NaN                    NaN   \n",
       "\n",
       "   vertebrae_c7_female_A  vertebrae_c7_female_B  vertebrae_c7_female_C  Fruit  \\\n",
       "0                   44.0                  300.0                  145.0      1   \n",
       "1                   51.5                  128.0                  217.0      0   \n",
       "2                  235.0                  100.0                  183.0      0   \n",
       "3                    NaN                    NaN                    NaN      1   \n",
       "4                    NaN                    NaN                    NaN      1   \n",
       "\n",
       "   Root  Leaf  Woody  Herbaceous  \n",
       "0     1     1      1           1  \n",
       "1     0     1      0           1  \n",
       "2     0     1      1           0  \n",
       "3     0     1      0           0  \n",
       "4     0     0      0           0  "
      ]
     },
     "execution_count": 4,
     "metadata": {},
     "output_type": "execute_result"
    }
   ],
   "source": [
    "bones = load_trait_data(BONES_PATH, FILE_NAME) # load the bone and diet data\n",
    "bones.head() # take a look at the first few rows"
   ]
  },
  {
   "cell_type": "code",
   "execution_count": 5,
   "metadata": {
    "collapsed": false
   },
   "outputs": [
    {
     "data": {
      "text/plain": [
       "<function matplotlib.pyplot.show>"
      ]
     },
     "execution_count": 5,
     "metadata": {},
     "output_type": "execute_result"
    },
    {
     "data": {
      "image/png": "[encoded data removed]",
      "text/plain": [
       "<matplotlib.figure.Figure at 0x7f3607098e10>"
      ]
     },
     "metadata": {},
     "output_type": "display_data"
    }
   ],
   "source": [
    "%matplotlib inline\n",
    "import matplotlib.pyplot as plt # import graphing library\n",
    "\n",
    "bones.hist(figsize=(20,15), bins=50) # make histograms of the data columns\n",
    "plt.show"
   ]
  },
  {
   "cell_type": "markdown",
   "metadata": {},
   "source": [
    "### Preprocessing"
   ]
  },
  {
   "cell_type": "code",
   "execution_count": 6,
   "metadata": {
    "collapsed": true
   },
   "outputs": [],
   "source": [
    "import numpy as np # add library for multi dimensional arrays and a bunch of numerical operations\n",
    "\n",
    "# this functions splits the data into testing and training sets\n",
    "def split_train_test(data, test_ratio):\n",
    "    # data should be a pandas dataframe, test_ratio should be a float [0-1]\n",
    "    # function returns two data frames\n",
    "    np.random.seed(42)\n",
    "    shuffled_indices = np.random.permutation(len(data)) # randomizes the indices list\n",
    "    test_set_size = int(len(data) * test_ratio) # sets int length of test set\n",
    "    test_indices = shuffled_indices[:test_set_size] # creates list of test set indices\n",
    "    train_indices = shuffled_indices[test_set_size:] # creates list of train set indices\n",
    "    return data.iloc[train_indices], data.iloc[test_indices] "
   ]
  },
  {
   "cell_type": "code",
   "execution_count": 7,
   "metadata": {
    "collapsed": false
   },
   "outputs": [
    {
     "name": "stdout",
     "output_type": "stream",
     "text": [
      "32 train + 7 test\n"
     ]
    }
   ],
   "source": [
    "train_set, test_set = split_train_test(bones, 0.2) # create the training/testing sets with a 4/1 ratio\n",
    "print(len(train_set), \"train +\", len(test_set), \"test\")"
   ]
  },
  {
   "cell_type": "code",
   "execution_count": 8,
   "metadata": {
    "collapsed": true
   },
   "outputs": [],
   "source": [
    "bones = train_set.copy() # make a copy of the training set to use to avoid accidently changing original data"
   ]
  },
  {
   "cell_type": "code",
   "execution_count": 9,
   "metadata": {
    "collapsed": false
   },
   "outputs": [],
   "source": [
    "-"
   ]
  },
  {
   "cell_type": "code",
   "execution_count": 10,
   "metadata": {
    "collapsed": true
   },
   "outputs": [],
   "source": [
    "# function to add mass data to column name list to avoid having to specify another huge llist\n",
    "def make_list_with_mass(old_list, indivs = False):\n",
    "    # old_list is a list of column names\n",
    "    # returns column name list + the names of the mass columns\n",
    "    new_list = [e for e in old_list]\n",
    "    new_list.append('mass_min_kg')\n",
    "    new_list.append('mass_max_kg')\n",
    "    if indivs:\n",
    "        new_list.append('mass_indiv_kg')\n",
    "    return new_list\n",
    "\n",
    "# function to remove diet column names from a list of column names\n",
    "def remove_diets(old_list):\n",
    "    # old list is a list of column names\n",
    "    # returns a column name list - the names of diet columns\n",
    "    new_list = old_list.copy()\n",
    "    for d in just_diets:\n",
    "        new_list.remove(d)\n",
    "    return new_list\n",
    "\n",
    "\n",
    "no_diets = remove_diets(list(bones)) # makes a list of every column name except for the diets\n",
    "    \n",
    "bones_and_mass = make_list_with_mass(just_bones) # makes a list of of bone and mass column names\n",
    "indiv_bones_and_mass = make_list_with_mass(just_bones, indivs = True)"
   ]
  },
  {
   "cell_type": "markdown",
   "metadata": {},
   "source": [
    "## Clean and Prepare the Data for Machine Learning Algorithms"
   ]
  },
  {
   "cell_type": "code",
   "execution_count": 11,
   "metadata": {
    "collapsed": false
   },
   "outputs": [],
   "source": [
    "# this creates a dataframe of just the diet data for each species entry, it provides a target for training the algorithms\n",
    "diet_labels = train_set[just_diets].copy() "
   ]
  },
  {
   "cell_type": "markdown",
   "metadata": {
    "collapsed": false
   },
   "source": [
    "### Custom Transformers"
   ]
  },
  {
   "cell_type": "code",
   "execution_count": 12,
   "metadata": {
    "collapsed": false
   },
   "outputs": [],
   "source": [
    "from sklearn.base import BaseEstimator, TransformerMixin\n",
    "\n",
    "# class for adding a mean mass column and dividing all bone data by mean mass\n",
    "mass_min_ix, mass_max_ix, mass_indiv_ix = 56, 57, 58,  # string variables for column numbers of mass \n",
    "\n",
    "# class for adding a mean mass column and dividing all bone data by mean mass\n",
    "class MassModifier(BaseEstimator, TransformerMixin):\n",
    "    def __init__(self, mass_transform = True, indiv_transform = False):\n",
    "        self.mass_transform = mass_transform # mass_transform is a bool, True by default\n",
    "        self.indiv_transform = indiv_transform # indiv_transform is a bool, False by default\n",
    "    def fit(self, X, y=None):\n",
    "        return self # nothing else to do\n",
    "    def transform(self, X, y=None): \n",
    "        # takes a np array, returns a np array with an mean mass value and optionally divides values by mean mass\n",
    "        if not self.indiv_transform:\n",
    "            mass_kg = (X[:,mass_max_ix] + X[:,mass_min_ix]) / 2 # creates a mean body mass value for a species\n",
    "        else:\n",
    "            mass_kg = X[:,mass_indiv_ix]\n",
    "        if self.mass_transform: # if mean_transform was set to True\n",
    "            X = X / mass_kg[0] # divide bone values by mean mass\n",
    "            return np.c_[X, mass_kg]\n",
    "        else:    \n",
    "            return np.c_[X, mass_kg]"
   ]
  },
  {
   "cell_type": "code",
   "execution_count": 13,
   "metadata": {
    "collapsed": false
   },
   "outputs": [],
   "source": [
    "from sklearn.base import BaseEstimator, TransformerMixin\n",
    "\n",
    "# class for making numpy array out of pandas dataframe\n",
    "class DataFrameSelector(BaseEstimator, TransformerMixin):\n",
    "    def __init__(self, attribute_names):\n",
    "        self.attribute_names=attribute_names\n",
    "    def fit(self, X, y=None):\n",
    "        return self\n",
    "    def transform(self, X):\n",
    "        # takes a dataframe and returns its values as a np array\n",
    "        return X[self.attribute_names].values"
   ]
  },
  {
   "cell_type": "markdown",
   "metadata": {},
   "source": [
    "### Transformation Pipelines"
   ]
  },
  {
   "cell_type": "code",
   "execution_count": 14,
   "metadata": {
    "collapsed": false
   },
   "outputs": [],
   "source": [
    "from sklearn.pipeline import Pipeline # library for building pipelines\n",
    "from sklearn.preprocessing import StandardScaler # library for scaling values +-[0-1]\n",
    "from sklearn.preprocessing import Imputer # library for imputing missing values in the data\n"
   ]
  },
  {
   "cell_type": "code",
   "execution_count": 15,
   "metadata": {
    "collapsed": false
   },
   "outputs": [],
   "source": [
    "# building the data transformations into a pipeline. Each transformer runs a transform on the data and then passes\n",
    "# the resulting array onto the next transformer\n",
    "pipeline = Pipeline([\n",
    "    ('selector', DataFrameSelector(bones_and_mass)), # selects the dataframe columns and makes into an array\n",
    "    ('mass_transform', MassModifier()), # adds the mean mass column and divides all bone measurements by it\n",
    "    ('imputer', Imputer(strategy='median')), # imputes missing array values and replaces with column medians\n",
    "    ('std_scaler', StandardScaler()) # standardizes all of the values +-[0-1] for better ML goodness\n",
    "])"
   ]
  },
  {
   "cell_type": "code",
   "execution_count": 16,
   "metadata": {
    "collapsed": false
   },
   "outputs": [],
   "source": [
    "bones_transformed = pipeline.fit_transform(bones) # runs the full transformer pipeline on the bones data"
   ]
  },
  {
   "cell_type": "code",
   "execution_count": 17,
   "metadata": {
    "collapsed": false
   },
   "outputs": [
    {
     "data": {
      "text/plain": [
       "array([ 0.43307293,  0.8029378 ,  0.6368969 ,  0.12209614,  0.58163155,\n",
       "        0.17791525,  0.03088902,  0.19195179,  0.92069285,  0.85737455,\n",
       "        0.81375962,  0.82636408,  1.0760747 ,  0.98513633,  0.15803981,\n",
       "        0.1354667 ,  0.06252322, -0.20146874,  0.24245179,  0.65549645,\n",
       "        0.21543259,  0.61666145,  0.41419065,  0.41705375,  0.39589536,\n",
       "        0.27604832,  0.55294034,  0.04620978, -0.24971004,  0.18650191,\n",
       "       -0.48574771, -0.26967165, -0.28710958, -0.10288251,  1.25402241,\n",
       "       -0.20440481, -0.50422987,  0.21672423,  0.06404704,  0.48508898,\n",
       "        0.25857024, -0.01698038,  0.87339929, -0.1081691 , -0.14754452,\n",
       "       -0.17792323, -0.19346158, -0.07964668, -0.10080762, -0.04651252,\n",
       "        0.48010778, -0.0980429 ,  1.08269293,  0.06368593, -0.04543727,\n",
       "        0.19670795, -0.32836985, -0.32989823, -0.33106162])"
      ]
     },
     "execution_count": 17,
     "metadata": {},
     "output_type": "execute_result"
    }
   ],
   "source": [
    "bones_transformed[0] # check to make sure the data looks good"
   ]
  },
  {
   "cell_type": "code",
   "execution_count": 18,
   "metadata": {
    "collapsed": false
   },
   "outputs": [
    {
     "data": {
      "text/plain": [
       "(32, 59)"
      ]
     },
     "execution_count": 18,
     "metadata": {},
     "output_type": "execute_result"
    }
   ],
   "source": [
    "bones_transformed.shape # check to make sure its the shape we expect"
   ]
  },
  {
   "cell_type": "markdown",
   "metadata": {},
   "source": [
    "## Select and Train the Model"
   ]
  },
  {
   "cell_type": "markdown",
   "metadata": {},
   "source": [
    "### Training and Evalutating on the Training Set"
   ]
  },
  {
   "cell_type": "code",
   "execution_count": 19,
   "metadata": {
    "collapsed": false
   },
   "outputs": [
    {
     "data": {
      "text/plain": [
       "LinearRegression(copy_X=True, fit_intercept=True, n_jobs=1, normalize=False)"
      ]
     },
     "execution_count": 19,
     "metadata": {},
     "output_type": "execute_result"
    }
   ],
   "source": [
    "from sklearn.linear_model import LinearRegression\n",
    "\n",
    "# trying out a linear regression \n",
    "\n",
    "lin_reg = LinearRegression()\n",
    "lin_reg.fit(bones_transformed, diet_labels)"
   ]
  },
  {
   "cell_type": "code",
   "execution_count": 20,
   "metadata": {
    "collapsed": false
   },
   "outputs": [
    {
     "name": "stdout",
     "output_type": "stream",
     "text": [
      "Predictions:\t [[ -1.11022302e-15   1.05471187e-15   1.00000000e+00   1.22124533e-15\n",
      "    1.00000000e+00]\n",
      " [ -1.49880108e-15  -2.72004641e-15   1.00000000e+00   6.66133815e-16\n",
      "    1.00000000e+00]\n",
      " [ -4.05231404e-15  -7.32747196e-15   1.00000000e+00   1.00000000e+00\n",
      "   -1.77635684e-15]\n",
      " [  1.00000000e+00  -2.27595720e-15   1.00000000e+00   1.00000000e+00\n",
      "    1.00000000e+00]\n",
      " [  4.94049246e-15   4.30211422e-15   1.00000000e+00  -2.22044605e-15\n",
      "    1.00000000e+00]]\n"
     ]
    }
   ],
   "source": [
    "# building a subsample of the data and results just to see what the outputs look like\n",
    "some_data = bones.iloc[:5]\n",
    "some_labels = diet_labels.iloc[:5]\n",
    "some_data_transformed = pipeline.transform(some_data)\n",
    "print(\"Predictions:\\t\", lin_reg.predict(some_data_transformed)) # diet predictions of linear regression "
   ]
  },
  {
   "cell_type": "code",
   "execution_count": 21,
   "metadata": {
    "collapsed": false
   },
   "outputs": [
    {
     "name": "stdout",
     "output_type": "stream",
     "text": [
      "Labels:\t [[0 0 1 0 1]\n",
      " [0 0 1 0 1]\n",
      " [0 0 1 1 0]\n",
      " [1 0 1 1 1]\n",
      " [0 0 1 0 1]]\n"
     ]
    }
   ],
   "source": [
    "print(\"Labels:\\t\", some_labels.values) # real diet labels of that data sample"
   ]
  },
  {
   "cell_type": "code",
   "execution_count": 22,
   "metadata": {
    "collapsed": false
   },
   "outputs": [
    {
     "data": {
      "text/plain": [
       "3.8563173652310708e-15"
      ]
     },
     "execution_count": 22,
     "metadata": {},
     "output_type": "execute_result"
    }
   ],
   "source": [
    "from sklearn.metrics import mean_squared_error\n",
    "\n",
    "# checking the root mean squared error of the linear regression (very small... too small)\n",
    "diet_predictions = lin_reg.predict(bones_transformed)\n",
    "lin_mse = mean_squared_error(diet_labels, diet_predictions)\n",
    "lin_rmse = np.sqrt(lin_mse)\n",
    "lin_rmse"
   ]
  },
  {
   "cell_type": "code",
   "execution_count": 23,
   "metadata": {
    "collapsed": false
   },
   "outputs": [
    {
     "data": {
      "text/plain": [
       "DecisionTreeRegressor(criterion='mse', max_depth=None, max_features=None,\n",
       "           max_leaf_nodes=None, min_impurity_split=1e-07,\n",
       "           min_samples_leaf=1, min_samples_split=2,\n",
       "           min_weight_fraction_leaf=0.0, presort=False, random_state=None,\n",
       "           splitter='best')"
      ]
     },
     "execution_count": 23,
     "metadata": {},
     "output_type": "execute_result"
    }
   ],
   "source": [
    "from sklearn.tree import DecisionTreeRegressor\n",
    "\n",
    "# trying out a decision tree regression\n",
    "\n",
    "tree_reg = DecisionTreeRegressor()\n",
    "tree_reg.fit(bones_transformed, diet_labels)"
   ]
  },
  {
   "cell_type": "code",
   "execution_count": 24,
   "metadata": {
    "collapsed": false
   },
   "outputs": [
    {
     "data": {
      "text/plain": [
       "0.0"
      ]
     },
     "execution_count": 24,
     "metadata": {},
     "output_type": "execute_result"
    }
   ],
   "source": [
    "# checking the root mean squared error of the decision tree regression (also way to small)\n",
    "diet_predictions = tree_reg.predict(bones_transformed)\n",
    "tree_mse = mean_squared_error(diet_labels, diet_predictions)\n",
    "tree_rmse = np.sqrt(tree_mse)\n",
    "tree_rmse"
   ]
  },
  {
   "cell_type": "markdown",
   "metadata": {},
   "source": [
    "### Initial Thoughts \n",
    "\n",
    "Both regressions badly overfit the data. Below I will explore a number of approaches to avoid this problem"
   ]
  },
  {
   "cell_type": "markdown",
   "metadata": {},
   "source": [
    "### Better Evaluation Using Cross Validation\n",
    "\n",
    "Cross validation gives better assessments of accuracy by sequentially partitioning the data into validation and training sets. These partitions are rotated and employed multiple times to limit overfitting. "
   ]
  },
  {
   "cell_type": "code",
   "execution_count": 25,
   "metadata": {
    "collapsed": true
   },
   "outputs": [],
   "source": [
    "from sklearn.model_selection import cross_val_score # library for getting cross validation results\n",
    "\n",
    "# runs the cross validation on the decision tree regression, accurary assessed with negative mean squared error\n",
    "scores = cross_val_score(tree_reg, bones_transformed, diet_labels, scoring = 'neg_mean_squared_error', cv=10)\n",
    "rmse_scores = np.sqrt(-scores) "
   ]
  },
  {
   "cell_type": "code",
   "execution_count": 26,
   "metadata": {
    "collapsed": true
   },
   "outputs": [],
   "source": [
    "def display_scores(scores):\n",
    "    # function takes cross validation scores and prints them out in a readable form\n",
    "    print(\"Scores:\", scores)\n",
    "    print(\"Mean:\", scores.mean())\n",
    "    print(\"Standard deviation:\", scores.std())"
   ]
  },
  {
   "cell_type": "code",
   "execution_count": 27,
   "metadata": {
    "collapsed": false
   },
   "outputs": [
    {
     "name": "stdout",
     "output_type": "stream",
     "text": [
      "Scores: [ 0.38729833  0.97467943  1.39044357  0.63245553  0.68313005  0.36514837\n",
      "  0.36514837  0.73029674  0.81649658  1.31656118]\n",
      "Mean: 0.766165817132\n",
      "Standard deviation: 0.350699216791\n"
     ]
    }
   ],
   "source": [
    "# root mean squared error scores for the decision tree regressor with cross validation\n",
    "display_scores(rmse_scores) "
   ]
  },
  {
   "cell_type": "code",
   "execution_count": 28,
   "metadata": {
    "collapsed": false
   },
   "outputs": [
    {
     "name": "stdout",
     "output_type": "stream",
     "text": [
      "Scores: [ 1.04884116  3.27427177  4.56855247  1.4090165   4.02634     3.58496284\n",
      "  1.71546527  1.00781115  0.72255199  0.95925576]\n",
      "Mean: 2.23170689049\n",
      "Standard deviation: 1.39057167541\n"
     ]
    }
   ],
   "source": [
    "# root mean squared error scores for the linear regressor with cross validation\n",
    "lin_scores = cross_val_score(lin_reg, bones_transformed, diet_labels, scoring=\"neg_mean_squared_error\", cv=10)\n",
    "lin_rmse_scores = np.sqrt(-lin_scores)\n",
    "display_scores(lin_rmse_scores)"
   ]
  },
  {
   "cell_type": "code",
   "execution_count": 29,
   "metadata": {
    "collapsed": false
   },
   "outputs": [
    {
     "name": "stdout",
     "output_type": "stream",
     "text": [
      "Scores: [ 0.4769696   0.64961527  1.25326241  0.59665736  0.42426407  0.29097537\n",
      "  0.35213634  0.38557317  0.79288503  1.0214369 ]\n",
      "Mean: 0.624377550382\n",
      "Standard deviation: 0.297829942382\n"
     ]
    }
   ],
   "source": [
    "from sklearn.ensemble import RandomForestRegressor # library for random forest regressors\n",
    "# random forest runs a number of decisions trees and averages the results, less prone to overfitting than single trees\n",
    "forest_reg = RandomForestRegressor()\n",
    "forest_reg.fit(bones_transformed, diet_labels)\n",
    "\n",
    "# root mean squared error scores for random forest regressor with cross validation\n",
    "# results superior to decision tree and linear regressor\n",
    "forest_scores = cross_val_score(forest_reg, bones_transformed, diet_labels, scoring=\"neg_mean_squared_error\", cv=10)\n",
    "forest_rmse_scores = np.sqrt(-forest_scores)\n",
    "display_scores(forest_rmse_scores)"
   ]
  },
  {
   "cell_type": "markdown",
   "metadata": {},
   "source": [
    "## Fine Tuning the Random Forest Regressor"
   ]
  },
  {
   "cell_type": "markdown",
   "metadata": {},
   "source": [
    "#### Grid Search\n",
    "\n",
    "Grid search automates the tuning of hyperparameters. Hyperparameters here are the number of trees in the forest (estimators), the number of data features used, and whether bootstrap is used. "
   ]
  },
  {
   "cell_type": "code",
   "execution_count": 30,
   "metadata": {
    "collapsed": false
   },
   "outputs": [],
   "source": [
    "from sklearn.model_selection import GridSearchCV # library for gridsearch cross validation\n",
    "\n",
    "all_features = list(range(1, 59)) # integer list of feature indices in the bones data\n",
    "\n",
    "# the parameter grid is our \"experimental\" set up, the trials we want to perform and compare\n",
    "param_grid = [\n",
    "    {'n_estimators': [3, 10, 30,], 'max_features': all_features},\n",
    "    {'bootstrap': [False], 'n_estimators': [3, 10, 30], 'max_features': all_features}\n",
    "]\n",
    "\n",
    "# build the random forest model and set up the grid search paramters\n",
    "forest_reg = RandomForestRegressor()\n",
    "grid_search = GridSearchCV(forest_reg, param_grid, cv=5, scoring='neg_mean_squared_error')"
   ]
  },
  {
   "cell_type": "code",
   "execution_count": 31,
   "metadata": {
    "collapsed": false
   },
   "outputs": [
    {
     "data": {
      "text/plain": [
       "GridSearchCV(cv=5, error_score='raise',\n",
       "       estimator=RandomForestRegressor(bootstrap=True, criterion='mse', max_depth=None,\n",
       "           max_features='auto', max_leaf_nodes=None,\n",
       "           min_impurity_split=1e-07, min_samples_leaf=1,\n",
       "           min_samples_split=2, min_weight_fraction_leaf=0.0,\n",
       "           n_estimators=10, n_jobs=1, oob_score=False, random_state=None,\n",
       "           verbose=0, warm_start=False),\n",
       "       fit_params={}, iid=True, n_jobs=1,\n",
       "       param_grid=[{'n_estimators': [3, 10, 30], 'max_features': [1, 2, 3, 4, 5, 6, 7, 8, 9, 10, 11, 12, 13, 14, 15, 16, 17, 18, 19, 20, 21, 22, 23, 24, 25, 26, 27, 28, 29, 30, 31, 32, 33, 34, 35, 36, 37, 38, 39, 40, 41, 42, 43, 44, 45, 46, 47, 48, 49, 50, 51, 52, 53, 54, 55, 56, 57, 58]}, {'n_estimators':...4, 35, 36, 37, 38, 39, 40, 41, 42, 43, 44, 45, 46, 47, 48, 49, 50, 51, 52, 53, 54, 55, 56, 57, 58]}],\n",
       "       pre_dispatch='2*n_jobs', refit=True, return_train_score=True,\n",
       "       scoring='neg_mean_squared_error', verbose=0)"
      ]
     },
     "execution_count": 31,
     "metadata": {},
     "output_type": "execute_result"
    }
   ],
   "source": [
    "grid_search.fit(bones_transformed, diet_labels)"
   ]
  },
  {
   "cell_type": "code",
   "execution_count": 32,
   "metadata": {
    "collapsed": false
   },
   "outputs": [
    {
     "data": {
      "text/plain": [
       "{'max_features': 17, 'n_estimators': 10}"
      ]
     },
     "execution_count": 32,
     "metadata": {},
     "output_type": "execute_result"
    }
   ],
   "source": [
    "grid_search.best_params_ # shows the best hyper parameter combination found in the grid search"
   ]
  },
  {
   "cell_type": "code",
   "execution_count": 33,
   "metadata": {
    "collapsed": false
   },
   "outputs": [
    {
     "data": {
      "text/plain": [
       "RandomForestRegressor(bootstrap=True, criterion='mse', max_depth=None,\n",
       "           max_features=17, max_leaf_nodes=None, min_impurity_split=1e-07,\n",
       "           min_samples_leaf=1, min_samples_split=2,\n",
       "           min_weight_fraction_leaf=0.0, n_estimators=10, n_jobs=1,\n",
       "           oob_score=False, random_state=None, verbose=0, warm_start=False)"
      ]
     },
     "execution_count": 33,
     "metadata": {},
     "output_type": "execute_result"
    }
   ],
   "source": [
    "grid_search.best_estimator_ # shows the best estimator found in the grid search"
   ]
  },
  {
   "cell_type": "markdown",
   "metadata": {},
   "source": [
    "### Analyze Best Models"
   ]
  },
  {
   "cell_type": "code",
   "execution_count": 34,
   "metadata": {
    "collapsed": false
   },
   "outputs": [
    {
     "data": {
      "text/plain": [
       "[(0.085266902705655401, 'fore_p2_iii'),\n",
       " (0.062539880357446814, 'humerus_length_C'),\n",
       " (0.061026385582640327, 'scapula_B'),\n",
       " (0.053658028974049067, 'RU_proximal_A'),\n",
       " (0.050834891291263819, 'tibia_length (c)'),\n",
       " (0.046983927932398938, 'ulna_proximal_A'),\n",
       " (0.046598139990210466, 'pelvis_C'),\n",
       " (0.036664975477760826, 'mass_min_kg'),\n",
       " (0.035483801552757314, 'femur_distal_A'),\n",
       " (0.034380679198912308, 'scapula_A'),\n",
       " (0.03099445108059205, 'hind_p1_iii'),\n",
       " (0.030277977378554859, 'vertebrae_axis_female_A (or no sex) '),\n",
       " (0.029559293156508782, 'femur_length'),\n",
       " (0.028499891138689309, 'hind_p2_iii'),\n",
       " (0.027384859086589934, 'humerus_promixal_B'),\n",
       " (0.025325881017963282, 'ulna_length (c) '),\n",
       " (0.0234708520435222, 'metatarsal_overall'),\n",
       " (0.018074049384773486, 'femur_distal_B'),\n",
       " (0.018060916466106719, 'tibia_proximal_A'),\n",
       " (0.017141715169030826, 'metacarpal_B'),\n",
       " (0.016463388285660779, 'tibia_proximal_B'),\n",
       " (0.016016383181006257, 'patella_length'),\n",
       " (0.013907705154788272, 'metatarsal_C'),\n",
       " (0.012441962418624386, 'mass_max_kg'),\n",
       " (0.011804129152790591, 'pelvis_A'),\n",
       " (0.011585610940191501, 'metacarpal_overall'),\n",
       " (0.011266762899860132, 'ulna_proximal_B'),\n",
       " (0.010612057122965582, 'scapula_D'),\n",
       " (0.010325790678336272, 'pelvis_B'),\n",
       " (0.010192966592821501, 'vertebrae_c7_female_B'),\n",
       " (0.0093353627600202931, 'pelvis_D'),\n",
       " (0.0079244190465806805, 'humerus_proximal_A'),\n",
       " (0.0078728404445335583, 'metacarpal_A'),\n",
       " (0.0074454892637056775, 'vertebrae_atlas_female_A ( or no sex)'),\n",
       " (0.0039158100832109612, 'vertebrae_c3_female_A'),\n",
       " (0.0036560982576406718, 'tibia_distal_B'),\n",
       " (0.0031809145129224649, 'tibia_distal_A'),\n",
       " (0.0030298439630359001, 'vertebrae_c3_female_B'),\n",
       " (0.0028274795670421909, 'calcaneum_length_A'),\n",
       " (0.0027420736932305054, 'fore_p3_iii'),\n",
       " (0.0022198116075890242, 'astragalus'),\n",
       " (0.0021998166819431715, 'calcaneum_B'),\n",
       " (0.0019001246956831554, 'vertebrae_c7_female_C'),\n",
       " (0.0014096916299559483, 'RU_length_T'),\n",
       " (0.0013313754282917264, 'femur_proximal_A'),\n",
       " (0.0011747430249632893, 'fore_p1_iii'),\n",
       " (0.00052253429131286745, 'femur_promixal_B'),\n",
       " (0.0, 'vertebrae_c7_female_A'),\n",
       " (0.0, 'vertebrae_c3_female_C'),\n",
       " (0.0, 'vertebrae_axis_female_B (or no sex) '),\n",
       " (0.0, 'vertebrae_atlas_female_C ( or no sex)'),\n",
       " (0.0, 'vertebrae_atlas_female_B ( or no sex)'),\n",
       " (0.0, 'scapula_C'),\n",
       " (0.0, 'metatarsal_D'),\n",
       " (0.0, 'humerus_distal_B'),\n",
       " (0.0, 'humerus_distal_A'),\n",
       " (0.0, 'hind_p3_iii'),\n",
       " (0.0, 'RU_distal_A_T')]"
      ]
     },
     "execution_count": 34,
     "metadata": {},
     "output_type": "execute_result"
    }
   ],
   "source": [
    "# We can explore the grid search results to see which features were most important in the model\n",
    "feature_importances = grid_search.best_estimator_.feature_importances_\n",
    "sorted(zip(feature_importances, bones_and_mass), reverse=True)"
   ]
  },
  {
   "cell_type": "markdown",
   "metadata": {
    "collapsed": false
   },
   "source": [
    "### Initial Thoughts\n",
    "\n",
    "For the random forest regressor it seems the best model is a 10 tree forest employing the top 17 of these features. "
   ]
  },
  {
   "cell_type": "markdown",
   "metadata": {
    "collapsed": true
   },
   "source": [
    "# Data Augmentation"
   ]
  },
  {
   "cell_type": "markdown",
   "metadata": {
    "collapsed": true
   },
   "source": [
    "In this section I am exploring options for making the most out of the tiny dataset. Instead of treating each species entry as an individual I am treating them as population means. With this in mind I randomly generate individuals of each species to create a new dataset of individuals. The algorithms can then trained on the, much larger, data set of individuals which should increase the model's ability to generalize. *fingers crossed*\n",
    "\n",
    "Each individual has a body mass drawn from the min/max body mass entries for each species. The bone measurements are then altered in a manner proportionate to the body mass. "
   ]
  },
  {
   "cell_type": "code",
   "execution_count": 35,
   "metadata": {
    "collapsed": false
   },
   "outputs": [],
   "source": [
    "# These are our functions used for the data augmentation process \n",
    "\n",
    "import random # library for prob distributions\n",
    "\n",
    "mass_min_ix = bones[no_diets].columns.get_loc('mass_min_kg') # integer index of mass min column\n",
    "mass_max_ix = bones[no_diets].columns.get_loc('mass_max_kg') # integer index of mass max column\n",
    "\n",
    "# expands the bones dataset by breaking each spp into N individuals, randomly selecting a mass, and changing measures\n",
    "def bones_augmentation(data_set, how_many, normal = False):\n",
    "    # dataset is a dataframe, how_many is an int, normal is a bool (default is False)\n",
    "    clone_army = populate_with_clones(data_set, how_many) # helper function that makes N clone versions of each spp entry\n",
    "    individualize_the_clones(clone_army) # helper function that makes each of the N clones an individual\n",
    "    return clone_army \n",
    "   \n",
    "\n",
    "# creates N identical versions of each spp entry    \n",
    "def populate_with_clones(data_set, new_indivs_per_species):\n",
    "    # helper function for bones_augmentation\n",
    "    # data set is a dataframe, new_indivs... is the number of individuals you want created for each species\n",
    "    ds_copy = data_set.copy()  \n",
    "    df = pd.DataFrame(columns=list(data_set)) # creates the new dataframe with same columns as original\n",
    "    for i in range(len(ds_copy)): # loop through each species\n",
    "        for j in range(new_indivs_per_species): # loop through each new individual and add to new dataframe\n",
    "            df = df.append(data_set.iloc[i])\n",
    "    df = df.reset_index(drop=True) # resent the indices so new dataframe doesn't have duplicates\n",
    "    return df\n",
    "                           \n",
    "\n",
    "    # makes each clone species entry a unique individual by randomly selecting a mass and altering bone measures    \n",
    "def individualize_the_clones(data_set, normal = False):\n",
    "    # helper function for bones_augmentation\n",
    "    # data_set is a data frame, normal is a bool\n",
    "    # can draw mass from a uniform or normal distribution (uniform by default)\n",
    "    for k in range(len(data_set)): # loop through each individual in the clone army\n",
    "        # randomly select a mass between mass min and mass max\n",
    "        species_mean_mass = (data_set.loc[k, 'mass_min_kg'] + data_set.loc[k, 'mass_max_kg']) / 2\n",
    "        if normal == False: # if normal is false draw from a uniform distribution\n",
    "            individual_mass = mass_uniform(data_set, k)\n",
    "        else: # if normal is true draw from a normal distribution\n",
    "            individual_mass = mass_normal(data_set, k, species_mean_mass)\n",
    "        data_set.loc[k, 'mass_indiv_kg'] = individual_mass\n",
    "        species_mean_mass = (data_set.loc[k, 'mass_min_kg'] + data_set.loc[k, 'mass_max_kg']) / 2 # set the mean of spp\n",
    "        # find proportion of that mass wrt mean mass\n",
    "        mass_proportion = individual_mass / species_mean_mass\n",
    "        # multiply bone measures by proportion\n",
    "        # I suspect the linear measures shoudl scale differently than mass (m^1/3?) but haven't implemented it yet\n",
    "        for bone in just_bones:   \n",
    "            data_set.ix[k, bone] *= mass_proportion                                \n",
    "                                             \n",
    "# this function constructs a normal distribution based on the mass from bones data and draws from it once\n",
    "def mass_normal(data_set, species_index, species_mean_mass):\n",
    "    # helper function for bones_augmentation\n",
    "    # data_set is a dataframe, species_index is an int, species_mean_mass is a float\n",
    "    mu =  species_mean_mass # set the distribution mean based on mean body mass\n",
    "    # sets distance b/w mean and max as 2 std, not confident in this choice, will explore further\n",
    "    sigma =  (data_set.loc[species_index, 'mass_max_kg'] - species_mean_mass) / 2 \n",
    "    mass = np.random.normal(mu, sigma, 1) # makes one draw from the constructed distribution\n",
    "    return mass\n",
    "    \n",
    "# this function constructs a uniform distribution based on min/max mass and draws from it once\n",
    "def mass_uniform(data_set, species_index):\n",
    "    min_mass = data_set.loc[species_index, 'mass_min_kg']\n",
    "    max_mass = data_set.loc[species_index, 'mass_max_kg']\n",
    "    mass = random.uniform(min_mass, max_mass) # make one draw from constructed distribution\n",
    "    return mass"
   ]
  },
  {
   "cell_type": "code",
   "execution_count": 36,
   "metadata": {
    "collapsed": false,
    "scrolled": true
   },
   "outputs": [
    {
     "data": {
      "text/html": [
       "<div>\n",
       "<table border=\"1\" class=\"dataframe\">\n",
       "  <thead>\n",
       "    <tr style=\"text-align: right;\">\n",
       "      <th></th>\n",
       "      <th>common_name</th>\n",
       "      <th>Order</th>\n",
       "      <th>Family</th>\n",
       "      <th>Genus</th>\n",
       "      <th>Species</th>\n",
       "      <th>astragalus</th>\n",
       "      <th>calcaneum_B</th>\n",
       "      <th>calcaneum_length_A</th>\n",
       "      <th>femur_distal_A</th>\n",
       "      <th>femur_distal_B</th>\n",
       "      <th>femur_length</th>\n",
       "      <th>femur_promixal_B</th>\n",
       "      <th>femur_proximal_A</th>\n",
       "      <th>fore_p1_iii</th>\n",
       "      <th>fore_p2_iii</th>\n",
       "      <th>fore_p3_iii</th>\n",
       "      <th>hind_p1_iii</th>\n",
       "      <th>hind_p2_iii</th>\n",
       "      <th>hind_p3_iii</th>\n",
       "      <th>humerus_distal_A</th>\n",
       "      <th>humerus_distal_B</th>\n",
       "      <th>humerus_length_C</th>\n",
       "      <th>humerus_promixal_B</th>\n",
       "      <th>humerus_proximal_A</th>\n",
       "      <th>mass_max_kg</th>\n",
       "      <th>mass_min_kg</th>\n",
       "      <th>metacarpal_A</th>\n",
       "      <th>metacarpal_B</th>\n",
       "      <th>metatarsal_C</th>\n",
       "      <th>metatarsal_D</th>\n",
       "      <th>metacarpal_overall</th>\n",
       "      <th>metatarsal_overall</th>\n",
       "      <th>patella_length</th>\n",
       "      <th>pelvis_A</th>\n",
       "      <th>pelvis_B</th>\n",
       "      <th>pelvis_C</th>\n",
       "      <th>pelvis_D</th>\n",
       "      <th>RU_length_T</th>\n",
       "      <th>RU_distal_A_T</th>\n",
       "      <th>RU_proximal_A</th>\n",
       "      <th>scapula_A</th>\n",
       "      <th>scapula_B</th>\n",
       "      <th>scapula_C</th>\n",
       "      <th>scapula_D</th>\n",
       "      <th>tibia_distal_A</th>\n",
       "      <th>tibia_distal_B</th>\n",
       "      <th>tibia_length (c)</th>\n",
       "      <th>tibia_proximal_A</th>\n",
       "      <th>tibia_proximal_B</th>\n",
       "      <th>ulna_length (c)</th>\n",
       "      <th>ulna_proximal_A</th>\n",
       "      <th>ulna_proximal_B</th>\n",
       "      <th>vertebrae_atlas_female_A ( or no sex)</th>\n",
       "      <th>vertebrae_atlas_female_B ( or no sex)</th>\n",
       "      <th>vertebrae_atlas_female_C ( or no sex)</th>\n",
       "      <th>vertebrae_axis_female_A (or no sex)</th>\n",
       "      <th>vertebrae_axis_female_B (or no sex)</th>\n",
       "      <th>vertebrae_c3_female_A</th>\n",
       "      <th>vertebrae_c3_female_B</th>\n",
       "      <th>vertebrae_c3_female_C</th>\n",
       "      <th>vertebrae_c7_female_A</th>\n",
       "      <th>vertebrae_c7_female_B</th>\n",
       "      <th>vertebrae_c7_female_C</th>\n",
       "      <th>Fruit</th>\n",
       "      <th>Root</th>\n",
       "      <th>Leaf</th>\n",
       "      <th>Woody</th>\n",
       "      <th>Herbaceous</th>\n",
       "      <th>mass_indiv_kg</th>\n",
       "    </tr>\n",
       "  </thead>\n",
       "  <tbody>\n",
       "    <tr>\n",
       "      <th>0</th>\n",
       "      <td>ROAN</td>\n",
       "      <td>Artiodactyla</td>\n",
       "      <td>Bovidae</td>\n",
       "      <td>Hippotragus</td>\n",
       "      <td>equinus</td>\n",
       "      <td>49.674124</td>\n",
       "      <td>92.825384</td>\n",
       "      <td>128.450261</td>\n",
       "      <td>77.270860</td>\n",
       "      <td>69.744478</td>\n",
       "      <td>344.206559</td>\n",
       "      <td>38.635430</td>\n",
       "      <td>104.365837</td>\n",
       "      <td>71.249754</td>\n",
       "      <td>36.628395</td>\n",
       "      <td>55.193472</td>\n",
       "      <td>65.228648</td>\n",
       "      <td>37.631912</td>\n",
       "      <td>53.186436</td>\n",
       "      <td>57.200507</td>\n",
       "      <td>30.105530</td>\n",
       "      <td>270.949769</td>\n",
       "      <td>48.670607</td>\n",
       "      <td>82.288448</td>\n",
       "      <td>123.0</td>\n",
       "      <td>102.0</td>\n",
       "      <td>45.660054</td>\n",
       "      <td>21.073871</td>\n",
       "      <td>45.158295</td>\n",
       "      <td>21.073871</td>\n",
       "      <td>258.907557</td>\n",
       "      <td>270.949769</td>\n",
       "      <td>56.196989</td>\n",
       "      <td>65.730407</td>\n",
       "      <td>138.485438</td>\n",
       "      <td>139.488955</td>\n",
       "      <td>326.143241</td>\n",
       "      <td>25.589700</td>\n",
       "      <td>25.589700</td>\n",
       "      <td>25.589700</td>\n",
       "      <td>41.645983</td>\n",
       "      <td>302.058817</td>\n",
       "      <td>38.635430</td>\n",
       "      <td>53.688195</td>\n",
       "      <td>54.189954</td>\n",
       "      <td>32.614324</td>\n",
       "      <td>366.283948</td>\n",
       "      <td>82.790207</td>\n",
       "      <td>35.123118</td>\n",
       "      <td>399.400030</td>\n",
       "      <td>25.589700</td>\n",
       "      <td>32.112565</td>\n",
       "      <td>NaN</td>\n",
       "      <td>NaN</td>\n",
       "      <td>NaN</td>\n",
       "      <td>NaN</td>\n",
       "      <td>NaN</td>\n",
       "      <td>81.786690</td>\n",
       "      <td>73.256790</td>\n",
       "      <td>102.358802</td>\n",
       "      <td>55.695230</td>\n",
       "      <td>72.755031</td>\n",
       "      <td>120.422120</td>\n",
       "      <td>0.0</td>\n",
       "      <td>0.0</td>\n",
       "      <td>1.0</td>\n",
       "      <td>0.0</td>\n",
       "      <td>1.0</td>\n",
       "      <td>112.895737</td>\n",
       "    </tr>\n",
       "    <tr>\n",
       "      <th>1</th>\n",
       "      <td>ROAN</td>\n",
       "      <td>Artiodactyla</td>\n",
       "      <td>Bovidae</td>\n",
       "      <td>Hippotragus</td>\n",
       "      <td>equinus</td>\n",
       "      <td>51.547143</td>\n",
       "      <td>96.325469</td>\n",
       "      <td>133.293622</td>\n",
       "      <td>80.184444</td>\n",
       "      <td>72.374271</td>\n",
       "      <td>357.185253</td>\n",
       "      <td>40.092222</td>\n",
       "      <td>108.301068</td>\n",
       "      <td>73.936306</td>\n",
       "      <td>38.009509</td>\n",
       "      <td>57.274603</td>\n",
       "      <td>67.688167</td>\n",
       "      <td>39.050866</td>\n",
       "      <td>55.191890</td>\n",
       "      <td>59.357316</td>\n",
       "      <td>31.240693</td>\n",
       "      <td>281.166234</td>\n",
       "      <td>50.505786</td>\n",
       "      <td>85.391227</td>\n",
       "      <td>123.0</td>\n",
       "      <td>102.0</td>\n",
       "      <td>47.381717</td>\n",
       "      <td>21.868485</td>\n",
       "      <td>46.861039</td>\n",
       "      <td>21.868485</td>\n",
       "      <td>268.669957</td>\n",
       "      <td>281.166234</td>\n",
       "      <td>58.315960</td>\n",
       "      <td>68.208846</td>\n",
       "      <td>143.707186</td>\n",
       "      <td>144.748543</td>\n",
       "      <td>338.440837</td>\n",
       "      <td>26.554589</td>\n",
       "      <td>26.554589</td>\n",
       "      <td>26.554589</td>\n",
       "      <td>43.216291</td>\n",
       "      <td>313.448283</td>\n",
       "      <td>40.092222</td>\n",
       "      <td>55.712569</td>\n",
       "      <td>56.233247</td>\n",
       "      <td>33.844084</td>\n",
       "      <td>380.095094</td>\n",
       "      <td>85.911905</td>\n",
       "      <td>36.447475</td>\n",
       "      <td>414.459856</td>\n",
       "      <td>26.554589</td>\n",
       "      <td>33.323405</td>\n",
       "      <td>NaN</td>\n",
       "      <td>NaN</td>\n",
       "      <td>NaN</td>\n",
       "      <td>NaN</td>\n",
       "      <td>NaN</td>\n",
       "      <td>84.870548</td>\n",
       "      <td>76.019019</td>\n",
       "      <td>106.218355</td>\n",
       "      <td>57.795281</td>\n",
       "      <td>75.498341</td>\n",
       "      <td>124.962771</td>\n",
       "      <td>0.0</td>\n",
       "      <td>0.0</td>\n",
       "      <td>1.0</td>\n",
       "      <td>0.0</td>\n",
       "      <td>1.0</td>\n",
       "      <td>117.152597</td>\n",
       "    </tr>\n",
       "    <tr>\n",
       "      <th>2</th>\n",
       "      <td>ROAN</td>\n",
       "      <td>Artiodactyla</td>\n",
       "      <td>Bovidae</td>\n",
       "      <td>Hippotragus</td>\n",
       "      <td>equinus</td>\n",
       "      <td>46.099189</td>\n",
       "      <td>86.144949</td>\n",
       "      <td>119.205984</td>\n",
       "      <td>71.709850</td>\n",
       "      <td>64.725124</td>\n",
       "      <td>319.434786</td>\n",
       "      <td>35.854925</td>\n",
       "      <td>96.854862</td>\n",
       "      <td>66.122069</td>\n",
       "      <td>33.992331</td>\n",
       "      <td>51.221321</td>\n",
       "      <td>60.534289</td>\n",
       "      <td>34.923628</td>\n",
       "      <td>49.358728</td>\n",
       "      <td>53.083915</td>\n",
       "      <td>27.938903</td>\n",
       "      <td>251.450123</td>\n",
       "      <td>45.167892</td>\n",
       "      <td>76.366334</td>\n",
       "      <td>123.0</td>\n",
       "      <td>102.0</td>\n",
       "      <td>42.374002</td>\n",
       "      <td>19.557232</td>\n",
       "      <td>41.908354</td>\n",
       "      <td>19.557232</td>\n",
       "      <td>240.274562</td>\n",
       "      <td>251.450123</td>\n",
       "      <td>52.152618</td>\n",
       "      <td>60.999937</td>\n",
       "      <td>128.518952</td>\n",
       "      <td>129.450248</td>\n",
       "      <td>302.671444</td>\n",
       "      <td>23.748067</td>\n",
       "      <td>23.748067</td>\n",
       "      <td>23.748067</td>\n",
       "      <td>38.648815</td>\n",
       "      <td>280.320322</td>\n",
       "      <td>35.854925</td>\n",
       "      <td>49.824376</td>\n",
       "      <td>50.290025</td>\n",
       "      <td>30.267144</td>\n",
       "      <td>339.923314</td>\n",
       "      <td>76.831982</td>\n",
       "      <td>32.595386</td>\n",
       "      <td>370.656107</td>\n",
       "      <td>23.748067</td>\n",
       "      <td>29.801496</td>\n",
       "      <td>NaN</td>\n",
       "      <td>NaN</td>\n",
       "      <td>NaN</td>\n",
       "      <td>NaN</td>\n",
       "      <td>NaN</td>\n",
       "      <td>75.900685</td>\n",
       "      <td>67.984663</td>\n",
       "      <td>94.992269</td>\n",
       "      <td>51.686970</td>\n",
       "      <td>67.519014</td>\n",
       "      <td>111.755610</td>\n",
       "      <td>0.0</td>\n",
       "      <td>0.0</td>\n",
       "      <td>1.0</td>\n",
       "      <td>0.0</td>\n",
       "      <td>1.0</td>\n",
       "      <td>104.770884</td>\n",
       "    </tr>\n",
       "    <tr>\n",
       "      <th>3</th>\n",
       "      <td>ROAN</td>\n",
       "      <td>Artiodactyla</td>\n",
       "      <td>Bovidae</td>\n",
       "      <td>Hippotragus</td>\n",
       "      <td>equinus</td>\n",
       "      <td>49.343969</td>\n",
       "      <td>92.208427</td>\n",
       "      <td>127.596526</td>\n",
       "      <td>76.757285</td>\n",
       "      <td>69.280926</td>\n",
       "      <td>341.918817</td>\n",
       "      <td>38.378643</td>\n",
       "      <td>103.672178</td>\n",
       "      <td>70.776198</td>\n",
       "      <td>36.384947</td>\n",
       "      <td>54.826632</td>\n",
       "      <td>64.795111</td>\n",
       "      <td>37.381795</td>\n",
       "      <td>52.832937</td>\n",
       "      <td>56.820328</td>\n",
       "      <td>29.905436</td>\n",
       "      <td>269.148923</td>\n",
       "      <td>48.347121</td>\n",
       "      <td>81.741525</td>\n",
       "      <td>123.0</td>\n",
       "      <td>102.0</td>\n",
       "      <td>45.356578</td>\n",
       "      <td>20.933805</td>\n",
       "      <td>44.858154</td>\n",
       "      <td>20.933805</td>\n",
       "      <td>257.186748</td>\n",
       "      <td>269.148923</td>\n",
       "      <td>55.823480</td>\n",
       "      <td>65.293535</td>\n",
       "      <td>137.565005</td>\n",
       "      <td>138.561853</td>\n",
       "      <td>323.975555</td>\n",
       "      <td>25.419620</td>\n",
       "      <td>25.419620</td>\n",
       "      <td>25.419620</td>\n",
       "      <td>41.369186</td>\n",
       "      <td>300.051206</td>\n",
       "      <td>38.378643</td>\n",
       "      <td>53.331361</td>\n",
       "      <td>53.829785</td>\n",
       "      <td>32.397556</td>\n",
       "      <td>363.849469</td>\n",
       "      <td>82.239949</td>\n",
       "      <td>34.889675</td>\n",
       "      <td>396.745449</td>\n",
       "      <td>25.419620</td>\n",
       "      <td>31.899132</td>\n",
       "      <td>NaN</td>\n",
       "      <td>NaN</td>\n",
       "      <td>NaN</td>\n",
       "      <td>NaN</td>\n",
       "      <td>NaN</td>\n",
       "      <td>81.243101</td>\n",
       "      <td>72.769894</td>\n",
       "      <td>101.678482</td>\n",
       "      <td>55.325056</td>\n",
       "      <td>72.271470</td>\n",
       "      <td>119.621743</td>\n",
       "      <td>0.0</td>\n",
       "      <td>0.0</td>\n",
       "      <td>1.0</td>\n",
       "      <td>0.0</td>\n",
       "      <td>1.0</td>\n",
       "      <td>112.145384</td>\n",
       "    </tr>\n",
       "    <tr>\n",
       "      <th>4</th>\n",
       "      <td>ROAN</td>\n",
       "      <td>Artiodactyla</td>\n",
       "      <td>Bovidae</td>\n",
       "      <td>Hippotragus</td>\n",
       "      <td>equinus</td>\n",
       "      <td>49.386368</td>\n",
       "      <td>92.287658</td>\n",
       "      <td>127.706164</td>\n",
       "      <td>76.823239</td>\n",
       "      <td>69.340456</td>\n",
       "      <td>342.212612</td>\n",
       "      <td>38.411620</td>\n",
       "      <td>103.761258</td>\n",
       "      <td>70.837013</td>\n",
       "      <td>36.416211</td>\n",
       "      <td>54.873742</td>\n",
       "      <td>64.850786</td>\n",
       "      <td>37.413915</td>\n",
       "      <td>52.878334</td>\n",
       "      <td>56.869151</td>\n",
       "      <td>29.931132</td>\n",
       "      <td>269.380190</td>\n",
       "      <td>48.388664</td>\n",
       "      <td>81.811761</td>\n",
       "      <td>123.0</td>\n",
       "      <td>102.0</td>\n",
       "      <td>45.395551</td>\n",
       "      <td>20.951793</td>\n",
       "      <td>44.896698</td>\n",
       "      <td>20.951793</td>\n",
       "      <td>257.407737</td>\n",
       "      <td>269.380190</td>\n",
       "      <td>55.871447</td>\n",
       "      <td>65.349639</td>\n",
       "      <td>137.683208</td>\n",
       "      <td>138.680913</td>\n",
       "      <td>324.253932</td>\n",
       "      <td>25.441462</td>\n",
       "      <td>25.441462</td>\n",
       "      <td>25.441462</td>\n",
       "      <td>41.404733</td>\n",
       "      <td>300.309027</td>\n",
       "      <td>38.411620</td>\n",
       "      <td>53.377186</td>\n",
       "      <td>53.876038</td>\n",
       "      <td>32.425393</td>\n",
       "      <td>364.162109</td>\n",
       "      <td>82.310614</td>\n",
       "      <td>34.919654</td>\n",
       "      <td>397.086354</td>\n",
       "      <td>25.441462</td>\n",
       "      <td>31.926541</td>\n",
       "      <td>NaN</td>\n",
       "      <td>NaN</td>\n",
       "      <td>NaN</td>\n",
       "      <td>NaN</td>\n",
       "      <td>NaN</td>\n",
       "      <td>81.312909</td>\n",
       "      <td>72.832422</td>\n",
       "      <td>101.765850</td>\n",
       "      <td>55.372595</td>\n",
       "      <td>72.333570</td>\n",
       "      <td>119.724529</td>\n",
       "      <td>0.0</td>\n",
       "      <td>0.0</td>\n",
       "      <td>1.0</td>\n",
       "      <td>0.0</td>\n",
       "      <td>1.0</td>\n",
       "      <td>112.241746</td>\n",
       "    </tr>\n",
       "  </tbody>\n",
       "</table>\n",
       "</div>"
      ],
      "text/plain": [
       "  common_name         Order   Family        Genus  Species  astragalus  \\\n",
       "0        ROAN  Artiodactyla  Bovidae  Hippotragus  equinus   49.674124   \n",
       "1        ROAN  Artiodactyla  Bovidae  Hippotragus  equinus   51.547143   \n",
       "2        ROAN  Artiodactyla  Bovidae  Hippotragus  equinus   46.099189   \n",
       "3        ROAN  Artiodactyla  Bovidae  Hippotragus  equinus   49.343969   \n",
       "4        ROAN  Artiodactyla  Bovidae  Hippotragus  equinus   49.386368   \n",
       "\n",
       "   calcaneum_B  calcaneum_length_A  femur_distal_A  femur_distal_B  \\\n",
       "0    92.825384          128.450261       77.270860       69.744478   \n",
       "1    96.325469          133.293622       80.184444       72.374271   \n",
       "2    86.144949          119.205984       71.709850       64.725124   \n",
       "3    92.208427          127.596526       76.757285       69.280926   \n",
       "4    92.287658          127.706164       76.823239       69.340456   \n",
       "\n",
       "   femur_length  femur_promixal_B  femur_proximal_A  fore_p1_iii  fore_p2_iii  \\\n",
       "0    344.206559         38.635430        104.365837    71.249754    36.628395   \n",
       "1    357.185253         40.092222        108.301068    73.936306    38.009509   \n",
       "2    319.434786         35.854925         96.854862    66.122069    33.992331   \n",
       "3    341.918817         38.378643        103.672178    70.776198    36.384947   \n",
       "4    342.212612         38.411620        103.761258    70.837013    36.416211   \n",
       "\n",
       "   fore_p3_iii  hind_p1_iii  hind_p2_iii  hind_p3_iii  humerus_distal_A  \\\n",
       "0    55.193472    65.228648    37.631912    53.186436         57.200507   \n",
       "1    57.274603    67.688167    39.050866    55.191890         59.357316   \n",
       "2    51.221321    60.534289    34.923628    49.358728         53.083915   \n",
       "3    54.826632    64.795111    37.381795    52.832937         56.820328   \n",
       "4    54.873742    64.850786    37.413915    52.878334         56.869151   \n",
       "\n",
       "   humerus_distal_B  humerus_length_C  humerus_promixal_B  humerus_proximal_A  \\\n",
       "0         30.105530        270.949769           48.670607           82.288448   \n",
       "1         31.240693        281.166234           50.505786           85.391227   \n",
       "2         27.938903        251.450123           45.167892           76.366334   \n",
       "3         29.905436        269.148923           48.347121           81.741525   \n",
       "4         29.931132        269.380190           48.388664           81.811761   \n",
       "\n",
       "   mass_max_kg  mass_min_kg  metacarpal_A  metacarpal_B  metatarsal_C  \\\n",
       "0        123.0        102.0     45.660054     21.073871     45.158295   \n",
       "1        123.0        102.0     47.381717     21.868485     46.861039   \n",
       "2        123.0        102.0     42.374002     19.557232     41.908354   \n",
       "3        123.0        102.0     45.356578     20.933805     44.858154   \n",
       "4        123.0        102.0     45.395551     20.951793     44.896698   \n",
       "\n",
       "   metatarsal_D  metacarpal_overall  metatarsal_overall  patella_length  \\\n",
       "0     21.073871          258.907557          270.949769       56.196989   \n",
       "1     21.868485          268.669957          281.166234       58.315960   \n",
       "2     19.557232          240.274562          251.450123       52.152618   \n",
       "3     20.933805          257.186748          269.148923       55.823480   \n",
       "4     20.951793          257.407737          269.380190       55.871447   \n",
       "\n",
       "    pelvis_A    pelvis_B    pelvis_C    pelvis_D  RU_length_T  RU_distal_A_T  \\\n",
       "0  65.730407  138.485438  139.488955  326.143241    25.589700      25.589700   \n",
       "1  68.208846  143.707186  144.748543  338.440837    26.554589      26.554589   \n",
       "2  60.999937  128.518952  129.450248  302.671444    23.748067      23.748067   \n",
       "3  65.293535  137.565005  138.561853  323.975555    25.419620      25.419620   \n",
       "4  65.349639  137.683208  138.680913  324.253932    25.441462      25.441462   \n",
       "\n",
       "   RU_proximal_A  scapula_A   scapula_B  scapula_C  scapula_D  tibia_distal_A  \\\n",
       "0      25.589700  41.645983  302.058817  38.635430  53.688195       54.189954   \n",
       "1      26.554589  43.216291  313.448283  40.092222  55.712569       56.233247   \n",
       "2      23.748067  38.648815  280.320322  35.854925  49.824376       50.290025   \n",
       "3      25.419620  41.369186  300.051206  38.378643  53.331361       53.829785   \n",
       "4      25.441462  41.404733  300.309027  38.411620  53.377186       53.876038   \n",
       "\n",
       "   tibia_distal_B  tibia_length (c)  tibia_proximal_A  tibia_proximal_B  \\\n",
       "0       32.614324        366.283948         82.790207         35.123118   \n",
       "1       33.844084        380.095094         85.911905         36.447475   \n",
       "2       30.267144        339.923314         76.831982         32.595386   \n",
       "3       32.397556        363.849469         82.239949         34.889675   \n",
       "4       32.425393        364.162109         82.310614         34.919654   \n",
       "\n",
       "   ulna_length (c)   ulna_proximal_A  ulna_proximal_B  \\\n",
       "0        399.400030        25.589700        32.112565   \n",
       "1        414.459856        26.554589        33.323405   \n",
       "2        370.656107        23.748067        29.801496   \n",
       "3        396.745449        25.419620        31.899132   \n",
       "4        397.086354        25.441462        31.926541   \n",
       "\n",
       "   vertebrae_atlas_female_A ( or no sex)  \\\n",
       "0                                    NaN   \n",
       "1                                    NaN   \n",
       "2                                    NaN   \n",
       "3                                    NaN   \n",
       "4                                    NaN   \n",
       "\n",
       "   vertebrae_atlas_female_B ( or no sex)  \\\n",
       "0                                    NaN   \n",
       "1                                    NaN   \n",
       "2                                    NaN   \n",
       "3                                    NaN   \n",
       "4                                    NaN   \n",
       "\n",
       "   vertebrae_atlas_female_C ( or no sex)  \\\n",
       "0                                    NaN   \n",
       "1                                    NaN   \n",
       "2                                    NaN   \n",
       "3                                    NaN   \n",
       "4                                    NaN   \n",
       "\n",
       "   vertebrae_axis_female_A (or no sex)   vertebrae_axis_female_B (or no sex)   \\\n",
       "0                                   NaN                                   NaN   \n",
       "1                                   NaN                                   NaN   \n",
       "2                                   NaN                                   NaN   \n",
       "3                                   NaN                                   NaN   \n",
       "4                                   NaN                                   NaN   \n",
       "\n",
       "   vertebrae_c3_female_A  vertebrae_c3_female_B  vertebrae_c3_female_C  \\\n",
       "0              81.786690              73.256790             102.358802   \n",
       "1              84.870548              76.019019             106.218355   \n",
       "2              75.900685              67.984663              94.992269   \n",
       "3              81.243101              72.769894             101.678482   \n",
       "4              81.312909              72.832422             101.765850   \n",
       "\n",
       "   vertebrae_c7_female_A  vertebrae_c7_female_B  vertebrae_c7_female_C  Fruit  \\\n",
       "0              55.695230              72.755031             120.422120    0.0   \n",
       "1              57.795281              75.498341             124.962771    0.0   \n",
       "2              51.686970              67.519014             111.755610    0.0   \n",
       "3              55.325056              72.271470             119.621743    0.0   \n",
       "4              55.372595              72.333570             119.724529    0.0   \n",
       "\n",
       "   Root  Leaf  Woody  Herbaceous  mass_indiv_kg  \n",
       "0   0.0   1.0    0.0         1.0     112.895737  \n",
       "1   0.0   1.0    0.0         1.0     117.152597  \n",
       "2   0.0   1.0    0.0         1.0     104.770884  \n",
       "3   0.0   1.0    0.0         1.0     112.145384  \n",
       "4   0.0   1.0    0.0         1.0     112.241746  "
      ]
     },
     "execution_count": 36,
     "metadata": {},
     "output_type": "execute_result"
    }
   ],
   "source": [
    "# run the bones_augmentation function to generate 100 individuals of each species from a normal mass distribution\n",
    "augmented_bones = bones_augmentation(bones, 10, normal = True)\n",
    "augmented_bones.head()"
   ]
  },
  {
   "cell_type": "code",
   "execution_count": 37,
   "metadata": {
    "collapsed": false
   },
   "outputs": [
    {
     "data": {
      "text/html": [
       "<div>\n",
       "<table border=\"1\" class=\"dataframe\">\n",
       "  <thead>\n",
       "    <tr style=\"text-align: right;\">\n",
       "      <th></th>\n",
       "      <th>Fruit</th>\n",
       "      <th>Root</th>\n",
       "      <th>Leaf</th>\n",
       "      <th>Woody</th>\n",
       "      <th>Herbaceous</th>\n",
       "    </tr>\n",
       "  </thead>\n",
       "  <tbody>\n",
       "    <tr>\n",
       "      <th>0</th>\n",
       "      <td>0.0</td>\n",
       "      <td>0.0</td>\n",
       "      <td>1.0</td>\n",
       "      <td>0.0</td>\n",
       "      <td>1.0</td>\n",
       "    </tr>\n",
       "    <tr>\n",
       "      <th>1</th>\n",
       "      <td>0.0</td>\n",
       "      <td>0.0</td>\n",
       "      <td>1.0</td>\n",
       "      <td>0.0</td>\n",
       "      <td>1.0</td>\n",
       "    </tr>\n",
       "    <tr>\n",
       "      <th>2</th>\n",
       "      <td>0.0</td>\n",
       "      <td>0.0</td>\n",
       "      <td>1.0</td>\n",
       "      <td>0.0</td>\n",
       "      <td>1.0</td>\n",
       "    </tr>\n",
       "    <tr>\n",
       "      <th>3</th>\n",
       "      <td>0.0</td>\n",
       "      <td>0.0</td>\n",
       "      <td>1.0</td>\n",
       "      <td>0.0</td>\n",
       "      <td>1.0</td>\n",
       "    </tr>\n",
       "    <tr>\n",
       "      <th>4</th>\n",
       "      <td>0.0</td>\n",
       "      <td>0.0</td>\n",
       "      <td>1.0</td>\n",
       "      <td>0.0</td>\n",
       "      <td>1.0</td>\n",
       "    </tr>\n",
       "  </tbody>\n",
       "</table>\n",
       "</div>"
      ],
      "text/plain": [
       "   Fruit  Root  Leaf  Woody  Herbaceous\n",
       "0    0.0   0.0   1.0    0.0         1.0\n",
       "1    0.0   0.0   1.0    0.0         1.0\n",
       "2    0.0   0.0   1.0    0.0         1.0\n",
       "3    0.0   0.0   1.0    0.0         1.0\n",
       "4    0.0   0.0   1.0    0.0         1.0"
      ]
     },
     "execution_count": 37,
     "metadata": {},
     "output_type": "execute_result"
    }
   ],
   "source": [
    "# make a dataframe of the diet labels for the augmented data\n",
    "aug_diet_labels = augmented_bones[just_diets].copy()\n",
    "aug_diet_labels.head()"
   ]
  },
  {
   "cell_type": "code",
   "execution_count": 38,
   "metadata": {
    "collapsed": false
   },
   "outputs": [
    {
     "data": {
      "text/plain": [
       "<function matplotlib.pyplot.show>"
      ]
     },
     "execution_count": 38,
     "metadata": {},
     "output_type": "execute_result"
    },
    {
     "data": {
      "image/png": "[encoded data removed]",
      "text/plain": [
       "<matplotlib.figure.Figure at 0x7f3603a07ac8>"
      ]
     },
     "metadata": {},
     "output_type": "display_data"
    }
   ],
   "source": [
    "%matplotlib inline\n",
    "\n",
    "# This is just an interesting aside to see how the values are distributed in the augmented data.\n",
    "\n",
    "import matplotlib.pyplot as plt # import graphing library\n",
    "\n",
    "augmented_bones.hist(figsize=(20,15), bins=50) # make histograms of the data columns\n",
    "plt.show"
   ]
  },
  {
   "cell_type": "code",
   "execution_count": 39,
   "metadata": {
    "collapsed": false
   },
   "outputs": [],
   "source": [
    "# building the data transformations into a pipeline. Each transformer runs a transform on the data and then passes\n",
    "# the resulting array onto the next transformer\n",
    "aug_pipeline = Pipeline([\n",
    "    ('selector', DataFrameSelector(indiv_bones_and_mass)), # selects the dataframe columns and makes into an array\n",
    "    ('indiv_mass_transform', MassModifier(indiv_transform=True)), \n",
    "    ('imputer', Imputer(strategy='median')), # imputes missing array values and replaces with column medians\n",
    "    ('std_scaler', StandardScaler()) # standardizes all of the values +-[0-1] for better ML goodness\n",
    "])"
   ]
  },
  {
   "cell_type": "code",
   "execution_count": 40,
   "metadata": {
    "collapsed": false
   },
   "outputs": [],
   "source": [
    "# run the augmented dataset through the previously constructed pipeline\n",
    "# \n",
    "augmented_bones_transformed = aug_pipeline.fit_transform(augmented_bones)"
   ]
  },
  {
   "cell_type": "code",
   "execution_count": 41,
   "metadata": {
    "collapsed": false
   },
   "outputs": [
    {
     "name": "stdout",
     "output_type": "stream",
     "text": [
      "Scores: [ 0.52374851  0.42573466  0.66895441  0.44888751  0.61937468  0.3505353\n",
      "  0.4293891   0.35319966  0.77986377  0.70302916]\n",
      "Mean: 0.530271677032\n",
      "Standard deviation: 0.145170412059\n"
     ]
    }
   ],
   "source": [
    "from sklearn.ensemble import RandomForestRegressor\n",
    "forest_reg = RandomForestRegressor()\n",
    "\n",
    "# runs a random forest regressor on the augmented (3200 individuals) data\n",
    "forest_scores = cross_val_score(forest_reg, augmented_bones_transformed, aug_diet_labels, scoring=\"neg_mean_squared_error\", cv=10)\n",
    "forest_rmse_scores = np.sqrt(-forest_scores)\n",
    "display_scores(forest_rmse_scores)"
   ]
  },
  {
   "cell_type": "markdown",
   "metadata": {},
   "source": [
    "So far it looks like the augmentation improves the results substantially. "
   ]
  },
  {
   "cell_type": "markdown",
   "metadata": {},
   "source": [
    "### Fine Tuning the Augmented Analysis\n",
    "\n",
    "The following runs an almost identical grid search with the augmented data"
   ]
  },
  {
   "cell_type": "code",
   "execution_count": 42,
   "metadata": {
    "collapsed": true
   },
   "outputs": [],
   "source": [
    "all_features = list(range(1, 59))\n",
    "\n",
    "param_grid = [\n",
    "    {'n_estimators': [3, 10, 30,], 'max_features': all_features},\n",
    "    {'bootstrap': [False], 'n_estimators': [3, 10, 30], 'max_features': all_features}\n",
    "]\n",
    "\n",
    "forest_reg = RandomForestRegressor()\n",
    "grid_search = GridSearchCV(forest_reg, param_grid, cv=5, scoring='neg_mean_squared_error')"
   ]
  },
  {
   "cell_type": "code",
   "execution_count": 43,
   "metadata": {
    "collapsed": false
   },
   "outputs": [
    {
     "data": {
      "text/plain": [
       "GridSearchCV(cv=5, error_score='raise',\n",
       "       estimator=RandomForestRegressor(bootstrap=True, criterion='mse', max_depth=None,\n",
       "           max_features='auto', max_leaf_nodes=None,\n",
       "           min_impurity_split=1e-07, min_samples_leaf=1,\n",
       "           min_samples_split=2, min_weight_fraction_leaf=0.0,\n",
       "           n_estimators=10, n_jobs=1, oob_score=False, random_state=None,\n",
       "           verbose=0, warm_start=False),\n",
       "       fit_params={}, iid=True, n_jobs=1,\n",
       "       param_grid=[{'n_estimators': [3, 10, 30], 'max_features': [1, 2, 3, 4, 5, 6, 7, 8, 9, 10, 11, 12, 13, 14, 15, 16, 17, 18, 19, 20, 21, 22, 23, 24, 25, 26, 27, 28, 29, 30, 31, 32, 33, 34, 35, 36, 37, 38, 39, 40, 41, 42, 43, 44, 45, 46, 47, 48, 49, 50, 51, 52, 53, 54, 55, 56, 57, 58]}, {'n_estimators':...4, 35, 36, 37, 38, 39, 40, 41, 42, 43, 44, 45, 46, 47, 48, 49, 50, 51, 52, 53, 54, 55, 56, 57, 58]}],\n",
       "       pre_dispatch='2*n_jobs', refit=True, return_train_score=True,\n",
       "       scoring='neg_mean_squared_error', verbose=0)"
      ]
     },
     "execution_count": 43,
     "metadata": {},
     "output_type": "execute_result"
    }
   ],
   "source": [
    "grid_search.fit(augmented_bones_transformed, aug_diet_labels)"
   ]
  },
  {
   "cell_type": "code",
   "execution_count": 44,
   "metadata": {
    "collapsed": false
   },
   "outputs": [
    {
     "data": {
      "text/plain": [
       "{'bootstrap': False, 'max_features': 4, 'n_estimators': 30}"
      ]
     },
     "execution_count": 44,
     "metadata": {},
     "output_type": "execute_result"
    }
   ],
   "source": [
    "grid_search.best_params_"
   ]
  },
  {
   "cell_type": "code",
   "execution_count": 45,
   "metadata": {
    "collapsed": false
   },
   "outputs": [
    {
     "data": {
      "text/plain": [
       "RandomForestRegressor(bootstrap=False, criterion='mse', max_depth=None,\n",
       "           max_features=4, max_leaf_nodes=None, min_impurity_split=1e-07,\n",
       "           min_samples_leaf=1, min_samples_split=2,\n",
       "           min_weight_fraction_leaf=0.0, n_estimators=30, n_jobs=1,\n",
       "           oob_score=False, random_state=None, verbose=0, warm_start=False)"
      ]
     },
     "execution_count": 45,
     "metadata": {},
     "output_type": "execute_result"
    }
   ],
   "source": [
    "grid_search.best_estimator_"
   ]
  },
  {
   "cell_type": "code",
   "execution_count": 46,
   "metadata": {
    "collapsed": false
   },
   "outputs": [
    {
     "data": {
      "text/plain": [
       "[(0.045395600504171858, 'fore_p1_iii'),\n",
       " (0.040239684119748098, 'mass_max_kg'),\n",
       " (0.031695062729569151, 'scapula_B'),\n",
       " (0.031213648695645198, 'pelvis_D'),\n",
       " (0.030559201843756933, 'scapula_D'),\n",
       " (0.030557790865590569, 'metacarpal_overall'),\n",
       " (0.030201911869338741, 'scapula_A'),\n",
       " (0.029992841367403895, 'femur_promixal_B'),\n",
       " (0.02866468983099995, 'hind_p1_iii'),\n",
       " (0.025520679787073897, 'tibia_distal_A'),\n",
       " (0.022854122755433477, 'humerus_distal_B'),\n",
       " (0.022624686834446638, 'scapula_C'),\n",
       " (0.022430559117299582, 'pelvis_C'),\n",
       " (0.022176218748516403, 'femur_distal_A'),\n",
       " (0.021392769124184099, 'RU_length_T'),\n",
       " (0.01937901086983301, 'metatarsal_C'),\n",
       " (0.018959286330730442, 'ulna_length (c) '),\n",
       " (0.018937977031572524, 'mass_min_kg'),\n",
       " (0.018873173451717858, 'fore_p2_iii'),\n",
       " (0.018839026743626593, 'metatarsal_overall'),\n",
       " (0.018394471950797062, 'humerus_proximal_A'),\n",
       " (0.017412086052132982, 'humerus_promixal_B'),\n",
       " (0.016855847151736748, 'RU_distal_A_T'),\n",
       " (0.016259410817911154, 'ulna_proximal_A'),\n",
       " (0.01564467621028209, 'RU_proximal_A'),\n",
       " (0.014936711710014759, 'tibia_length (c)'),\n",
       " (0.014493618097332801, 'humerus_distal_A'),\n",
       " (0.013851617589183154, 'femur_distal_B'),\n",
       " (0.013679913761490284, 'patella_length'),\n",
       " (0.013397836837015701, 'calcaneum_length_A'),\n",
       " (0.013322625791266149, 'hind_p2_iii'),\n",
       " (0.011875411063475035, 'vertebrae_axis_female_A (or no sex) '),\n",
       " (0.011744641923230199, 'vertebrae_c7_female_A'),\n",
       " (0.011502441798221906, 'pelvis_B'),\n",
       " (0.011311715587612386, 'humerus_length_C'),\n",
       " (0.011201224948561106, 'femur_length'),\n",
       " (0.01110969897049807, 'vertebrae_atlas_female_B ( or no sex)'),\n",
       " (0.010991528090348479, 'vertebrae_atlas_female_A ( or no sex)'),\n",
       " (0.010894368977693645, 'metacarpal_A'),\n",
       " (0.010605317238014755, 'tibia_distal_B'),\n",
       " (0.010394849877930459, 'tibia_proximal_A'),\n",
       " (0.0097001590710304696, 'metacarpal_B'),\n",
       " (0.0096345756533333, 'pelvis_A'),\n",
       " (0.0091883319225619861, 'tibia_proximal_B'),\n",
       " (0.0088937291244340789, 'vertebrae_c3_female_C'),\n",
       " (0.0085986825182669466, 'vertebrae_c7_female_B'),\n",
       " (0.0083182926140642609, 'hind_p3_iii'),\n",
       " (0.0078966087862414169, 'metatarsal_D'),\n",
       " (0.0072031656150035551, 'ulna_proximal_B'),\n",
       " (0.0070601911530213581, 'vertebrae_axis_female_B (or no sex) '),\n",
       " (0.0068597300706699374, 'calcaneum_B'),\n",
       " (0.0067626256130122195, 'astragalus'),\n",
       " (0.0066553820441587674, 'vertebrae_atlas_female_C ( or no sex)'),\n",
       " (0.0066117097116460723, 'vertebrae_c3_female_A'),\n",
       " (0.0060927854523174811, 'femur_proximal_A'),\n",
       " (0.0057110805257359768, 'fore_p3_iii'),\n",
       " (0.0050998288023593628, 'vertebrae_c7_female_C'),\n",
       " (0.0031981165236338455, 'vertebrae_c3_female_B')]"
      ]
     },
     "execution_count": 46,
     "metadata": {},
     "output_type": "execute_result"
    }
   ],
   "source": [
    "# We can explore the grid search results to see which features were most important in the model\n",
    "feature_importances = grid_search.best_estimator_.feature_importances_\n",
    "sorted(zip(feature_importances, bones_and_mass), reverse=True)"
   ]
  },
  {
   "cell_type": "markdown",
   "metadata": {
    "collapsed": true
   },
   "source": [
    "### to do\n",
    "corr_matrix = bones_tr.corr()\n",
    "corr_matrix['mean_mass_kg'].sort_values(ascending=False)\n",
    "some species only have a single mass value\n",
    "def div_by_mass(data_set):\n",
    "    for k in range(len(data_set)):\n",
    "        mass = data_set[k, 'mass_indiv_kg']\n",
    "        data_set[k, just_bones] = data_set[k, just_bones] / mass\n",
    "    return data_set"
   ]
  },
  {
   "cell_type": "markdown",
   "metadata": {
    "collapsed": true
   },
   "source": []
  },
  {
   "cell_type": "code",
   "execution_count": 47,
   "metadata": {
    "collapsed": false
   },
   "outputs": [],
   "source": []
  },
  {
   "cell_type": "code",
   "execution_count": null,
   "metadata": {
    "collapsed": false
   },
   "outputs": [],
   "source": []
  },
  {
   "cell_type": "code",
   "execution_count": null,
   "metadata": {
    "collapsed": false
   },
   "outputs": [],
   "source": []
  },
  {
   "cell_type": "code",
   "execution_count": null,
   "metadata": {
    "collapsed": false
   },
   "outputs": [],
   "source": []
  },
  {
   "cell_type": "code",
   "execution_count": null,
   "metadata": {
    "collapsed": false,
    "scrolled": false
   },
   "outputs": [],
   "source": []
  },
  {
   "cell_type": "code",
   "execution_count": null,
   "metadata": {
    "collapsed": false
   },
   "outputs": [],
   "source": []
  },
  {
   "cell_type": "code",
   "execution_count": null,
   "metadata": {
    "collapsed": false
   },
   "outputs": [],
   "source": []
  },
  {
   "cell_type": "code",
   "execution_count": null,
   "metadata": {
    "collapsed": false,
    "scrolled": false
   },
   "outputs": [],
   "source": []
  },
  {
   "cell_type": "code",
   "execution_count": null,
   "metadata": {
    "collapsed": false
   },
   "outputs": [],
   "source": []
  },
  {
   "cell_type": "code",
   "execution_count": null,
   "metadata": {
    "collapsed": false
   },
   "outputs": [],
   "source": []
  },
  {
   "cell_type": "code",
   "execution_count": null,
   "metadata": {
    "collapsed": false
   },
   "outputs": [],
   "source": []
  },
  {
   "cell_type": "code",
   "execution_count": null,
   "metadata": {
    "collapsed": false
   },
   "outputs": [],
   "source": []
  },
  {
   "cell_type": "code",
   "execution_count": null,
   "metadata": {
    "collapsed": true
   },
   "outputs": [],
   "source": []
  }
 ],
 "metadata": {
  "kernelspec": {
   "display_name": "Python 3",
   "language": "python",
   "name": "python3"
  },
  "language_info": {
   "codemirror_mode": {
    "name": "ipython",
    "version": 3
   },
   "file_extension": ".py",
   "mimetype": "text/x-python",
   "name": "python",
   "nbconvert_exporter": "python",
   "pygments_lexer": "ipython3",
   "version": "3.5.2"
  }
 },
 "nbformat": 4,
 "nbformat_minor": 2
}
