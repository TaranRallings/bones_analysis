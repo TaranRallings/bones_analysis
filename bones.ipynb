{
 "cells": [
  {
   "cell_type": "markdown",
   "metadata": {},
   "source": [
    "# Bone-to-Diet Analysis of East African Mammals\n",
    "#### Taran Rallings\n",
    "#### August 1, 2017"
   ]
  },
  {
   "cell_type": "markdown",
   "metadata": {},
   "source": [
    "### Preamble\n",
    "\n",
    "The following is a machine learning analysis of the East African mammal bone data taken from the post-cranial bones ID book and dietary data taken from papers. It runs a few different machine learning algorithms on the data including linear regressions, decision trees, and random forest regressions. These are meant principally as tests of the framework not as final results. \n",
    "\n",
    "The main purpose of the code here is as a foundation. The functions and pipelines found below are intended to be modular and easy to expand upon. It should be fairly simple to make additions that do things like employ large neural networks, map to dirichlet parameters, or include additional mammals. I need to get deeper into the herbivome paper but it looks like there is a way to add herbivomes too.\n"
   ]
  },
  {
   "cell_type": "markdown",
   "metadata": {},
   "source": [
    "#### Next Up\n",
    "* decide proper scaling for linear bone measurements with mass changes\n",
    "* add a dimension reduction (PCA or LDA) to the grid search\n",
    "* transform the diet categories to dirichlet parameters and map directly to those\n"
   ]
  },
  {
   "cell_type": "markdown",
   "metadata": {},
   "source": [
    "## Preparation\n",
    "### Load the Data"
   ]
  },
  {
   "cell_type": "code",
   "execution_count": 1,
   "metadata": {
    "collapsed": true
   },
   "outputs": [],
   "source": [
    "import os # libarary lets you interact directly with the operating system\n",
    "from six.moves import urllib # library lets you call some Py2 functions with Py3 names"
   ]
  },
  {
   "cell_type": "code",
   "execution_count": 2,
   "metadata": {
    "collapsed": true
   },
   "outputs": [],
   "source": [
    "# set path for loading bone-diet data\n",
    "BONES_PATH = \"datasets/\"\n",
    "FILE_NAME = \"pcdiets_V2.csv\""
   ]
  },
  {
   "cell_type": "code",
   "execution_count": 3,
   "metadata": {
    "collapsed": false
   },
   "outputs": [],
   "source": [
    "import pandas as pd # library for handling data in data frames\n",
    "pd.set_option('display.max_columns', 100)\n",
    "\n",
    "# this function loads the bone-diet data from a .csv to a dataframe\n",
    "def load_bones_data(bones_path=BONES_PATH, file_name=FILE_NAME):\n",
    "    # bones_path should be a file path to the bones data\n",
    "    # function returns a dataframe\n",
    "    csv_path = os.path.join(bones_path, file_name)\n",
    "    return pd.read_csv(csv_path)"
   ]
  },
  {
   "cell_type": "code",
   "execution_count": 4,
   "metadata": {
    "collapsed": false
   },
   "outputs": [
    {
     "data": {
      "text/html": [
       "<div>\n",
       "<table border=\"1\" class=\"dataframe\">\n",
       "  <thead>\n",
       "    <tr style=\"text-align: right;\">\n",
       "      <th></th>\n",
       "      <th>common_name</th>\n",
       "      <th>Order</th>\n",
       "      <th>Family</th>\n",
       "      <th>Genus</th>\n",
       "      <th>Species</th>\n",
       "      <th>astragalus</th>\n",
       "      <th>calcaneum_B</th>\n",
       "      <th>calcaneum_length_A</th>\n",
       "      <th>femur_distal_A</th>\n",
       "      <th>femur_distal_B</th>\n",
       "      <th>femur_length</th>\n",
       "      <th>femur_promixal_B</th>\n",
       "      <th>femur_proximal_A</th>\n",
       "      <th>fore_p1_iii</th>\n",
       "      <th>fore_p2_iii</th>\n",
       "      <th>fore_p3_iii</th>\n",
       "      <th>hind_p1_iii</th>\n",
       "      <th>hind_p2_iii</th>\n",
       "      <th>hind_p3_iii</th>\n",
       "      <th>humerus_distal_A</th>\n",
       "      <th>humerus_distal_B</th>\n",
       "      <th>humerus_length_C</th>\n",
       "      <th>humerus_promixal_B</th>\n",
       "      <th>humerus_proximal_A</th>\n",
       "      <th>mass_max_kg</th>\n",
       "      <th>mass_min_kg</th>\n",
       "      <th>metacarpal_A</th>\n",
       "      <th>metacarpal_B</th>\n",
       "      <th>metatarsal_C</th>\n",
       "      <th>metatarsal_D</th>\n",
       "      <th>metacarpal_overall</th>\n",
       "      <th>metatarsal_overall</th>\n",
       "      <th>patella_length</th>\n",
       "      <th>pelvis_A</th>\n",
       "      <th>pelvis_B</th>\n",
       "      <th>pelvis_C</th>\n",
       "      <th>pelvis_D</th>\n",
       "      <th>RU_length_T</th>\n",
       "      <th>RU_distal_A_T</th>\n",
       "      <th>RU_proximal_A</th>\n",
       "      <th>scapula_A</th>\n",
       "      <th>scapula_B</th>\n",
       "      <th>scapula_C</th>\n",
       "      <th>scapula_D</th>\n",
       "      <th>tibia_distal_A</th>\n",
       "      <th>tibia_distal_B</th>\n",
       "      <th>tibia_length (c)</th>\n",
       "      <th>tibia_proximal_A</th>\n",
       "      <th>tibia_proximal_B</th>\n",
       "      <th>ulna_length (c)</th>\n",
       "      <th>ulna_proximal_A</th>\n",
       "      <th>ulna_proximal_B</th>\n",
       "      <th>vertebrae_atlas_female_A ( or no sex)</th>\n",
       "      <th>vertebrae_atlas_female_B ( or no sex)</th>\n",
       "      <th>vertebrae_atlas_female_C ( or no sex)</th>\n",
       "      <th>vertebrae_axis_female_A (or no sex)</th>\n",
       "      <th>vertebrae_axis_female_B (or no sex)</th>\n",
       "      <th>vertebrae_c3_female_A</th>\n",
       "      <th>vertebrae_c3_female_B</th>\n",
       "      <th>vertebrae_c3_female_C</th>\n",
       "      <th>vertebrae_c7_female_A</th>\n",
       "      <th>vertebrae_c7_female_B</th>\n",
       "      <th>vertebrae_c7_female_C</th>\n",
       "      <th>Fruit</th>\n",
       "      <th>Root</th>\n",
       "      <th>Leaf</th>\n",
       "      <th>Woody</th>\n",
       "      <th>Herbaceous</th>\n",
       "    </tr>\n",
       "  </thead>\n",
       "  <tbody>\n",
       "    <tr>\n",
       "      <th>0</th>\n",
       "      <td>ELEPHANT</td>\n",
       "      <td>Proboscidea</td>\n",
       "      <td>Elephantidae</td>\n",
       "      <td>Loxodonta</td>\n",
       "      <td>africana</td>\n",
       "      <td>109.0</td>\n",
       "      <td>NaN</td>\n",
       "      <td>190.0</td>\n",
       "      <td>168.0</td>\n",
       "      <td>100.0</td>\n",
       "      <td>1000</td>\n",
       "      <td>126.0</td>\n",
       "      <td>270.0</td>\n",
       "      <td>80.0</td>\n",
       "      <td>40.0</td>\n",
       "      <td>NaN</td>\n",
       "      <td>70.0</td>\n",
       "      <td>32.0</td>\n",
       "      <td>NaN</td>\n",
       "      <td>117.0</td>\n",
       "      <td>90.5</td>\n",
       "      <td>835</td>\n",
       "      <td>114.0</td>\n",
       "      <td>178.0</td>\n",
       "      <td>6500</td>\n",
       "      <td>3500.0</td>\n",
       "      <td>NaN</td>\n",
       "      <td>NaN</td>\n",
       "      <td>NaN</td>\n",
       "      <td>NaN</td>\n",
       "      <td>NaN</td>\n",
       "      <td>NaN</td>\n",
       "      <td>146.0</td>\n",
       "      <td>142.0</td>\n",
       "      <td>320.0</td>\n",
       "      <td>790.0</td>\n",
       "      <td>850.0</td>\n",
       "      <td>680.0</td>\n",
       "      <td>134.0</td>\n",
       "      <td>94.5</td>\n",
       "      <td>210.0</td>\n",
       "      <td>116.0</td>\n",
       "      <td>187.0</td>\n",
       "      <td>710.0</td>\n",
       "      <td>127.0</td>\n",
       "      <td>79.0</td>\n",
       "      <td>625</td>\n",
       "      <td>157.0</td>\n",
       "      <td>54.0</td>\n",
       "      <td>765.0</td>\n",
       "      <td>85.0</td>\n",
       "      <td>176.0</td>\n",
       "      <td>293.0</td>\n",
       "      <td>193.0</td>\n",
       "      <td>165.0</td>\n",
       "      <td>132.0</td>\n",
       "      <td>220.0</td>\n",
       "      <td>46.5</td>\n",
       "      <td>206.0</td>\n",
       "      <td>141.5</td>\n",
       "      <td>44.0</td>\n",
       "      <td>300.0</td>\n",
       "      <td>145.0</td>\n",
       "      <td>1</td>\n",
       "      <td>1</td>\n",
       "      <td>1</td>\n",
       "      <td>1</td>\n",
       "      <td>1</td>\n",
       "    </tr>\n",
       "    <tr>\n",
       "      <th>1</th>\n",
       "      <td>HIPPO</td>\n",
       "      <td>Artiodactyla</td>\n",
       "      <td>Hippopotamidae</td>\n",
       "      <td>Hippopotamus</td>\n",
       "      <td>amphibius</td>\n",
       "      <td>77.0</td>\n",
       "      <td>126.0</td>\n",
       "      <td>186.0</td>\n",
       "      <td>162.0</td>\n",
       "      <td>107.0</td>\n",
       "      <td>521</td>\n",
       "      <td>82.0</td>\n",
       "      <td>186.0</td>\n",
       "      <td>59.0</td>\n",
       "      <td>35.0</td>\n",
       "      <td>24.0</td>\n",
       "      <td>60.0</td>\n",
       "      <td>37.0</td>\n",
       "      <td>30.0</td>\n",
       "      <td>111.0</td>\n",
       "      <td>60.5</td>\n",
       "      <td>492</td>\n",
       "      <td>96.0</td>\n",
       "      <td>144.0</td>\n",
       "      <td>2633</td>\n",
       "      <td>1135.0</td>\n",
       "      <td>NaN</td>\n",
       "      <td>NaN</td>\n",
       "      <td>NaN</td>\n",
       "      <td>NaN</td>\n",
       "      <td>NaN</td>\n",
       "      <td>NaN</td>\n",
       "      <td>90.0</td>\n",
       "      <td>83.0</td>\n",
       "      <td>350.0</td>\n",
       "      <td>345.0</td>\n",
       "      <td>750.0</td>\n",
       "      <td>NaN</td>\n",
       "      <td>108.0</td>\n",
       "      <td>NaN</td>\n",
       "      <td>86.5</td>\n",
       "      <td>68.5</td>\n",
       "      <td>81.0</td>\n",
       "      <td>403.0</td>\n",
       "      <td>85.0</td>\n",
       "      <td>57.5</td>\n",
       "      <td>333</td>\n",
       "      <td>135.5</td>\n",
       "      <td>56.0</td>\n",
       "      <td>NaN</td>\n",
       "      <td>NaN</td>\n",
       "      <td>NaN</td>\n",
       "      <td>285.0</td>\n",
       "      <td>153.0</td>\n",
       "      <td>140.0</td>\n",
       "      <td>125.0</td>\n",
       "      <td>150.0</td>\n",
       "      <td>55.0</td>\n",
       "      <td>187.0</td>\n",
       "      <td>137.0</td>\n",
       "      <td>51.5</td>\n",
       "      <td>128.0</td>\n",
       "      <td>217.0</td>\n",
       "      <td>0</td>\n",
       "      <td>0</td>\n",
       "      <td>1</td>\n",
       "      <td>0</td>\n",
       "      <td>1</td>\n",
       "    </tr>\n",
       "    <tr>\n",
       "      <th>2</th>\n",
       "      <td>GIRAFFE</td>\n",
       "      <td>Artiodactyla</td>\n",
       "      <td>Giraffidae</td>\n",
       "      <td>Giraffa</td>\n",
       "      <td>camelopardalis</td>\n",
       "      <td>77.0</td>\n",
       "      <td>143.0</td>\n",
       "      <td>205.0</td>\n",
       "      <td>147.0</td>\n",
       "      <td>114.0</td>\n",
       "      <td>516</td>\n",
       "      <td>53.0</td>\n",
       "      <td>185.0</td>\n",
       "      <td>132.0</td>\n",
       "      <td>56.0</td>\n",
       "      <td>113.0</td>\n",
       "      <td>117.0</td>\n",
       "      <td>53.0</td>\n",
       "      <td>97.0</td>\n",
       "      <td>122.0</td>\n",
       "      <td>54.5</td>\n",
       "      <td>490</td>\n",
       "      <td>125.0</td>\n",
       "      <td>157.0</td>\n",
       "      <td>1180</td>\n",
       "      <td>1180.0</td>\n",
       "      <td>89.5</td>\n",
       "      <td>49.5</td>\n",
       "      <td>80.0</td>\n",
       "      <td>39.5</td>\n",
       "      <td>633.0</td>\n",
       "      <td>640.0</td>\n",
       "      <td>97.0</td>\n",
       "      <td>99.0</td>\n",
       "      <td>208.0</td>\n",
       "      <td>345.0</td>\n",
       "      <td>515.0</td>\n",
       "      <td>687.0</td>\n",
       "      <td>107.0</td>\n",
       "      <td>111.0</td>\n",
       "      <td>99.0</td>\n",
       "      <td>87.5</td>\n",
       "      <td>94.0</td>\n",
       "      <td>648.0</td>\n",
       "      <td>109.0</td>\n",
       "      <td>71.5</td>\n",
       "      <td>642</td>\n",
       "      <td>161.5</td>\n",
       "      <td>71.0</td>\n",
       "      <td>325.0</td>\n",
       "      <td>48.5</td>\n",
       "      <td>65.0</td>\n",
       "      <td>118.0</td>\n",
       "      <td>92.0</td>\n",
       "      <td>155.0</td>\n",
       "      <td>254.0</td>\n",
       "      <td>125.0</td>\n",
       "      <td>246.0</td>\n",
       "      <td>62.5</td>\n",
       "      <td>75.0</td>\n",
       "      <td>235.0</td>\n",
       "      <td>100.0</td>\n",
       "      <td>183.0</td>\n",
       "      <td>0</td>\n",
       "      <td>0</td>\n",
       "      <td>1</td>\n",
       "      <td>1</td>\n",
       "      <td>0</td>\n",
       "    </tr>\n",
       "    <tr>\n",
       "      <th>3</th>\n",
       "      <td>COLOBUS</td>\n",
       "      <td>Primates</td>\n",
       "      <td>Haplorhini</td>\n",
       "      <td>Colobus</td>\n",
       "      <td>guereza</td>\n",
       "      <td>25.5</td>\n",
       "      <td>NaN</td>\n",
       "      <td>36.5</td>\n",
       "      <td>31.5</td>\n",
       "      <td>16.5</td>\n",
       "      <td>201</td>\n",
       "      <td>14.0</td>\n",
       "      <td>34.0</td>\n",
       "      <td>NaN</td>\n",
       "      <td>NaN</td>\n",
       "      <td>NaN</td>\n",
       "      <td>NaN</td>\n",
       "      <td>NaN</td>\n",
       "      <td>NaN</td>\n",
       "      <td>23.5</td>\n",
       "      <td>10.0</td>\n",
       "      <td>148</td>\n",
       "      <td>148.0</td>\n",
       "      <td>20.5</td>\n",
       "      <td>15</td>\n",
       "      <td>12.0</td>\n",
       "      <td>NaN</td>\n",
       "      <td>NaN</td>\n",
       "      <td>NaN</td>\n",
       "      <td>NaN</td>\n",
       "      <td>NaN</td>\n",
       "      <td>NaN</td>\n",
       "      <td>NaN</td>\n",
       "      <td>24.0</td>\n",
       "      <td>47.0</td>\n",
       "      <td>49.5</td>\n",
       "      <td>154.0</td>\n",
       "      <td>136.0</td>\n",
       "      <td>13.5</td>\n",
       "      <td>12.5</td>\n",
       "      <td>22.0</td>\n",
       "      <td>11.5</td>\n",
       "      <td>17.5</td>\n",
       "      <td>79.5</td>\n",
       "      <td>22.0</td>\n",
       "      <td>16.0</td>\n",
       "      <td>186</td>\n",
       "      <td>32.0</td>\n",
       "      <td>22.5</td>\n",
       "      <td>153.0</td>\n",
       "      <td>10.5</td>\n",
       "      <td>14.5</td>\n",
       "      <td>NaN</td>\n",
       "      <td>NaN</td>\n",
       "      <td>NaN</td>\n",
       "      <td>NaN</td>\n",
       "      <td>NaN</td>\n",
       "      <td>NaN</td>\n",
       "      <td>NaN</td>\n",
       "      <td>NaN</td>\n",
       "      <td>NaN</td>\n",
       "      <td>NaN</td>\n",
       "      <td>NaN</td>\n",
       "      <td>1</td>\n",
       "      <td>0</td>\n",
       "      <td>1</td>\n",
       "      <td>0</td>\n",
       "      <td>0</td>\n",
       "    </tr>\n",
       "    <tr>\n",
       "      <th>4</th>\n",
       "      <td>VERVET</td>\n",
       "      <td>Primates</td>\n",
       "      <td>Cercopithecidae</td>\n",
       "      <td>Chlorocebus</td>\n",
       "      <td>pygerythrus</td>\n",
       "      <td>16.0</td>\n",
       "      <td>NaN</td>\n",
       "      <td>26.5</td>\n",
       "      <td>19.5</td>\n",
       "      <td>9.5</td>\n",
       "      <td>143</td>\n",
       "      <td>8.5</td>\n",
       "      <td>23.5</td>\n",
       "      <td>NaN</td>\n",
       "      <td>NaN</td>\n",
       "      <td>NaN</td>\n",
       "      <td>NaN</td>\n",
       "      <td>NaN</td>\n",
       "      <td>NaN</td>\n",
       "      <td>14.5</td>\n",
       "      <td>7.5</td>\n",
       "      <td>121</td>\n",
       "      <td>13.0</td>\n",
       "      <td>13.5</td>\n",
       "      <td>8</td>\n",
       "      <td>4.5</td>\n",
       "      <td>NaN</td>\n",
       "      <td>NaN</td>\n",
       "      <td>NaN</td>\n",
       "      <td>NaN</td>\n",
       "      <td>NaN</td>\n",
       "      <td>NaN</td>\n",
       "      <td>NaN</td>\n",
       "      <td>16.5</td>\n",
       "      <td>32.0</td>\n",
       "      <td>27.0</td>\n",
       "      <td>100.5</td>\n",
       "      <td>119.0</td>\n",
       "      <td>13.5</td>\n",
       "      <td>9.5</td>\n",
       "      <td>15.5</td>\n",
       "      <td>10.5</td>\n",
       "      <td>14.5</td>\n",
       "      <td>69.5</td>\n",
       "      <td>13.0</td>\n",
       "      <td>9.5</td>\n",
       "      <td>135</td>\n",
       "      <td>19.5</td>\n",
       "      <td>13.0</td>\n",
       "      <td>133.0</td>\n",
       "      <td>8.5</td>\n",
       "      <td>12.5</td>\n",
       "      <td>NaN</td>\n",
       "      <td>NaN</td>\n",
       "      <td>NaN</td>\n",
       "      <td>NaN</td>\n",
       "      <td>NaN</td>\n",
       "      <td>NaN</td>\n",
       "      <td>NaN</td>\n",
       "      <td>NaN</td>\n",
       "      <td>NaN</td>\n",
       "      <td>NaN</td>\n",
       "      <td>NaN</td>\n",
       "      <td>1</td>\n",
       "      <td>0</td>\n",
       "      <td>0</td>\n",
       "      <td>0</td>\n",
       "      <td>0</td>\n",
       "    </tr>\n",
       "  </tbody>\n",
       "</table>\n",
       "</div>"
      ],
      "text/plain": [
       "                                        common_name         Order  \\\n",
       "0  ELEPHANT                                           Proboscidea   \n",
       "1                                             HIPPO  Artiodactyla   \n",
       "2                                           GIRAFFE  Artiodactyla   \n",
       "3                                           COLOBUS      Primates   \n",
       "4                                            VERVET      Primates   \n",
       "\n",
       "            Family         Genus         Species  astragalus  calcaneum_B  \\\n",
       "0     Elephantidae     Loxodonta        africana       109.0          NaN   \n",
       "1   Hippopotamidae  Hippopotamus       amphibius        77.0        126.0   \n",
       "2       Giraffidae       Giraffa  camelopardalis        77.0        143.0   \n",
       "3       Haplorhini       Colobus         guereza        25.5          NaN   \n",
       "4  Cercopithecidae   Chlorocebus     pygerythrus        16.0          NaN   \n",
       "\n",
       "   calcaneum_length_A  femur_distal_A  femur_distal_B  femur_length  \\\n",
       "0               190.0           168.0           100.0          1000   \n",
       "1               186.0           162.0           107.0           521   \n",
       "2               205.0           147.0           114.0           516   \n",
       "3                36.5            31.5            16.5           201   \n",
       "4                26.5            19.5             9.5           143   \n",
       "\n",
       "   femur_promixal_B  femur_proximal_A  fore_p1_iii  fore_p2_iii  fore_p3_iii  \\\n",
       "0             126.0             270.0         80.0         40.0          NaN   \n",
       "1              82.0             186.0         59.0         35.0         24.0   \n",
       "2              53.0             185.0        132.0         56.0        113.0   \n",
       "3              14.0              34.0          NaN          NaN          NaN   \n",
       "4               8.5              23.5          NaN          NaN          NaN   \n",
       "\n",
       "   hind_p1_iii  hind_p2_iii  hind_p3_iii  humerus_distal_A  humerus_distal_B  \\\n",
       "0         70.0         32.0          NaN             117.0              90.5   \n",
       "1         60.0         37.0         30.0             111.0              60.5   \n",
       "2        117.0         53.0         97.0             122.0              54.5   \n",
       "3          NaN          NaN          NaN              23.5              10.0   \n",
       "4          NaN          NaN          NaN              14.5               7.5   \n",
       "\n",
       "   humerus_length_C  humerus_promixal_B  humerus_proximal_A  mass_max_kg  \\\n",
       "0               835               114.0               178.0         6500   \n",
       "1               492                96.0               144.0         2633   \n",
       "2               490               125.0               157.0         1180   \n",
       "3               148               148.0                20.5           15   \n",
       "4               121                13.0                13.5            8   \n",
       "\n",
       "   mass_min_kg  metacarpal_A  metacarpal_B  metatarsal_C  metatarsal_D  \\\n",
       "0       3500.0           NaN           NaN           NaN           NaN   \n",
       "1       1135.0           NaN           NaN           NaN           NaN   \n",
       "2       1180.0          89.5          49.5          80.0          39.5   \n",
       "3         12.0           NaN           NaN           NaN           NaN   \n",
       "4          4.5           NaN           NaN           NaN           NaN   \n",
       "\n",
       "   metacarpal_overall  metatarsal_overall  patella_length  pelvis_A  pelvis_B  \\\n",
       "0                 NaN                 NaN           146.0     142.0     320.0   \n",
       "1                 NaN                 NaN            90.0      83.0     350.0   \n",
       "2               633.0               640.0            97.0      99.0     208.0   \n",
       "3                 NaN                 NaN             NaN      24.0      47.0   \n",
       "4                 NaN                 NaN             NaN      16.5      32.0   \n",
       "\n",
       "   pelvis_C  pelvis_D  RU_length_T  RU_distal_A_T  RU_proximal_A  scapula_A  \\\n",
       "0     790.0     850.0        680.0          134.0           94.5      210.0   \n",
       "1     345.0     750.0          NaN          108.0            NaN       86.5   \n",
       "2     345.0     515.0        687.0          107.0          111.0       99.0   \n",
       "3      49.5     154.0        136.0           13.5           12.5       22.0   \n",
       "4      27.0     100.5        119.0           13.5            9.5       15.5   \n",
       "\n",
       "   scapula_B  scapula_C  scapula_D  tibia_distal_A  tibia_distal_B  \\\n",
       "0      116.0      187.0      710.0           127.0            79.0   \n",
       "1       68.5       81.0      403.0            85.0            57.5   \n",
       "2       87.5       94.0      648.0           109.0            71.5   \n",
       "3       11.5       17.5       79.5            22.0            16.0   \n",
       "4       10.5       14.5       69.5            13.0             9.5   \n",
       "\n",
       "   tibia_length (c)  tibia_proximal_A  tibia_proximal_B  ulna_length (c)   \\\n",
       "0               625             157.0              54.0             765.0   \n",
       "1               333             135.5              56.0               NaN   \n",
       "2               642             161.5              71.0             325.0   \n",
       "3               186              32.0              22.5             153.0   \n",
       "4               135              19.5              13.0             133.0   \n",
       "\n",
       "   ulna_proximal_A  ulna_proximal_B  vertebrae_atlas_female_A ( or no sex)  \\\n",
       "0             85.0            176.0                                  293.0   \n",
       "1              NaN              NaN                                  285.0   \n",
       "2             48.5             65.0                                  118.0   \n",
       "3             10.5             14.5                                    NaN   \n",
       "4              8.5             12.5                                    NaN   \n",
       "\n",
       "   vertebrae_atlas_female_B ( or no sex)  \\\n",
       "0                                  193.0   \n",
       "1                                  153.0   \n",
       "2                                   92.0   \n",
       "3                                    NaN   \n",
       "4                                    NaN   \n",
       "\n",
       "   vertebrae_atlas_female_C ( or no sex)  \\\n",
       "0                                  165.0   \n",
       "1                                  140.0   \n",
       "2                                  155.0   \n",
       "3                                    NaN   \n",
       "4                                    NaN   \n",
       "\n",
       "   vertebrae_axis_female_A (or no sex)   vertebrae_axis_female_B (or no sex)   \\\n",
       "0                                 132.0                                 220.0   \n",
       "1                                 125.0                                 150.0   \n",
       "2                                 254.0                                 125.0   \n",
       "3                                   NaN                                   NaN   \n",
       "4                                   NaN                                   NaN   \n",
       "\n",
       "   vertebrae_c3_female_A  vertebrae_c3_female_B  vertebrae_c3_female_C  \\\n",
       "0                   46.5                  206.0                  141.5   \n",
       "1                   55.0                  187.0                  137.0   \n",
       "2                  246.0                   62.5                   75.0   \n",
       "3                    NaN                    NaN                    NaN   \n",
       "4                    NaN                    NaN                    NaN   \n",
       "\n",
       "   vertebrae_c7_female_A  vertebrae_c7_female_B  vertebrae_c7_female_C  Fruit  \\\n",
       "0                   44.0                  300.0                  145.0      1   \n",
       "1                   51.5                  128.0                  217.0      0   \n",
       "2                  235.0                  100.0                  183.0      0   \n",
       "3                    NaN                    NaN                    NaN      1   \n",
       "4                    NaN                    NaN                    NaN      1   \n",
       "\n",
       "   Root  Leaf  Woody  Herbaceous  \n",
       "0     1     1      1           1  \n",
       "1     0     1      0           1  \n",
       "2     0     1      1           0  \n",
       "3     0     1      0           0  \n",
       "4     0     0      0           0  "
      ]
     },
     "execution_count": 4,
     "metadata": {},
     "output_type": "execute_result"
    }
   ],
   "source": [
    "bones = load_bones_data() # load the bone and diet data\n",
    "bones.head() # take a look at the first few rows"
   ]
  },
  {
   "cell_type": "code",
   "execution_count": 5,
   "metadata": {
    "collapsed": false
   },
   "outputs": [
    {
     "data": {
      "text/plain": [
       "<function matplotlib.pyplot.show>"
      ]
     },
     "execution_count": 5,
     "metadata": {},
     "output_type": "execute_result"
    },
    {
     "data": {
      "image/png": "[encoded data removed]",
      "text/plain": [
       "<matplotlib.figure.Figure at 0x7f72cc69c0f0>"
      ]
     },
     "metadata": {},
     "output_type": "display_data"
    }
   ],
   "source": [
    "%matplotlib inline\n",
    "import matplotlib.pyplot as plt # import graphing library\n",
    "\n",
    "bones.hist(figsize=(20,15), bins=50) # make histograms of the data columns\n",
    "plt.show"
   ]
  },
  {
   "cell_type": "markdown",
   "metadata": {},
   "source": [
    "### Preprocessing"
   ]
  },
  {
   "cell_type": "code",
   "execution_count": 6,
   "metadata": {
    "collapsed": true
   },
   "outputs": [],
   "source": [
    "import numpy as np # add library for multi dimensional arrays and a bunch of numerical operations\n",
    "\n",
    "# this functions splits the data into testing and training sets\n",
    "def split_train_test(data, test_ratio):\n",
    "    # data should be a pandas dataframe, test_ratio should be a float [0-1]\n",
    "    # function returns two data frames\n",
    "    np.random.seed(42)\n",
    "    shuffled_indices = np.random.permutation(len(data)) # randomizes the indices list\n",
    "    test_set_size = int(len(data) * test_ratio) # sets int length of test set\n",
    "    test_indices = shuffled_indices[:test_set_size] # creates list of test set indices\n",
    "    train_indices = shuffled_indices[test_set_size:] # creates list of train set indices\n",
    "    return data.iloc[train_indices], data.iloc[test_indices] "
   ]
  },
  {
   "cell_type": "code",
   "execution_count": 7,
   "metadata": {
    "collapsed": false
   },
   "outputs": [
    {
     "name": "stdout",
     "output_type": "stream",
     "text": [
      "32 train + 7 test\n"
     ]
    }
   ],
   "source": [
    "train_set, test_set = split_train_test(bones, 0.2) # create the training/testing sets with a 4/1 ratio\n",
    "print(len(train_set), \"train +\", len(test_set), \"test\")"
   ]
  },
  {
   "cell_type": "code",
   "execution_count": 8,
   "metadata": {
    "collapsed": true
   },
   "outputs": [],
   "source": [
    "bones = train_set.copy() # make a copy of the training set to use to avoid accidently changing original data"
   ]
  },
  {
   "cell_type": "code",
   "execution_count": 9,
   "metadata": {
    "collapsed": false
   },
   "outputs": [],
   "source": [
    "# seperating column names into lists that make it easier to select specific types of data \n",
    "\n",
    "just_bones = [\n",
    " 'astragalus', 'calcaneum_B', 'calcaneum_length_A','femur_distal_A','femur_distal_B','femur_length',\n",
    " 'femur_promixal_B','femur_proximal_A','fore_p1_iii','fore_p2_iii','fore_p3_iii','hind_p1_iii','hind_p2_iii',\n",
    " 'hind_p3_iii','humerus_distal_A', 'humerus_distal_B', 'humerus_length_C', 'humerus_promixal_B', 'humerus_proximal_A',\n",
    " 'metacarpal_A', 'metacarpal_B', 'metatarsal_C', 'metatarsal_D', 'metacarpal_overall', 'metatarsal_overall',\n",
    " 'patella_length', 'pelvis_A', 'pelvis_B', 'pelvis_C', 'pelvis_D', 'RU_length_T', 'RU_distal_A_T', 'RU_proximal_A',\n",
    " 'scapula_A', 'scapula_B', 'scapula_C', 'scapula_D', 'tibia_distal_A', 'tibia_distal_B', 'tibia_length (c)', 'tibia_proximal_A',\n",
    " 'tibia_proximal_B', 'ulna_length (c) ', 'ulna_proximal_A', 'ulna_proximal_B', 'vertebrae_atlas_female_A ( or no sex)',\n",
    " 'vertebrae_atlas_female_B ( or no sex)', 'vertebrae_atlas_female_C ( or no sex)', 'vertebrae_axis_female_A (or no sex) ',\n",
    " 'vertebrae_axis_female_B (or no sex) ', 'vertebrae_c3_female_A', 'vertebrae_c3_female_B', 'vertebrae_c3_female_C',\n",
    " 'vertebrae_c7_female_A', 'vertebrae_c7_female_B', 'vertebrae_c7_female_C',\n",
    "]\n",
    "\n",
    "just_diets = [\n",
    " 'Fruit',\n",
    " 'Root',\n",
    " 'Leaf',\n",
    " 'Woody',\n",
    " 'Herbaceous'\n",
    "]\n"
   ]
  },
  {
   "cell_type": "code",
   "execution_count": 10,
   "metadata": {
    "collapsed": true
   },
   "outputs": [],
   "source": [
    "# function to add mass data to column name list to avoid having to specify another huge llist\n",
    "def make_list_with_mass(old_list, indivs = False):\n",
    "    # old_list is a list of column names\n",
    "    # returns column name list + the names of the mass columns\n",
    "    new_list = [e for e in old_list]\n",
    "    new_list.append('mass_min_kg')\n",
    "    new_list.append('mass_max_kg')\n",
    "    if indivs:\n",
    "        new_list.append('mass_indiv_kg')\n",
    "    return new_list\n",
    "\n",
    "# function to remove diet column names from a list of column names\n",
    "def remove_diets(old_list):\n",
    "    # old list is a list of column names\n",
    "    # returns a column name list - the names of diet columns\n",
    "    new_list = old_list.copy()\n",
    "    for d in just_diets:\n",
    "        new_list.remove(d)\n",
    "    return new_list\n",
    "\n",
    "\n",
    "no_diets = remove_diets(list(bones)) # makes a list of every column name except for the diets\n",
    "    \n",
    "bones_and_mass = make_list_with_mass(just_bones) # makes a list of of bone and mass column names\n",
    "indiv_bones_and_mass = make_list_with_mass(just_bones, indivs = True)"
   ]
  },
  {
   "cell_type": "markdown",
   "metadata": {},
   "source": [
    "## Clean and Prepare the Data for Machine Learning Algorithms"
   ]
  },
  {
   "cell_type": "code",
   "execution_count": 11,
   "metadata": {
    "collapsed": false
   },
   "outputs": [],
   "source": [
    "# this creates a dataframe of just the diet data for each species entry, it provides a target for training the algorithms\n",
    "diet_labels = train_set[just_diets].copy() "
   ]
  },
  {
   "cell_type": "markdown",
   "metadata": {
    "collapsed": false
   },
   "source": [
    "### Custom Transformers"
   ]
  },
  {
   "cell_type": "code",
   "execution_count": 12,
   "metadata": {
    "collapsed": false
   },
   "outputs": [],
   "source": [
    "from sklearn.base import BaseEstimator, TransformerMixin\n",
    "\n",
    "# class for adding a mean mass column and dividing all bone data by mean mass\n",
    "mass_min_ix, mass_max_ix, mass_indiv_ix = 56, 57, 58,  # string variables for column numbers of mass \n",
    "\n",
    "# class for adding a mean mass column and dividing all bone data by mean mass\n",
    "class MassModifier(BaseEstimator, TransformerMixin):\n",
    "    def __init__(self, mass_transform = True, indiv_transform = False):\n",
    "        self.mass_transform = mass_transform # mass_transform is a bool, True by default\n",
    "        self.indiv_transform = indiv_transform # indiv_transform is a bool, False by default\n",
    "    def fit(self, X, y=None):\n",
    "        return self # nothing else to do\n",
    "    def transform(self, X, y=None): \n",
    "        # takes a np array, returns a np array with an mean mass value and optionally divides values by mean mass\n",
    "        if not self.indiv_transform:\n",
    "            mass_kg = (X[:,mass_max_ix] + X[:,mass_min_ix]) / 2 # creates a mean body mass value for a species\n",
    "        else:\n",
    "            mass_kg = X[:,mass_indiv_ix]\n",
    "        if self.mass_transform: # if mean_transform was set to True\n",
    "            X = X / mass_kg[0] # divide bone values by mean mass\n",
    "            return np.c_[X, mass_kg]\n",
    "        else:    \n",
    "            return np.c_[X, mass_kg]"
   ]
  },
  {
   "cell_type": "code",
   "execution_count": 13,
   "metadata": {
    "collapsed": false
   },
   "outputs": [],
   "source": [
    "from sklearn.base import BaseEstimator, TransformerMixin\n",
    "\n",
    "# class for making numpy array out of pandas dataframe\n",
    "class DataFrameSelector(BaseEstimator, TransformerMixin):\n",
    "    def __init__(self, attribute_names):\n",
    "        self.attribute_names=attribute_names\n",
    "    def fit(self, X, y=None):\n",
    "        return self\n",
    "    def transform(self, X):\n",
    "        # takes a dataframe and returns its values as a np array\n",
    "        return X[self.attribute_names].values"
   ]
  },
  {
   "cell_type": "markdown",
   "metadata": {},
   "source": [
    "### Transformation Pipelines"
   ]
  },
  {
   "cell_type": "code",
   "execution_count": 14,
   "metadata": {
    "collapsed": false
   },
   "outputs": [],
   "source": [
    "from sklearn.pipeline import Pipeline # library for building pipelines\n",
    "from sklearn.preprocessing import StandardScaler # library for scaling values +-[0-1]\n",
    "from sklearn.preprocessing import Imputer # library for imputing missing values in the data\n"
   ]
  },
  {
   "cell_type": "code",
   "execution_count": 15,
   "metadata": {
    "collapsed": false
   },
   "outputs": [],
   "source": [
    "# building the data transformations into a pipeline. Each transformer runs a transform on the data and then passes\n",
    "# the resulting array onto the next transformer\n",
    "pipeline = Pipeline([\n",
    "    ('selector', DataFrameSelector(bones_and_mass)), # selects the dataframe columns and makes into an array\n",
    "    ('mass_transform', MassModifier()), # adds the mean mass column and divides all bone measurements by it\n",
    "    ('imputer', Imputer(strategy='median')), # imputes missing array values and replaces with column medians\n",
    "    ('std_scaler', StandardScaler()) # standardizes all of the values +-[0-1] for better ML goodness\n",
    "])"
   ]
  },
  {
   "cell_type": "code",
   "execution_count": 16,
   "metadata": {
    "collapsed": false
   },
   "outputs": [],
   "source": [
    "bones_transformed = pipeline.fit_transform(bones) # runs the full transformer pipeline on the bones data"
   ]
  },
  {
   "cell_type": "code",
   "execution_count": 17,
   "metadata": {
    "collapsed": false
   },
   "outputs": [
    {
     "data": {
      "text/plain": [
       "array([ 0.43307293,  0.8029378 ,  0.6368969 ,  0.12209614,  0.58163155,\n",
       "        0.17791525,  0.03088902,  0.19195179,  0.92069285,  0.85737455,\n",
       "        0.81375962,  0.82636408,  1.0760747 ,  0.98513633,  0.15803981,\n",
       "        0.1354667 ,  0.06252322, -0.20146874,  0.24245179,  0.65549645,\n",
       "        0.21543259,  0.61666145,  0.41419065,  0.41705375,  0.39589536,\n",
       "        0.27604832,  0.55294034,  0.04620978, -0.24971004,  0.18650191,\n",
       "       -0.48574771, -0.26967165, -0.28710958, -0.10288251,  1.25402241,\n",
       "       -0.20440481, -0.50422987,  0.21672423,  0.06404704,  0.48508898,\n",
       "        0.25857024, -0.01698038,  0.87339929, -0.1081691 , -0.14754452,\n",
       "       -0.17792323, -0.19346158, -0.07964668, -0.10080762, -0.04651252,\n",
       "        0.48010778, -0.0980429 ,  1.08269293,  0.06368593, -0.04543727,\n",
       "        0.19670795, -0.32836985, -0.32989823, -0.33106162])"
      ]
     },
     "execution_count": 17,
     "metadata": {},
     "output_type": "execute_result"
    }
   ],
   "source": [
    "bones_transformed[0] # check to make sure the data looks good"
   ]
  },
  {
   "cell_type": "code",
   "execution_count": 18,
   "metadata": {
    "collapsed": false
   },
   "outputs": [
    {
     "data": {
      "text/plain": [
       "(32, 59)"
      ]
     },
     "execution_count": 18,
     "metadata": {},
     "output_type": "execute_result"
    }
   ],
   "source": [
    "bones_transformed.shape # check to make sure its the shape we expect"
   ]
  },
  {
   "cell_type": "markdown",
   "metadata": {},
   "source": [
    "## Select and Train the Model"
   ]
  },
  {
   "cell_type": "markdown",
   "metadata": {},
   "source": [
    "### Training and Evalutating on the Training Set"
   ]
  },
  {
   "cell_type": "code",
   "execution_count": 19,
   "metadata": {
    "collapsed": false
   },
   "outputs": [
    {
     "data": {
      "text/plain": [
       "LinearRegression(copy_X=True, fit_intercept=True, n_jobs=1, normalize=False)"
      ]
     },
     "execution_count": 19,
     "metadata": {},
     "output_type": "execute_result"
    }
   ],
   "source": [
    "from sklearn.linear_model import LinearRegression\n",
    "\n",
    "# trying out a linear regression \n",
    "\n",
    "lin_reg = LinearRegression()\n",
    "lin_reg.fit(bones_transformed, diet_labels)"
   ]
  },
  {
   "cell_type": "code",
   "execution_count": 20,
   "metadata": {
    "collapsed": false
   },
   "outputs": [
    {
     "name": "stdout",
     "output_type": "stream",
     "text": [
      "Predictions:\t [[ -1.11022302e-15   1.05471187e-15   1.00000000e+00   1.22124533e-15\n",
      "    1.00000000e+00]\n",
      " [ -1.49880108e-15  -2.72004641e-15   1.00000000e+00   6.66133815e-16\n",
      "    1.00000000e+00]\n",
      " [ -4.05231404e-15  -7.32747196e-15   1.00000000e+00   1.00000000e+00\n",
      "   -1.77635684e-15]\n",
      " [  1.00000000e+00  -2.27595720e-15   1.00000000e+00   1.00000000e+00\n",
      "    1.00000000e+00]\n",
      " [  4.94049246e-15   4.30211422e-15   1.00000000e+00  -2.22044605e-15\n",
      "    1.00000000e+00]]\n"
     ]
    }
   ],
   "source": [
    "# building a subsample of the data and results just to see what the outputs look like\n",
    "some_data = bones.iloc[:5]\n",
    "some_labels = diet_labels.iloc[:5]\n",
    "some_data_transformed = pipeline.transform(some_data)\n",
    "print(\"Predictions:\\t\", lin_reg.predict(some_data_transformed)) # diet predictions of linear regression "
   ]
  },
  {
   "cell_type": "code",
   "execution_count": 21,
   "metadata": {
    "collapsed": false
   },
   "outputs": [
    {
     "name": "stdout",
     "output_type": "stream",
     "text": [
      "Labels:\t [[0 0 1 0 1]\n",
      " [0 0 1 0 1]\n",
      " [0 0 1 1 0]\n",
      " [1 0 1 1 1]\n",
      " [0 0 1 0 1]]\n"
     ]
    }
   ],
   "source": [
    "print(\"Labels:\\t\", some_labels.values) # real diet labels of that data sample"
   ]
  },
  {
   "cell_type": "code",
   "execution_count": 22,
   "metadata": {
    "collapsed": false
   },
   "outputs": [
    {
     "data": {
      "text/plain": [
       "3.8563173652310708e-15"
      ]
     },
     "execution_count": 22,
     "metadata": {},
     "output_type": "execute_result"
    }
   ],
   "source": [
    "from sklearn.metrics import mean_squared_error\n",
    "\n",
    "# checking the root mean squared error of the linear regression (very small... too small)\n",
    "diet_predictions = lin_reg.predict(bones_transformed)\n",
    "lin_mse = mean_squared_error(diet_labels, diet_predictions)\n",
    "lin_rmse = np.sqrt(lin_mse)\n",
    "lin_rmse"
   ]
  },
  {
   "cell_type": "code",
   "execution_count": 23,
   "metadata": {
    "collapsed": false
   },
   "outputs": [
    {
     "data": {
      "text/plain": [
       "DecisionTreeRegressor(criterion='mse', max_depth=None, max_features=None,\n",
       "           max_leaf_nodes=None, min_impurity_split=1e-07,\n",
       "           min_samples_leaf=1, min_samples_split=2,\n",
       "           min_weight_fraction_leaf=0.0, presort=False, random_state=None,\n",
       "           splitter='best')"
      ]
     },
     "execution_count": 23,
     "metadata": {},
     "output_type": "execute_result"
    }
   ],
   "source": [
    "from sklearn.tree import DecisionTreeRegressor\n",
    "\n",
    "# trying out a decision tree regression\n",
    "\n",
    "tree_reg = DecisionTreeRegressor()\n",
    "tree_reg.fit(bones_transformed, diet_labels)"
   ]
  },
  {
   "cell_type": "code",
   "execution_count": 24,
   "metadata": {
    "collapsed": false
   },
   "outputs": [
    {
     "data": {
      "text/plain": [
       "0.0"
      ]
     },
     "execution_count": 24,
     "metadata": {},
     "output_type": "execute_result"
    }
   ],
   "source": [
    "# checking the root mean squared error of the decision tree regression (also way to small)\n",
    "diet_predictions = tree_reg.predict(bones_transformed)\n",
    "tree_mse = mean_squared_error(diet_labels, diet_predictions)\n",
    "tree_rmse = np.sqrt(tree_mse)\n",
    "tree_rmse"
   ]
  },
  {
   "cell_type": "markdown",
   "metadata": {},
   "source": [
    "### Initial Thoughts \n",
    "\n",
    "Both regressions badly overfit the data. Below I will explore a number of approaches to avoid this problem"
   ]
  },
  {
   "cell_type": "markdown",
   "metadata": {},
   "source": [
    "### Better Evaluation Using Cross Validation\n",
    "\n",
    "Cross validation gives better assessments of accuracy by sequentially partitioning the data into validation and training sets. These partitions are rotated and employed multiple times to limit overfitting. "
   ]
  },
  {
   "cell_type": "code",
   "execution_count": 25,
   "metadata": {
    "collapsed": true
   },
   "outputs": [],
   "source": [
    "from sklearn.model_selection import cross_val_score # library for getting cross validation results\n",
    "\n",
    "# runs the cross validation on the decision tree regression, accurary assessed with negative mean squared error\n",
    "scores = cross_val_score(tree_reg, bones_transformed, diet_labels, scoring = 'neg_mean_squared_error', cv=10)\n",
    "rmse_scores = np.sqrt(-scores) "
   ]
  },
  {
   "cell_type": "code",
   "execution_count": 26,
   "metadata": {
    "collapsed": true
   },
   "outputs": [],
   "source": [
    "def display_scores(scores):\n",
    "    # function takes cross validation scores and prints them out in a readable form\n",
    "    print(\"Scores:\", scores)\n",
    "    print(\"Mean:\", scores.mean())\n",
    "    print(\"Standard deviation:\", scores.std())"
   ]
  },
  {
   "cell_type": "code",
   "execution_count": 27,
   "metadata": {
    "collapsed": false
   },
   "outputs": [
    {
     "name": "stdout",
     "output_type": "stream",
     "text": [
      "Scores: [ 0.38729833  0.97467943  1.39044357  0.63245553  0.68313005  0.36514837\n",
      "  0.36514837  0.73029674  0.81649658  1.31656118]\n",
      "Mean: 0.766165817132\n",
      "Standard deviation: 0.350699216791\n"
     ]
    }
   ],
   "source": [
    "# root mean squared error scores for the decision tree regressor with cross validation\n",
    "display_scores(rmse_scores) "
   ]
  },
  {
   "cell_type": "code",
   "execution_count": 28,
   "metadata": {
    "collapsed": false
   },
   "outputs": [
    {
     "name": "stdout",
     "output_type": "stream",
     "text": [
      "Scores: [ 1.04884116  3.27427177  4.56855247  1.4090165   4.02634     3.58496284\n",
      "  1.71546527  1.00781115  0.72255199  0.95925576]\n",
      "Mean: 2.23170689049\n",
      "Standard deviation: 1.39057167541\n"
     ]
    }
   ],
   "source": [
    "# root mean squared error scores for the linear regressor with cross validation\n",
    "lin_scores = cross_val_score(lin_reg, bones_transformed, diet_labels, scoring=\"neg_mean_squared_error\", cv=10)\n",
    "lin_rmse_scores = np.sqrt(-lin_scores)\n",
    "display_scores(lin_rmse_scores)"
   ]
  },
  {
   "cell_type": "code",
   "execution_count": 29,
   "metadata": {
    "collapsed": false
   },
   "outputs": [
    {
     "name": "stdout",
     "output_type": "stream",
     "text": [
      "Scores: [ 0.4769696   0.64961527  1.25326241  0.59665736  0.42426407  0.29097537\n",
      "  0.35213634  0.38557317  0.79288503  1.0214369 ]\n",
      "Mean: 0.624377550382\n",
      "Standard deviation: 0.297829942382\n"
     ]
    }
   ],
   "source": [
    "from sklearn.ensemble import RandomForestRegressor # library for random forest regressors\n",
    "# random forest runs a number of decisions trees and averages the results, less prone to overfitting than single trees\n",
    "forest_reg = RandomForestRegressor()\n",
    "forest_reg.fit(bones_transformed, diet_labels)\n",
    "\n",
    "# root mean squared error scores for random forest regressor with cross validation\n",
    "# results superior to decision tree and linear regressor\n",
    "forest_scores = cross_val_score(forest_reg, bones_transformed, diet_labels, scoring=\"neg_mean_squared_error\", cv=10)\n",
    "forest_rmse_scores = np.sqrt(-forest_scores)\n",
    "display_scores(forest_rmse_scores)"
   ]
  },
  {
   "cell_type": "markdown",
   "metadata": {},
   "source": [
    "## Fine Tuning the Random Forest Regressor"
   ]
  },
  {
   "cell_type": "markdown",
   "metadata": {},
   "source": [
    "#### Grid Search\n",
    "\n",
    "Grid search automates the tuning of hyperparameters. Hyperparameters here are the number of trees in the forest (estimators), the number of data features used, and whether bootstrap is used. "
   ]
  },
  {
   "cell_type": "code",
   "execution_count": 30,
   "metadata": {
    "collapsed": false
   },
   "outputs": [],
   "source": [
    "from sklearn.model_selection import GridSearchCV # library for gridsearch cross validation\n",
    "\n",
    "all_features = list(range(1, 59)) # integer list of feature indices in the bones data\n",
    "\n",
    "# the parameter grid is our \"experimental\" set up, the trials we want to perform and compare\n",
    "param_grid = [\n",
    "    {'n_estimators': [3, 10, 30,], 'max_features': all_features},\n",
    "    {'bootstrap': [False], 'n_estimators': [3, 10, 30], 'max_features': all_features}\n",
    "]\n",
    "\n",
    "# build the random forest model and set up the grid search paramters\n",
    "forest_reg = RandomForestRegressor()\n",
    "grid_search = GridSearchCV(forest_reg, param_grid, cv=5, scoring='neg_mean_squared_error')"
   ]
  },
  {
   "cell_type": "code",
   "execution_count": 31,
   "metadata": {
    "collapsed": false
   },
   "outputs": [
    {
     "data": {
      "text/plain": [
       "GridSearchCV(cv=5, error_score='raise',\n",
       "       estimator=RandomForestRegressor(bootstrap=True, criterion='mse', max_depth=None,\n",
       "           max_features='auto', max_leaf_nodes=None,\n",
       "           min_impurity_split=1e-07, min_samples_leaf=1,\n",
       "           min_samples_split=2, min_weight_fraction_leaf=0.0,\n",
       "           n_estimators=10, n_jobs=1, oob_score=False, random_state=None,\n",
       "           verbose=0, warm_start=False),\n",
       "       fit_params={}, iid=True, n_jobs=1,\n",
       "       param_grid=[{'n_estimators': [3, 10, 30], 'max_features': [1, 2, 3, 4, 5, 6, 7, 8, 9, 10, 11, 12, 13, 14, 15, 16, 17, 18, 19, 20, 21, 22, 23, 24, 25, 26, 27, 28, 29, 30, 31, 32, 33, 34, 35, 36, 37, 38, 39, 40, 41, 42, 43, 44, 45, 46, 47, 48, 49, 50, 51, 52, 53, 54, 55, 56, 57, 58]}, {'n_estimators':...4, 35, 36, 37, 38, 39, 40, 41, 42, 43, 44, 45, 46, 47, 48, 49, 50, 51, 52, 53, 54, 55, 56, 57, 58]}],\n",
       "       pre_dispatch='2*n_jobs', refit=True, return_train_score=True,\n",
       "       scoring='neg_mean_squared_error', verbose=0)"
      ]
     },
     "execution_count": 31,
     "metadata": {},
     "output_type": "execute_result"
    }
   ],
   "source": [
    "grid_search.fit(bones_transformed, diet_labels)"
   ]
  },
  {
   "cell_type": "code",
   "execution_count": 32,
   "metadata": {
    "collapsed": false
   },
   "outputs": [
    {
     "data": {
      "text/plain": [
       "{'max_features': 17, 'n_estimators': 10}"
      ]
     },
     "execution_count": 32,
     "metadata": {},
     "output_type": "execute_result"
    }
   ],
   "source": [
    "grid_search.best_params_ # shows the best hyper parameter combination found in the grid search"
   ]
  },
  {
   "cell_type": "code",
   "execution_count": 33,
   "metadata": {
    "collapsed": false
   },
   "outputs": [
    {
     "data": {
      "text/plain": [
       "RandomForestRegressor(bootstrap=True, criterion='mse', max_depth=None,\n",
       "           max_features=17, max_leaf_nodes=None, min_impurity_split=1e-07,\n",
       "           min_samples_leaf=1, min_samples_split=2,\n",
       "           min_weight_fraction_leaf=0.0, n_estimators=10, n_jobs=1,\n",
       "           oob_score=False, random_state=None, verbose=0, warm_start=False)"
      ]
     },
     "execution_count": 33,
     "metadata": {},
     "output_type": "execute_result"
    }
   ],
   "source": [
    "grid_search.best_estimator_ # shows the best estimator found in the grid search"
   ]
  },
  {
   "cell_type": "markdown",
   "metadata": {},
   "source": [
    "### Analyze Best Models"
   ]
  },
  {
   "cell_type": "code",
   "execution_count": 34,
   "metadata": {
    "collapsed": false
   },
   "outputs": [
    {
     "data": {
      "text/plain": [
       "[(0.085266902705655401, 'fore_p2_iii'),\n",
       " (0.062539880357446814, 'humerus_length_C'),\n",
       " (0.061026385582640327, 'scapula_B'),\n",
       " (0.053658028974049067, 'RU_proximal_A'),\n",
       " (0.050834891291263819, 'tibia_length (c)'),\n",
       " (0.046983927932398938, 'ulna_proximal_A'),\n",
       " (0.046598139990210466, 'pelvis_C'),\n",
       " (0.036664975477760826, 'mass_min_kg'),\n",
       " (0.035483801552757314, 'femur_distal_A'),\n",
       " (0.034380679198912308, 'scapula_A'),\n",
       " (0.03099445108059205, 'hind_p1_iii'),\n",
       " (0.030277977378554859, 'vertebrae_axis_female_A (or no sex) '),\n",
       " (0.029559293156508782, 'femur_length'),\n",
       " (0.028499891138689309, 'hind_p2_iii'),\n",
       " (0.027384859086589934, 'humerus_promixal_B'),\n",
       " (0.025325881017963282, 'ulna_length (c) '),\n",
       " (0.0234708520435222, 'metatarsal_overall'),\n",
       " (0.018074049384773486, 'femur_distal_B'),\n",
       " (0.018060916466106719, 'tibia_proximal_A'),\n",
       " (0.017141715169030826, 'metacarpal_B'),\n",
       " (0.016463388285660779, 'tibia_proximal_B'),\n",
       " (0.016016383181006257, 'patella_length'),\n",
       " (0.013907705154788272, 'metatarsal_C'),\n",
       " (0.012441962418624386, 'mass_max_kg'),\n",
       " (0.011804129152790591, 'pelvis_A'),\n",
       " (0.011585610940191501, 'metacarpal_overall'),\n",
       " (0.011266762899860132, 'ulna_proximal_B'),\n",
       " (0.010612057122965582, 'scapula_D'),\n",
       " (0.010325790678336272, 'pelvis_B'),\n",
       " (0.010192966592821501, 'vertebrae_c7_female_B'),\n",
       " (0.0093353627600202931, 'pelvis_D'),\n",
       " (0.0079244190465806805, 'humerus_proximal_A'),\n",
       " (0.0078728404445335583, 'metacarpal_A'),\n",
       " (0.0074454892637056775, 'vertebrae_atlas_female_A ( or no sex)'),\n",
       " (0.0039158100832109612, 'vertebrae_c3_female_A'),\n",
       " (0.0036560982576406718, 'tibia_distal_B'),\n",
       " (0.0031809145129224649, 'tibia_distal_A'),\n",
       " (0.0030298439630359001, 'vertebrae_c3_female_B'),\n",
       " (0.0028274795670421909, 'calcaneum_length_A'),\n",
       " (0.0027420736932305054, 'fore_p3_iii'),\n",
       " (0.0022198116075890242, 'astragalus'),\n",
       " (0.0021998166819431715, 'calcaneum_B'),\n",
       " (0.0019001246956831554, 'vertebrae_c7_female_C'),\n",
       " (0.0014096916299559483, 'RU_length_T'),\n",
       " (0.0013313754282917264, 'femur_proximal_A'),\n",
       " (0.0011747430249632893, 'fore_p1_iii'),\n",
       " (0.00052253429131286745, 'femur_promixal_B'),\n",
       " (0.0, 'vertebrae_c7_female_A'),\n",
       " (0.0, 'vertebrae_c3_female_C'),\n",
       " (0.0, 'vertebrae_axis_female_B (or no sex) '),\n",
       " (0.0, 'vertebrae_atlas_female_C ( or no sex)'),\n",
       " (0.0, 'vertebrae_atlas_female_B ( or no sex)'),\n",
       " (0.0, 'scapula_C'),\n",
       " (0.0, 'metatarsal_D'),\n",
       " (0.0, 'humerus_distal_B'),\n",
       " (0.0, 'humerus_distal_A'),\n",
       " (0.0, 'hind_p3_iii'),\n",
       " (0.0, 'RU_distal_A_T')]"
      ]
     },
     "execution_count": 34,
     "metadata": {},
     "output_type": "execute_result"
    }
   ],
   "source": [
    "# We can explore the grid search results to see which features were most important in the model\n",
    "feature_importances = grid_search.best_estimator_.feature_importances_\n",
    "sorted(zip(feature_importances, bones_and_mass), reverse=True)"
   ]
  },
  {
   "cell_type": "markdown",
   "metadata": {
    "collapsed": false
   },
   "source": [
    "### Initial Thoughts\n",
    "\n",
    "For the random forest regressor it seems the best model is a 10 tree forest employing the top 17 of these features. "
   ]
  },
  {
   "cell_type": "markdown",
   "metadata": {
    "collapsed": true
   },
   "source": [
    "# Data Augmentation"
   ]
  },
  {
   "cell_type": "markdown",
   "metadata": {
    "collapsed": true
   },
   "source": [
    "In this section I am exploring options for making the most out of the tiny dataset. Instead of treating each species entry as an individual I am treating them as population means. With this in mind I randomly generate individuals of each species to create a new dataset of individuals. The algorithms can then trained on the, much larger, data set of individuals which should increase the model's ability to generalize. *fingers crossed*\n",
    "\n",
    "Each individual has a body mass drawn from the min/max body mass entries for each species. The bone measurements are then altered in a manner proportionate to the body mass. "
   ]
  },
  {
   "cell_type": "code",
   "execution_count": 35,
   "metadata": {
    "collapsed": false
   },
   "outputs": [],
   "source": [
    "# These are our functions used for the data augmentation process \n",
    "\n",
    "import random # library for prob distributions\n",
    "\n",
    "mass_min_ix = bones[no_diets].columns.get_loc('mass_min_kg') # integer index of mass min column\n",
    "mass_max_ix = bones[no_diets].columns.get_loc('mass_max_kg') # integer index of mass max column\n",
    "\n",
    "# expands the bones dataset by breaking each spp into N individuals, randomly selecting a mass, and changing measures\n",
    "def bones_augmentation(data_set, how_many, normal = False):\n",
    "    # dataset is a dataframe, how_many is an int, normal is a bool (default is False)\n",
    "    clone_army = populate_with_clones(data_set, how_many) # helper function that makes N clone versions of each spp entry\n",
    "    individualize_the_clones(clone_army) # helper function that makes each of the N clones an individual\n",
    "    return clone_army \n",
    "   \n",
    "\n",
    "# creates N identical versions of each spp entry    \n",
    "def populate_with_clones(data_set, new_indivs_per_species):\n",
    "    # helper function for bones_augmentation\n",
    "    # data set is a dataframe, new_indivs... is the number of individuals you want created for each species\n",
    "    ds_copy = data_set.copy()  \n",
    "    df = pd.DataFrame(columns=list(data_set)) # creates the new dataframe with same columns as original\n",
    "    for i in range(len(ds_copy)): # loop through each species\n",
    "        for j in range(new_indivs_per_species): # loop through each new individual and add to new dataframe\n",
    "            df = df.append(data_set.iloc[i])\n",
    "    df = df.reset_index(drop=True) # resent the indices so new dataframe doesn't have duplicates\n",
    "    return df\n",
    "                           \n",
    "\n",
    "    # makes each clone species entry a unique individual by randomly selecting a mass and altering bone measures    \n",
    "def individualize_the_clones(data_set, normal = False):\n",
    "    # helper function for bones_augmentation\n",
    "    # data_set is a data frame, normal is a bool\n",
    "    # can draw mass from a uniform or normal distribution (uniform by default)\n",
    "    for k in range(len(data_set)): # loop through each individual in the clone army\n",
    "        # randomly select a mass between mass min and mass max\n",
    "        species_mean_mass = (data_set.loc[k, 'mass_min_kg'] + data_set.loc[k, 'mass_max_kg']) / 2\n",
    "        if normal == False: # if normal is false draw from a uniform distribution\n",
    "            individual_mass = mass_uniform(data_set, k)\n",
    "        else: # if normal is true draw from a normal distribution\n",
    "            individual_mass = mass_normal(data_set, k, species_mean_mass)\n",
    "        data_set.loc[k, 'mass_indiv_kg'] = individual_mass\n",
    "        species_mean_mass = (data_set.loc[k, 'mass_min_kg'] + data_set.loc[k, 'mass_max_kg']) / 2 # set the mean of spp\n",
    "        # find proportion of that mass wrt mean mass\n",
    "        mass_proportion = individual_mass / species_mean_mass\n",
    "        # multiply bone measures by proportion\n",
    "        # I suspect the linear measures shoudl scale differently than mass (m^1/3?) but haven't implemented it yet\n",
    "        for bone in just_bones:   \n",
    "            data_set.ix[k, bone] *= mass_proportion                                \n",
    "                                             \n",
    "# this function constructs a normal distribution based on the mass from bones data and draws from it once\n",
    "def mass_normal(data_set, species_index, species_mean_mass):\n",
    "    # helper function for bones_augmentation\n",
    "    # data_set is a dataframe, species_index is an int, species_mean_mass is a float\n",
    "    mu =  species_mean_mass # set the distribution mean based on mean body mass\n",
    "    # sets distance b/w mean and max as 2 std, not confident in this choice, will explore further\n",
    "    sigma =  (data_set.loc[species_index, 'mass_max_kg'] - species_mean_mass) / 2 \n",
    "    mass = np.random.normal(mu, sigma, 1) # makes one draw from the constructed distribution\n",
    "    return mass\n",
    "    \n",
    "# this function constructs a uniform distribution based on min/max mass and draws from it once\n",
    "def mass_uniform(data_set, species_index):\n",
    "    min_mass = data_set.loc[species_index, 'mass_min_kg']\n",
    "    max_mass = data_set.loc[species_index, 'mass_max_kg']\n",
    "    mass = random.uniform(min_mass, max_mass) # make one draw from constructed distribution\n",
    "    return mass"
   ]
  },
  {
   "cell_type": "code",
   "execution_count": 36,
   "metadata": {
    "collapsed": false,
    "scrolled": true
   },
   "outputs": [
    {
     "data": {
      "text/html": [
       "<div>\n",
       "<table border=\"1\" class=\"dataframe\">\n",
       "  <thead>\n",
       "    <tr style=\"text-align: right;\">\n",
       "      <th></th>\n",
       "      <th>common_name</th>\n",
       "      <th>Order</th>\n",
       "      <th>Family</th>\n",
       "      <th>Genus</th>\n",
       "      <th>Species</th>\n",
       "      <th>astragalus</th>\n",
       "      <th>calcaneum_B</th>\n",
       "      <th>calcaneum_length_A</th>\n",
       "      <th>femur_distal_A</th>\n",
       "      <th>femur_distal_B</th>\n",
       "      <th>femur_length</th>\n",
       "      <th>femur_promixal_B</th>\n",
       "      <th>femur_proximal_A</th>\n",
       "      <th>fore_p1_iii</th>\n",
       "      <th>fore_p2_iii</th>\n",
       "      <th>fore_p3_iii</th>\n",
       "      <th>hind_p1_iii</th>\n",
       "      <th>hind_p2_iii</th>\n",
       "      <th>hind_p3_iii</th>\n",
       "      <th>humerus_distal_A</th>\n",
       "      <th>humerus_distal_B</th>\n",
       "      <th>humerus_length_C</th>\n",
       "      <th>humerus_promixal_B</th>\n",
       "      <th>humerus_proximal_A</th>\n",
       "      <th>mass_max_kg</th>\n",
       "      <th>mass_min_kg</th>\n",
       "      <th>metacarpal_A</th>\n",
       "      <th>metacarpal_B</th>\n",
       "      <th>metatarsal_C</th>\n",
       "      <th>metatarsal_D</th>\n",
       "      <th>metacarpal_overall</th>\n",
       "      <th>metatarsal_overall</th>\n",
       "      <th>patella_length</th>\n",
       "      <th>pelvis_A</th>\n",
       "      <th>pelvis_B</th>\n",
       "      <th>pelvis_C</th>\n",
       "      <th>pelvis_D</th>\n",
       "      <th>RU_length_T</th>\n",
       "      <th>RU_distal_A_T</th>\n",
       "      <th>RU_proximal_A</th>\n",
       "      <th>scapula_A</th>\n",
       "      <th>scapula_B</th>\n",
       "      <th>scapula_C</th>\n",
       "      <th>scapula_D</th>\n",
       "      <th>tibia_distal_A</th>\n",
       "      <th>tibia_distal_B</th>\n",
       "      <th>tibia_length (c)</th>\n",
       "      <th>tibia_proximal_A</th>\n",
       "      <th>tibia_proximal_B</th>\n",
       "      <th>ulna_length (c)</th>\n",
       "      <th>ulna_proximal_A</th>\n",
       "      <th>ulna_proximal_B</th>\n",
       "      <th>vertebrae_atlas_female_A ( or no sex)</th>\n",
       "      <th>vertebrae_atlas_female_B ( or no sex)</th>\n",
       "      <th>vertebrae_atlas_female_C ( or no sex)</th>\n",
       "      <th>vertebrae_axis_female_A (or no sex)</th>\n",
       "      <th>vertebrae_axis_female_B (or no sex)</th>\n",
       "      <th>vertebrae_c3_female_A</th>\n",
       "      <th>vertebrae_c3_female_B</th>\n",
       "      <th>vertebrae_c3_female_C</th>\n",
       "      <th>vertebrae_c7_female_A</th>\n",
       "      <th>vertebrae_c7_female_B</th>\n",
       "      <th>vertebrae_c7_female_C</th>\n",
       "      <th>Fruit</th>\n",
       "      <th>Root</th>\n",
       "      <th>Leaf</th>\n",
       "      <th>Woody</th>\n",
       "      <th>Herbaceous</th>\n",
       "      <th>mass_indiv_kg</th>\n",
       "    </tr>\n",
       "  </thead>\n",
       "  <tbody>\n",
       "    <tr>\n",
       "      <th>0</th>\n",
       "      <td>ROAN</td>\n",
       "      <td>Artiodactyla</td>\n",
       "      <td>Bovidae</td>\n",
       "      <td>Hippotragus</td>\n",
       "      <td>equinus</td>\n",
       "      <td>46.004143</td>\n",
       "      <td>85.967337</td>\n",
       "      <td>118.960207</td>\n",
       "      <td>71.562000</td>\n",
       "      <td>64.591675</td>\n",
       "      <td>318.776180</td>\n",
       "      <td>35.781000</td>\n",
       "      <td>96.655168</td>\n",
       "      <td>65.985740</td>\n",
       "      <td>33.922247</td>\n",
       "      <td>51.115714</td>\n",
       "      <td>60.409480</td>\n",
       "      <td>34.851623</td>\n",
       "      <td>49.256961</td>\n",
       "      <td>52.974467</td>\n",
       "      <td>27.881299</td>\n",
       "      <td>250.931687</td>\n",
       "      <td>45.074766</td>\n",
       "      <td>76.208883</td>\n",
       "      <td>123.0</td>\n",
       "      <td>102.0</td>\n",
       "      <td>42.286636</td>\n",
       "      <td>19.516909</td>\n",
       "      <td>41.821948</td>\n",
       "      <td>19.516909</td>\n",
       "      <td>239.779167</td>\n",
       "      <td>250.931687</td>\n",
       "      <td>52.045091</td>\n",
       "      <td>60.874168</td>\n",
       "      <td>128.253973</td>\n",
       "      <td>129.183350</td>\n",
       "      <td>302.047401</td>\n",
       "      <td>23.699104</td>\n",
       "      <td>23.699104</td>\n",
       "      <td>23.699104</td>\n",
       "      <td>38.569130</td>\n",
       "      <td>279.742362</td>\n",
       "      <td>35.781000</td>\n",
       "      <td>49.721649</td>\n",
       "      <td>50.186337</td>\n",
       "      <td>30.204740</td>\n",
       "      <td>339.222465</td>\n",
       "      <td>76.673571</td>\n",
       "      <td>32.528182</td>\n",
       "      <td>369.891894</td>\n",
       "      <td>23.699104</td>\n",
       "      <td>29.740052</td>\n",
       "      <td>NaN</td>\n",
       "      <td>NaN</td>\n",
       "      <td>NaN</td>\n",
       "      <td>NaN</td>\n",
       "      <td>NaN</td>\n",
       "      <td>75.744194</td>\n",
       "      <td>67.844493</td>\n",
       "      <td>94.796415</td>\n",
       "      <td>51.580402</td>\n",
       "      <td>67.379805</td>\n",
       "      <td>111.525194</td>\n",
       "      <td>0.0</td>\n",
       "      <td>0.0</td>\n",
       "      <td>1.0</td>\n",
       "      <td>0.0</td>\n",
       "      <td>1.0</td>\n",
       "      <td>104.554869</td>\n",
       "    </tr>\n",
       "    <tr>\n",
       "      <th>1</th>\n",
       "      <td>ROAN</td>\n",
       "      <td>Artiodactyla</td>\n",
       "      <td>Bovidae</td>\n",
       "      <td>Hippotragus</td>\n",
       "      <td>equinus</td>\n",
       "      <td>53.813279</td>\n",
       "      <td>100.560168</td>\n",
       "      <td>139.153530</td>\n",
       "      <td>83.709545</td>\n",
       "      <td>75.556018</td>\n",
       "      <td>372.887975</td>\n",
       "      <td>41.854773</td>\n",
       "      <td>113.062243</td>\n",
       "      <td>77.186724</td>\n",
       "      <td>39.680499</td>\n",
       "      <td>59.792532</td>\n",
       "      <td>70.663902</td>\n",
       "      <td>40.767636</td>\n",
       "      <td>57.618258</td>\n",
       "      <td>61.966806</td>\n",
       "      <td>32.614109</td>\n",
       "      <td>293.526977</td>\n",
       "      <td>52.726142</td>\n",
       "      <td>89.145230</td>\n",
       "      <td>123.0</td>\n",
       "      <td>102.0</td>\n",
       "      <td>49.464731</td>\n",
       "      <td>22.829876</td>\n",
       "      <td>48.921163</td>\n",
       "      <td>22.829876</td>\n",
       "      <td>280.481334</td>\n",
       "      <td>293.526977</td>\n",
       "      <td>60.879669</td>\n",
       "      <td>71.207470</td>\n",
       "      <td>150.024899</td>\n",
       "      <td>151.112036</td>\n",
       "      <td>353.319510</td>\n",
       "      <td>27.721992</td>\n",
       "      <td>27.721992</td>\n",
       "      <td>27.721992</td>\n",
       "      <td>45.116184</td>\n",
       "      <td>327.228223</td>\n",
       "      <td>41.854773</td>\n",
       "      <td>58.161827</td>\n",
       "      <td>58.705395</td>\n",
       "      <td>35.331951</td>\n",
       "      <td>396.804988</td>\n",
       "      <td>89.688799</td>\n",
       "      <td>38.049793</td>\n",
       "      <td>432.680507</td>\n",
       "      <td>27.721992</td>\n",
       "      <td>34.788382</td>\n",
       "      <td>NaN</td>\n",
       "      <td>NaN</td>\n",
       "      <td>NaN</td>\n",
       "      <td>NaN</td>\n",
       "      <td>NaN</td>\n",
       "      <td>88.601662</td>\n",
       "      <td>79.360998</td>\n",
       "      <td>110.887969</td>\n",
       "      <td>60.336101</td>\n",
       "      <td>78.817429</td>\n",
       "      <td>130.456434</td>\n",
       "      <td>0.0</td>\n",
       "      <td>0.0</td>\n",
       "      <td>1.0</td>\n",
       "      <td>0.0</td>\n",
       "      <td>1.0</td>\n",
       "      <td>122.302907</td>\n",
       "    </tr>\n",
       "    <tr>\n",
       "      <th>2</th>\n",
       "      <td>ROAN</td>\n",
       "      <td>Artiodactyla</td>\n",
       "      <td>Bovidae</td>\n",
       "      <td>Hippotragus</td>\n",
       "      <td>equinus</td>\n",
       "      <td>47.345595</td>\n",
       "      <td>88.474091</td>\n",
       "      <td>122.429012</td>\n",
       "      <td>73.648703</td>\n",
       "      <td>66.475128</td>\n",
       "      <td>328.071494</td>\n",
       "      <td>36.824351</td>\n",
       "      <td>99.473573</td>\n",
       "      <td>67.909843</td>\n",
       "      <td>34.911398</td>\n",
       "      <td>52.606216</td>\n",
       "      <td>62.170983</td>\n",
       "      <td>35.867875</td>\n",
       "      <td>50.693263</td>\n",
       "      <td>54.519170</td>\n",
       "      <td>28.694300</td>\n",
       "      <td>258.248698</td>\n",
       "      <td>46.389118</td>\n",
       "      <td>78.431086</td>\n",
       "      <td>123.0</td>\n",
       "      <td>102.0</td>\n",
       "      <td>43.519688</td>\n",
       "      <td>20.086010</td>\n",
       "      <td>43.041450</td>\n",
       "      <td>20.086010</td>\n",
       "      <td>246.770978</td>\n",
       "      <td>258.248698</td>\n",
       "      <td>53.562693</td>\n",
       "      <td>62.649221</td>\n",
       "      <td>131.993779</td>\n",
       "      <td>132.950256</td>\n",
       "      <td>310.854914</td>\n",
       "      <td>24.390155</td>\n",
       "      <td>24.390155</td>\n",
       "      <td>24.390155</td>\n",
       "      <td>39.693781</td>\n",
       "      <td>287.899474</td>\n",
       "      <td>36.824351</td>\n",
       "      <td>51.171501</td>\n",
       "      <td>51.649740</td>\n",
       "      <td>31.085491</td>\n",
       "      <td>349.113981</td>\n",
       "      <td>78.909324</td>\n",
       "      <td>33.476683</td>\n",
       "      <td>380.677710</td>\n",
       "      <td>24.390155</td>\n",
       "      <td>30.607253</td>\n",
       "      <td>NaN</td>\n",
       "      <td>NaN</td>\n",
       "      <td>NaN</td>\n",
       "      <td>NaN</td>\n",
       "      <td>NaN</td>\n",
       "      <td>77.952848</td>\n",
       "      <td>69.822796</td>\n",
       "      <td>97.560619</td>\n",
       "      <td>53.084455</td>\n",
       "      <td>69.344558</td>\n",
       "      <td>114.777199</td>\n",
       "      <td>0.0</td>\n",
       "      <td>0.0</td>\n",
       "      <td>1.0</td>\n",
       "      <td>0.0</td>\n",
       "      <td>1.0</td>\n",
       "      <td>107.603624</td>\n",
       "    </tr>\n",
       "    <tr>\n",
       "      <th>3</th>\n",
       "      <td>ROAN</td>\n",
       "      <td>Artiodactyla</td>\n",
       "      <td>Bovidae</td>\n",
       "      <td>Hippotragus</td>\n",
       "      <td>equinus</td>\n",
       "      <td>52.110676</td>\n",
       "      <td>97.378535</td>\n",
       "      <td>134.750838</td>\n",
       "      <td>81.061051</td>\n",
       "      <td>73.165494</td>\n",
       "      <td>361.090137</td>\n",
       "      <td>40.530526</td>\n",
       "      <td>109.485056</td>\n",
       "      <td>74.744606</td>\n",
       "      <td>38.425044</td>\n",
       "      <td>57.900751</td>\n",
       "      <td>68.428160</td>\n",
       "      <td>39.477785</td>\n",
       "      <td>55.795269</td>\n",
       "      <td>60.006233</td>\n",
       "      <td>31.582228</td>\n",
       "      <td>284.240049</td>\n",
       "      <td>51.057935</td>\n",
       "      <td>86.324756</td>\n",
       "      <td>123.0</td>\n",
       "      <td>102.0</td>\n",
       "      <td>47.899712</td>\n",
       "      <td>22.107559</td>\n",
       "      <td>47.373342</td>\n",
       "      <td>22.107559</td>\n",
       "      <td>271.607158</td>\n",
       "      <td>284.240049</td>\n",
       "      <td>58.953492</td>\n",
       "      <td>68.954530</td>\n",
       "      <td>145.278247</td>\n",
       "      <td>146.330988</td>\n",
       "      <td>342.140800</td>\n",
       "      <td>26.844894</td>\n",
       "      <td>26.844894</td>\n",
       "      <td>26.844894</td>\n",
       "      <td>43.688748</td>\n",
       "      <td>316.875018</td>\n",
       "      <td>40.530526</td>\n",
       "      <td>56.321639</td>\n",
       "      <td>56.848010</td>\n",
       "      <td>34.214080</td>\n",
       "      <td>384.250437</td>\n",
       "      <td>86.851126</td>\n",
       "      <td>36.845932</td>\n",
       "      <td>418.990887</td>\n",
       "      <td>26.844894</td>\n",
       "      <td>33.687710</td>\n",
       "      <td>NaN</td>\n",
       "      <td>NaN</td>\n",
       "      <td>NaN</td>\n",
       "      <td>NaN</td>\n",
       "      <td>NaN</td>\n",
       "      <td>85.798385</td>\n",
       "      <td>76.850087</td>\n",
       "      <td>107.379574</td>\n",
       "      <td>58.427121</td>\n",
       "      <td>76.323717</td>\n",
       "      <td>126.328911</td>\n",
       "      <td>0.0</td>\n",
       "      <td>0.0</td>\n",
       "      <td>1.0</td>\n",
       "      <td>0.0</td>\n",
       "      <td>1.0</td>\n",
       "      <td>118.433354</td>\n",
       "    </tr>\n",
       "    <tr>\n",
       "      <th>4</th>\n",
       "      <td>ROAN</td>\n",
       "      <td>Artiodactyla</td>\n",
       "      <td>Bovidae</td>\n",
       "      <td>Hippotragus</td>\n",
       "      <td>equinus</td>\n",
       "      <td>50.299401</td>\n",
       "      <td>93.993829</td>\n",
       "      <td>130.067137</td>\n",
       "      <td>78.243512</td>\n",
       "      <td>70.622391</td>\n",
       "      <td>348.539281</td>\n",
       "      <td>39.121756</td>\n",
       "      <td>105.679549</td>\n",
       "      <td>72.146615</td>\n",
       "      <td>37.089457</td>\n",
       "      <td>55.888223</td>\n",
       "      <td>66.049718</td>\n",
       "      <td>38.105607</td>\n",
       "      <td>53.855924</td>\n",
       "      <td>57.920522</td>\n",
       "      <td>30.484485</td>\n",
       "      <td>274.360367</td>\n",
       "      <td>49.283251</td>\n",
       "      <td>83.324260</td>\n",
       "      <td>123.0</td>\n",
       "      <td>102.0</td>\n",
       "      <td>46.234803</td>\n",
       "      <td>21.339140</td>\n",
       "      <td>45.726728</td>\n",
       "      <td>21.339140</td>\n",
       "      <td>262.166573</td>\n",
       "      <td>274.360367</td>\n",
       "      <td>56.904372</td>\n",
       "      <td>66.557793</td>\n",
       "      <td>140.228632</td>\n",
       "      <td>141.244781</td>\n",
       "      <td>330.248590</td>\n",
       "      <td>25.911812</td>\n",
       "      <td>25.911812</td>\n",
       "      <td>25.911812</td>\n",
       "      <td>42.170205</td>\n",
       "      <td>305.861002</td>\n",
       "      <td>39.121756</td>\n",
       "      <td>54.363999</td>\n",
       "      <td>54.872073</td>\n",
       "      <td>33.024859</td>\n",
       "      <td>370.894570</td>\n",
       "      <td>83.832334</td>\n",
       "      <td>35.565233</td>\n",
       "      <td>404.427504</td>\n",
       "      <td>25.911812</td>\n",
       "      <td>32.516784</td>\n",
       "      <td>NaN</td>\n",
       "      <td>NaN</td>\n",
       "      <td>NaN</td>\n",
       "      <td>NaN</td>\n",
       "      <td>NaN</td>\n",
       "      <td>82.816185</td>\n",
       "      <td>74.178914</td>\n",
       "      <td>103.647250</td>\n",
       "      <td>56.396298</td>\n",
       "      <td>73.670839</td>\n",
       "      <td>121.937941</td>\n",
       "      <td>0.0</td>\n",
       "      <td>0.0</td>\n",
       "      <td>1.0</td>\n",
       "      <td>0.0</td>\n",
       "      <td>1.0</td>\n",
       "      <td>114.316820</td>\n",
       "    </tr>\n",
       "  </tbody>\n",
       "</table>\n",
       "</div>"
      ],
      "text/plain": [
       "  common_name         Order   Family        Genus  Species  astragalus  \\\n",
       "0        ROAN  Artiodactyla  Bovidae  Hippotragus  equinus   46.004143   \n",
       "1        ROAN  Artiodactyla  Bovidae  Hippotragus  equinus   53.813279   \n",
       "2        ROAN  Artiodactyla  Bovidae  Hippotragus  equinus   47.345595   \n",
       "3        ROAN  Artiodactyla  Bovidae  Hippotragus  equinus   52.110676   \n",
       "4        ROAN  Artiodactyla  Bovidae  Hippotragus  equinus   50.299401   \n",
       "\n",
       "   calcaneum_B  calcaneum_length_A  femur_distal_A  femur_distal_B  \\\n",
       "0    85.967337          118.960207       71.562000       64.591675   \n",
       "1   100.560168          139.153530       83.709545       75.556018   \n",
       "2    88.474091          122.429012       73.648703       66.475128   \n",
       "3    97.378535          134.750838       81.061051       73.165494   \n",
       "4    93.993829          130.067137       78.243512       70.622391   \n",
       "\n",
       "   femur_length  femur_promixal_B  femur_proximal_A  fore_p1_iii  fore_p2_iii  \\\n",
       "0    318.776180         35.781000         96.655168    65.985740    33.922247   \n",
       "1    372.887975         41.854773        113.062243    77.186724    39.680499   \n",
       "2    328.071494         36.824351         99.473573    67.909843    34.911398   \n",
       "3    361.090137         40.530526        109.485056    74.744606    38.425044   \n",
       "4    348.539281         39.121756        105.679549    72.146615    37.089457   \n",
       "\n",
       "   fore_p3_iii  hind_p1_iii  hind_p2_iii  hind_p3_iii  humerus_distal_A  \\\n",
       "0    51.115714    60.409480    34.851623    49.256961         52.974467   \n",
       "1    59.792532    70.663902    40.767636    57.618258         61.966806   \n",
       "2    52.606216    62.170983    35.867875    50.693263         54.519170   \n",
       "3    57.900751    68.428160    39.477785    55.795269         60.006233   \n",
       "4    55.888223    66.049718    38.105607    53.855924         57.920522   \n",
       "\n",
       "   humerus_distal_B  humerus_length_C  humerus_promixal_B  humerus_proximal_A  \\\n",
       "0         27.881299        250.931687           45.074766           76.208883   \n",
       "1         32.614109        293.526977           52.726142           89.145230   \n",
       "2         28.694300        258.248698           46.389118           78.431086   \n",
       "3         31.582228        284.240049           51.057935           86.324756   \n",
       "4         30.484485        274.360367           49.283251           83.324260   \n",
       "\n",
       "   mass_max_kg  mass_min_kg  metacarpal_A  metacarpal_B  metatarsal_C  \\\n",
       "0        123.0        102.0     42.286636     19.516909     41.821948   \n",
       "1        123.0        102.0     49.464731     22.829876     48.921163   \n",
       "2        123.0        102.0     43.519688     20.086010     43.041450   \n",
       "3        123.0        102.0     47.899712     22.107559     47.373342   \n",
       "4        123.0        102.0     46.234803     21.339140     45.726728   \n",
       "\n",
       "   metatarsal_D  metacarpal_overall  metatarsal_overall  patella_length  \\\n",
       "0     19.516909          239.779167          250.931687       52.045091   \n",
       "1     22.829876          280.481334          293.526977       60.879669   \n",
       "2     20.086010          246.770978          258.248698       53.562693   \n",
       "3     22.107559          271.607158          284.240049       58.953492   \n",
       "4     21.339140          262.166573          274.360367       56.904372   \n",
       "\n",
       "    pelvis_A    pelvis_B    pelvis_C    pelvis_D  RU_length_T  RU_distal_A_T  \\\n",
       "0  60.874168  128.253973  129.183350  302.047401    23.699104      23.699104   \n",
       "1  71.207470  150.024899  151.112036  353.319510    27.721992      27.721992   \n",
       "2  62.649221  131.993779  132.950256  310.854914    24.390155      24.390155   \n",
       "3  68.954530  145.278247  146.330988  342.140800    26.844894      26.844894   \n",
       "4  66.557793  140.228632  141.244781  330.248590    25.911812      25.911812   \n",
       "\n",
       "   RU_proximal_A  scapula_A   scapula_B  scapula_C  scapula_D  tibia_distal_A  \\\n",
       "0      23.699104  38.569130  279.742362  35.781000  49.721649       50.186337   \n",
       "1      27.721992  45.116184  327.228223  41.854773  58.161827       58.705395   \n",
       "2      24.390155  39.693781  287.899474  36.824351  51.171501       51.649740   \n",
       "3      26.844894  43.688748  316.875018  40.530526  56.321639       56.848010   \n",
       "4      25.911812  42.170205  305.861002  39.121756  54.363999       54.872073   \n",
       "\n",
       "   tibia_distal_B  tibia_length (c)  tibia_proximal_A  tibia_proximal_B  \\\n",
       "0       30.204740        339.222465         76.673571         32.528182   \n",
       "1       35.331951        396.804988         89.688799         38.049793   \n",
       "2       31.085491        349.113981         78.909324         33.476683   \n",
       "3       34.214080        384.250437         86.851126         36.845932   \n",
       "4       33.024859        370.894570         83.832334         35.565233   \n",
       "\n",
       "   ulna_length (c)   ulna_proximal_A  ulna_proximal_B  \\\n",
       "0        369.891894        23.699104        29.740052   \n",
       "1        432.680507        27.721992        34.788382   \n",
       "2        380.677710        24.390155        30.607253   \n",
       "3        418.990887        26.844894        33.687710   \n",
       "4        404.427504        25.911812        32.516784   \n",
       "\n",
       "   vertebrae_atlas_female_A ( or no sex)  \\\n",
       "0                                    NaN   \n",
       "1                                    NaN   \n",
       "2                                    NaN   \n",
       "3                                    NaN   \n",
       "4                                    NaN   \n",
       "\n",
       "   vertebrae_atlas_female_B ( or no sex)  \\\n",
       "0                                    NaN   \n",
       "1                                    NaN   \n",
       "2                                    NaN   \n",
       "3                                    NaN   \n",
       "4                                    NaN   \n",
       "\n",
       "   vertebrae_atlas_female_C ( or no sex)  \\\n",
       "0                                    NaN   \n",
       "1                                    NaN   \n",
       "2                                    NaN   \n",
       "3                                    NaN   \n",
       "4                                    NaN   \n",
       "\n",
       "   vertebrae_axis_female_A (or no sex)   vertebrae_axis_female_B (or no sex)   \\\n",
       "0                                   NaN                                   NaN   \n",
       "1                                   NaN                                   NaN   \n",
       "2                                   NaN                                   NaN   \n",
       "3                                   NaN                                   NaN   \n",
       "4                                   NaN                                   NaN   \n",
       "\n",
       "   vertebrae_c3_female_A  vertebrae_c3_female_B  vertebrae_c3_female_C  \\\n",
       "0              75.744194              67.844493              94.796415   \n",
       "1              88.601662              79.360998             110.887969   \n",
       "2              77.952848              69.822796              97.560619   \n",
       "3              85.798385              76.850087             107.379574   \n",
       "4              82.816185              74.178914             103.647250   \n",
       "\n",
       "   vertebrae_c7_female_A  vertebrae_c7_female_B  vertebrae_c7_female_C  Fruit  \\\n",
       "0              51.580402              67.379805             111.525194    0.0   \n",
       "1              60.336101              78.817429             130.456434    0.0   \n",
       "2              53.084455              69.344558             114.777199    0.0   \n",
       "3              58.427121              76.323717             126.328911    0.0   \n",
       "4              56.396298              73.670839             121.937941    0.0   \n",
       "\n",
       "   Root  Leaf  Woody  Herbaceous  mass_indiv_kg  \n",
       "0   0.0   1.0    0.0         1.0     104.554869  \n",
       "1   0.0   1.0    0.0         1.0     122.302907  \n",
       "2   0.0   1.0    0.0         1.0     107.603624  \n",
       "3   0.0   1.0    0.0         1.0     118.433354  \n",
       "4   0.0   1.0    0.0         1.0     114.316820  "
      ]
     },
     "execution_count": 36,
     "metadata": {},
     "output_type": "execute_result"
    }
   ],
   "source": [
    "# run the bones_augmentation function to generate 100 individuals of each species from a normal mass distribution\n",
    "augmented_bones = bones_augmentation(bones, 10, normal = True)\n",
    "augmented_bones.head()"
   ]
  },
  {
   "cell_type": "code",
   "execution_count": 37,
   "metadata": {
    "collapsed": false
   },
   "outputs": [
    {
     "data": {
      "text/html": [
       "<div>\n",
       "<table border=\"1\" class=\"dataframe\">\n",
       "  <thead>\n",
       "    <tr style=\"text-align: right;\">\n",
       "      <th></th>\n",
       "      <th>Fruit</th>\n",
       "      <th>Root</th>\n",
       "      <th>Leaf</th>\n",
       "      <th>Woody</th>\n",
       "      <th>Herbaceous</th>\n",
       "    </tr>\n",
       "  </thead>\n",
       "  <tbody>\n",
       "    <tr>\n",
       "      <th>0</th>\n",
       "      <td>0.0</td>\n",
       "      <td>0.0</td>\n",
       "      <td>1.0</td>\n",
       "      <td>0.0</td>\n",
       "      <td>1.0</td>\n",
       "    </tr>\n",
       "    <tr>\n",
       "      <th>1</th>\n",
       "      <td>0.0</td>\n",
       "      <td>0.0</td>\n",
       "      <td>1.0</td>\n",
       "      <td>0.0</td>\n",
       "      <td>1.0</td>\n",
       "    </tr>\n",
       "    <tr>\n",
       "      <th>2</th>\n",
       "      <td>0.0</td>\n",
       "      <td>0.0</td>\n",
       "      <td>1.0</td>\n",
       "      <td>0.0</td>\n",
       "      <td>1.0</td>\n",
       "    </tr>\n",
       "    <tr>\n",
       "      <th>3</th>\n",
       "      <td>0.0</td>\n",
       "      <td>0.0</td>\n",
       "      <td>1.0</td>\n",
       "      <td>0.0</td>\n",
       "      <td>1.0</td>\n",
       "    </tr>\n",
       "    <tr>\n",
       "      <th>4</th>\n",
       "      <td>0.0</td>\n",
       "      <td>0.0</td>\n",
       "      <td>1.0</td>\n",
       "      <td>0.0</td>\n",
       "      <td>1.0</td>\n",
       "    </tr>\n",
       "  </tbody>\n",
       "</table>\n",
       "</div>"
      ],
      "text/plain": [
       "   Fruit  Root  Leaf  Woody  Herbaceous\n",
       "0    0.0   0.0   1.0    0.0         1.0\n",
       "1    0.0   0.0   1.0    0.0         1.0\n",
       "2    0.0   0.0   1.0    0.0         1.0\n",
       "3    0.0   0.0   1.0    0.0         1.0\n",
       "4    0.0   0.0   1.0    0.0         1.0"
      ]
     },
     "execution_count": 37,
     "metadata": {},
     "output_type": "execute_result"
    }
   ],
   "source": [
    "# make a dataframe of the diet labels for the augmented data\n",
    "aug_diet_labels = augmented_bones[just_diets].copy()\n",
    "aug_diet_labels.head()"
   ]
  },
  {
   "cell_type": "code",
   "execution_count": 38,
   "metadata": {
    "collapsed": false
   },
   "outputs": [
    {
     "data": {
      "text/plain": [
       "<function matplotlib.pyplot.show>"
      ]
     },
     "execution_count": 38,
     "metadata": {},
     "output_type": "execute_result"
    },
    {
     "data": {
      "image/png": "[encoded data removed]",
      "text/plain": [
       "<matplotlib.figure.Figure at 0x7f72c9037a58>"
      ]
     },
     "metadata": {},
     "output_type": "display_data"
    }
   ],
   "source": [
    "%matplotlib inline\n",
    "\n",
    "# This is just an interesting aside to see how the values are distributed in the augmented data.\n",
    "\n",
    "import matplotlib.pyplot as plt # import graphing library\n",
    "\n",
    "augmented_bones.hist(figsize=(20,15), bins=50) # make histograms of the data columns\n",
    "plt.show"
   ]
  },
  {
   "cell_type": "code",
   "execution_count": 39,
   "metadata": {
    "collapsed": false
   },
   "outputs": [],
   "source": [
    "# building the data transformations into a pipeline. Each transformer runs a transform on the data and then passes\n",
    "# the resulting array onto the next transformer\n",
    "aug_pipeline = Pipeline([\n",
    "    ('selector', DataFrameSelector(indiv_bones_and_mass)), # selects the dataframe columns and makes into an array\n",
    "    ('indiv_mass_transform', MassModifier(indiv_transform=True)), \n",
    "    ('imputer', Imputer(strategy='median')), # imputes missing array values and replaces with column medians\n",
    "    ('std_scaler', StandardScaler()) # standardizes all of the values +-[0-1] for better ML goodness\n",
    "])"
   ]
  },
  {
   "cell_type": "code",
   "execution_count": 40,
   "metadata": {
    "collapsed": false
   },
   "outputs": [],
   "source": [
    "# run the augmented dataset through the previously constructed pipeline\n",
    "# \n",
    "augmented_bones_transformed = aug_pipeline.fit_transform(augmented_bones)"
   ]
  },
  {
   "cell_type": "code",
   "execution_count": 41,
   "metadata": {
    "collapsed": false
   },
   "outputs": [
    {
     "name": "stdout",
     "output_type": "stream",
     "text": [
      "Scores: [ 0.41705815  0.42800409  0.60559888  0.47592016  0.70285134  0.35026775\n",
      "  0.39354161  0.33232138  0.76660779  0.65388263]\n",
      "Mean: 0.51260537815\n",
      "Standard deviation: 0.148317990451\n"
     ]
    }
   ],
   "source": [
    "from sklearn.ensemble import RandomForestRegressor\n",
    "forest_reg = RandomForestRegressor()\n",
    "\n",
    "# runs a random forest regressor on the augmented (3200 individuals) data\n",
    "forest_scores = cross_val_score(forest_reg, augmented_bones_transformed, aug_diet_labels, scoring=\"neg_mean_squared_error\", cv=10)\n",
    "forest_rmse_scores = np.sqrt(-forest_scores)\n",
    "display_scores(forest_rmse_scores)"
   ]
  },
  {
   "cell_type": "markdown",
   "metadata": {},
   "source": [
    "So far it looks like the augmentation improves the results substantially. "
   ]
  },
  {
   "cell_type": "markdown",
   "metadata": {},
   "source": [
    "### Fine Tuning the Augmented Analysis\n",
    "\n",
    "The following runs an almost identical grid search with the augmented data"
   ]
  },
  {
   "cell_type": "code",
   "execution_count": 42,
   "metadata": {
    "collapsed": true
   },
   "outputs": [],
   "source": [
    "all_features = list(range(1, 59))\n",
    "\n",
    "param_grid = [\n",
    "    {'n_estimators': [3, 10, 30,], 'max_features': all_features},\n",
    "    {'bootstrap': [False], 'n_estimators': [3, 10, 30], 'max_features': all_features}\n",
    "]\n",
    "\n",
    "forest_reg = RandomForestRegressor()\n",
    "grid_search = GridSearchCV(forest_reg, param_grid, cv=5, scoring='neg_mean_squared_error')"
   ]
  },
  {
   "cell_type": "code",
   "execution_count": 43,
   "metadata": {
    "collapsed": false
   },
   "outputs": [
    {
     "data": {
      "text/plain": [
       "GridSearchCV(cv=5, error_score='raise',\n",
       "       estimator=RandomForestRegressor(bootstrap=True, criterion='mse', max_depth=None,\n",
       "           max_features='auto', max_leaf_nodes=None,\n",
       "           min_impurity_split=1e-07, min_samples_leaf=1,\n",
       "           min_samples_split=2, min_weight_fraction_leaf=0.0,\n",
       "           n_estimators=10, n_jobs=1, oob_score=False, random_state=None,\n",
       "           verbose=0, warm_start=False),\n",
       "       fit_params={}, iid=True, n_jobs=1,\n",
       "       param_grid=[{'n_estimators': [3, 10, 30], 'max_features': [1, 2, 3, 4, 5, 6, 7, 8, 9, 10, 11, 12, 13, 14, 15, 16, 17, 18, 19, 20, 21, 22, 23, 24, 25, 26, 27, 28, 29, 30, 31, 32, 33, 34, 35, 36, 37, 38, 39, 40, 41, 42, 43, 44, 45, 46, 47, 48, 49, 50, 51, 52, 53, 54, 55, 56, 57, 58]}, {'n_estimators':...4, 35, 36, 37, 38, 39, 40, 41, 42, 43, 44, 45, 46, 47, 48, 49, 50, 51, 52, 53, 54, 55, 56, 57, 58]}],\n",
       "       pre_dispatch='2*n_jobs', refit=True, return_train_score=True,\n",
       "       scoring='neg_mean_squared_error', verbose=0)"
      ]
     },
     "execution_count": 43,
     "metadata": {},
     "output_type": "execute_result"
    }
   ],
   "source": [
    "grid_search.fit(augmented_bones_transformed, aug_diet_labels)"
   ]
  },
  {
   "cell_type": "code",
   "execution_count": 44,
   "metadata": {
    "collapsed": false
   },
   "outputs": [
    {
     "data": {
      "text/plain": [
       "{'bootstrap': False, 'max_features': 4, 'n_estimators': 30}"
      ]
     },
     "execution_count": 44,
     "metadata": {},
     "output_type": "execute_result"
    }
   ],
   "source": [
    "grid_search.best_params_"
   ]
  },
  {
   "cell_type": "code",
   "execution_count": 45,
   "metadata": {
    "collapsed": false
   },
   "outputs": [
    {
     "data": {
      "text/plain": [
       "RandomForestRegressor(bootstrap=False, criterion='mse', max_depth=None,\n",
       "           max_features=4, max_leaf_nodes=None, min_impurity_split=1e-07,\n",
       "           min_samples_leaf=1, min_samples_split=2,\n",
       "           min_weight_fraction_leaf=0.0, n_estimators=30, n_jobs=1,\n",
       "           oob_score=False, random_state=None, verbose=0, warm_start=False)"
      ]
     },
     "execution_count": 45,
     "metadata": {},
     "output_type": "execute_result"
    }
   ],
   "source": [
    "grid_search.best_estimator_"
   ]
  },
  {
   "cell_type": "code",
   "execution_count": 46,
   "metadata": {
    "collapsed": false
   },
   "outputs": [
    {
     "data": {
      "text/plain": [
       "[(0.051938177221068055, 'mass_max_kg'),\n",
       " (0.036202209426064703, 'scapula_D'),\n",
       " (0.029090259983105327, 'fore_p1_iii'),\n",
       " (0.027451321507682248, 'tibia_length (c)'),\n",
       " (0.027440931501147754, 'scapula_B'),\n",
       " (0.026269788277527815, 'humerus_promixal_B'),\n",
       " (0.026090333067981839, 'tibia_distal_A'),\n",
       " (0.025889988200917081, 'RU_proximal_A'),\n",
       " (0.024813353303756724, 'femur_distal_A'),\n",
       " (0.024583057587873915, 'metatarsal_overall'),\n",
       " (0.0244218317028339, 'ulna_proximal_A'),\n",
       " (0.023939407919008657, 'mass_min_kg'),\n",
       " (0.023531190192392963, 'metatarsal_D'),\n",
       " (0.023338886066807906, 'pelvis_D'),\n",
       " (0.02264235434951866, 'pelvis_C'),\n",
       " (0.022576573893912447, 'femur_length'),\n",
       " (0.021762644706813581, 'femur_promixal_B'),\n",
       " (0.021606668418206933, 'RU_length_T'),\n",
       " (0.021550922449386101, 'tibia_proximal_A'),\n",
       " (0.020335946952900488, 'hind_p1_iii'),\n",
       " (0.020121395658921178, 'humerus_distal_B'),\n",
       " (0.019724196415077291, 'calcaneum_length_A'),\n",
       " (0.018071071447841373, 'fore_p2_iii'),\n",
       " (0.017637142041163258, 'pelvis_B'),\n",
       " (0.017601934710914667, 'tibia_proximal_B'),\n",
       " (0.017539291254423127, 'vertebrae_c7_female_A'),\n",
       " (0.016534495870520364, 'metacarpal_B'),\n",
       " (0.016336661069691241, 'ulna_proximal_B'),\n",
       " (0.01603696211697981, 'metacarpal_overall'),\n",
       " (0.015743275106188837, 'vertebrae_atlas_female_B ( or no sex)'),\n",
       " (0.015418041823638593, 'humerus_distal_A'),\n",
       " (0.01538462078289524, 'RU_distal_A_T'),\n",
       " (0.014937717700684671, 'vertebrae_axis_female_A (or no sex) '),\n",
       " (0.014281645831319519, 'hind_p2_iii'),\n",
       " (0.013556108108700771, 'metacarpal_A'),\n",
       " (0.013201349817389289, 'hind_p3_iii'),\n",
       " (0.012424699993174743, 'scapula_C'),\n",
       " (0.012242934061451282, 'humerus_length_C'),\n",
       " (0.011606072804576095, 'humerus_proximal_A'),\n",
       " (0.0096888087019164956, 'vertebrae_c7_female_B'),\n",
       " (0.0093245859686685046, 'ulna_length (c) '),\n",
       " (0.0089943270141604244, 'femur_distal_B'),\n",
       " (0.0082542783248267439, 'patella_length'),\n",
       " (0.0082497853848342538, 'femur_proximal_A'),\n",
       " (0.0081442808514376446, 'fore_p3_iii'),\n",
       " (0.0078778273015870405, 'astragalus'),\n",
       " (0.0072043560099626907, 'vertebrae_atlas_female_C ( or no sex)'),\n",
       " (0.0068064112255214497, 'metatarsal_C'),\n",
       " (0.0066823118855201509, 'tibia_distal_B'),\n",
       " (0.0065581505334722182, 'pelvis_A'),\n",
       " (0.006158938359381359, 'vertebrae_atlas_female_A ( or no sex)'),\n",
       " (0.0057885616332733663, 'scapula_A'),\n",
       " (0.0057605556556193952, 'calcaneum_B'),\n",
       " (0.005579309954674044, 'vertebrae_c7_female_C'),\n",
       " (0.0044565345101966478, 'vertebrae_c3_female_A'),\n",
       " (0.0040165422142598647, 'vertebrae_c3_female_B'),\n",
       " (0.0033063382866111487, 'vertebrae_axis_female_B (or no sex) '),\n",
       " (0.0032249549689553052, 'vertebrae_c3_female_C')]"
      ]
     },
     "execution_count": 46,
     "metadata": {},
     "output_type": "execute_result"
    }
   ],
   "source": [
    "# We can explore the grid search results to see which features were most important in the model\n",
    "feature_importances = grid_search.best_estimator_.feature_importances_\n",
    "sorted(zip(feature_importances, bones_and_mass), reverse=True)"
   ]
  },
  {
   "cell_type": "markdown",
   "metadata": {
    "collapsed": true
   },
   "source": [
    "### to do\n",
    "corr_matrix = bones_tr.corr()\n",
    "corr_matrix['mean_mass_kg'].sort_values(ascending=False)\n",
    "some species only have a single mass value\n",
    "def div_by_mass(data_set):\n",
    "    for k in range(len(data_set)):\n",
    "        mass = data_set[k, 'mass_indiv_kg']\n",
    "        data_set[k, just_bones] = data_set[k, just_bones] / mass\n",
    "    return data_set"
   ]
  },
  {
   "cell_type": "code",
   "execution_count": null,
   "metadata": {
    "collapsed": true
   },
   "outputs": [],
   "source": []
  }
 ],
 "metadata": {
  "kernelspec": {
   "display_name": "Python 3",
   "language": "python",
   "name": "python3"
  },
  "language_info": {
   "codemirror_mode": {
    "name": "ipython",
    "version": 3
   },
   "file_extension": ".py",
   "mimetype": "text/x-python",
   "name": "python",
   "nbconvert_exporter": "python",
   "pygments_lexer": "ipython3",
   "version": "3.5.2"
  }
 },
 "nbformat": 4,
 "nbformat_minor": 2
}
